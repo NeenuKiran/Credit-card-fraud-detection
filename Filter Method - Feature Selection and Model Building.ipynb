{
 "cells": [
  {
   "cell_type": "code",
   "execution_count": 12,
   "metadata": {},
   "outputs": [],
   "source": [
    "import pandas as pd\n",
    "import numpy as np\n",
    "\n",
    "import seaborn as sns\n",
    "import matplotlib.pyplot as plt\n",
    "%matplotlib inline\n",
    "\n",
    "from sklearn.feature_selection import VarianceThreshold,mutual_info_classif,SelectKBest,SelectFromModel\n",
    "from mlxtend.feature_selection import SequentialFeatureSelector\n",
    "\n",
    "from imblearn.pipeline import make_pipeline\n",
    "from imblearn.over_sampling import SMOTE\n",
    "from imblearn.under_sampling import RandomUnderSampler\n",
    "\n",
    "from sklearn.linear_model import SGDClassifier\n",
    "from sklearn.ensemble import RandomForestClassifier\n",
    "\n",
    "from sklearn.model_selection import  GridSearchCV,cross_val_score,TimeSeriesSplit\n",
    "\n",
    "import sklearn.metrics as metrics\n",
    "from sklearn.metrics import confusion_matrix, recall_score, precision_score, roc_auc_score,roc_curve, auc,matthews_corrcoef"
   ]
  },
  {
   "cell_type": "code",
   "execution_count": 81,
   "metadata": {},
   "outputs": [],
   "source": [
    "X_train=pd.read_csv('X_train2.csv',index_col=[0])\n",
    "Y_train=pd.read_csv('Y_train2.csv',index_col=[0])\n",
    "X_test=pd.read_csv('X_test2.csv',index_col=[0])\n",
    "Y_test=pd.read_csv('Y_test2.csv',index_col=[0])"
   ]
  },
  {
   "cell_type": "code",
   "execution_count": 27,
   "metadata": {},
   "outputs": [
    {
     "data": {
      "text/plain": [
       "(472432, 1)"
      ]
     },
     "execution_count": 27,
     "metadata": {},
     "output_type": "execute_result"
    }
   ],
   "source": [
    "Y_train.shape"
   ]
  },
  {
   "cell_type": "code",
   "execution_count": 34,
   "metadata": {},
   "outputs": [
    {
     "name": "stdout",
     "output_type": "stream",
     "text": [
      "Index(['ProductCD', 'card6', 'addr2', 'D7', 'D8', 'V202', 'V203', 'V263',\n",
      "       'V264', 'V331', 'id_03', 'id_07', 'id_14', 'id_16', 'id_18', 'id_35',\n",
      "       'id_38', 'Logcard3', 'OS_id_30', 'device_name'],\n",
      "      dtype='object')\n"
     ]
    }
   ],
   "source": [
    "##selecting features based on mutual information(univariate analysis)\n",
    "select_k = 20\n",
    "selection = SelectKBest(mutual_info_classif, k=select_k).fit(X_train, Y_train.values.ravel())\n",
    "X_trainfilter = X_train.columns[selection.get_support()]\n",
    "print(X_trainfilter)"
   ]
  },
  {
   "cell_type": "code",
   "execution_count": 35,
   "metadata": {},
   "outputs": [],
   "source": [
    "X_trainfiltered=selection.transform(X_train)\n",
    "X_testfiltered=selection.transform(X_test)"
   ]
  },
  {
   "cell_type": "code",
   "execution_count": 36,
   "metadata": {},
   "outputs": [],
   "source": [
    "X_trainfiltered=pd.DataFrame(X_trainfiltered)\n",
    "X_testfiltered=pd.DataFrame(X_testfiltered)"
   ]
  },
  {
   "cell_type": "code",
   "execution_count": 37,
   "metadata": {},
   "outputs": [
    {
     "data": {
      "text/plain": [
       "((118108, 20), (118108, 1))"
      ]
     },
     "execution_count": 37,
     "metadata": {},
     "output_type": "execute_result"
    }
   ],
   "source": [
    "X_testfiltered.shape,Y_test.shape"
   ]
  },
  {
   "cell_type": "code",
   "execution_count": 38,
   "metadata": {},
   "outputs": [],
   "source": [
    "trainfilter=pd.concat([Y_train,X_trainfiltered],axis=1)"
   ]
  },
  {
   "cell_type": "code",
   "execution_count": 39,
   "metadata": {},
   "outputs": [
    {
     "data": {
      "text/plain": [
       "(472432, 21)"
      ]
     },
     "execution_count": 39,
     "metadata": {},
     "output_type": "execute_result"
    }
   ],
   "source": [
    "trainfilter.shape"
   ]
  },
  {
   "cell_type": "code",
   "execution_count": 40,
   "metadata": {},
   "outputs": [],
   "source": [
    "##resampling of training set (SMOTE and Random Undersampling)\n",
    "pipe = make_pipeline(\n",
    "    SMOTE(sampling_strategy=0.2),\n",
    "    RandomUnderSampler(sampling_strategy=0.9)           \n",
    ")"
   ]
  },
  {
   "cell_type": "code",
   "execution_count": 41,
   "metadata": {},
   "outputs": [
    {
     "data": {
      "text/plain": [
       "isFraud    0.033901\n",
       "dtype: float64"
      ]
     },
     "execution_count": 41,
     "metadata": {},
     "output_type": "execute_result"
    }
   ],
   "source": [
    "X_trainfiltered.var()\n",
    "Y_train.var()"
   ]
  },
  {
   "cell_type": "code",
   "execution_count": 42,
   "metadata": {},
   "outputs": [],
   "source": [
    "X_ftrain,Y_ftrain=pipe.fit_resample(X_trainfiltered,Y_train)"
   ]
  },
  {
   "cell_type": "code",
   "execution_count": 43,
   "metadata": {},
   "outputs": [],
   "source": [
    "X_ftrain=pd.DataFrame(X_ftrain)\n",
    "Y_ftrain=pd.DataFrame(Y_ftrain)"
   ]
  },
  {
   "cell_type": "code",
   "execution_count": 71,
   "metadata": {},
   "outputs": [],
   "source": [
    "train_filter_=pd.concat([X_ftrain,Y_ftrain],axis=1)\n",
    "# Shuffle dataframe rows\n",
    "trainfilter = train_filter_.sample(frac=1, random_state=60)"
   ]
  },
  {
   "cell_type": "code",
   "execution_count": 72,
   "metadata": {},
   "outputs": [],
   "source": [
    "X_filtertrain = trainfilter.drop('isFraud', axis=1)\n",
    "Y_filtertrain=trainfilter['isFraud']"
   ]
  },
  {
   "cell_type": "code",
   "execution_count": 73,
   "metadata": {},
   "outputs": [],
   "source": [
    "X_filtertest=X_testfiltered\n",
    "Y_filtertest=Y_test"
   ]
  },
  {
   "cell_type": "code",
   "execution_count": 74,
   "metadata": {},
   "outputs": [
    {
     "data": {
      "text/plain": [
       "((192461, 20), (192461,), (118108, 20), (118108, 1))"
      ]
     },
     "execution_count": 74,
     "metadata": {},
     "output_type": "execute_result"
    }
   ],
   "source": [
    "X_filtertrain.shape,Y_filtertrain.shape,X_filtertest.shape,Y_filtertest.shape"
   ]
  },
  {
   "cell_type": "code",
   "execution_count": 48,
   "metadata": {},
   "outputs": [],
   "source": [
    "#SGDClassifier"
   ]
  },
  {
   "cell_type": "code",
   "execution_count": 50,
   "metadata": {},
   "outputs": [],
   "source": [
    "#first standardize the data\n",
    "from sklearn.preprocessing import StandardScaler\n",
    "sc = StandardScaler()\n",
    "X_filtertrain = sc.fit_transform(X_filtertrain)\n",
    "\n",
    "X_filtertest = sc.fit_transform(X_filtertest)"
   ]
  },
  {
   "cell_type": "code",
   "execution_count": 51,
   "metadata": {},
   "outputs": [],
   "source": [
    "#lets try with first default value\n",
    "clf = SGDClassifier(loss=\"log\")\n",
    "clf.fit(X_filtertrain,Y_filtertrain)\n",
    "y_trainpred=clf.predict_proba(X_filtertrain)\n",
    "y_testpred = clf.predict_proba(X_filtertest)"
   ]
  },
  {
   "cell_type": "code",
   "execution_count": 52,
   "metadata": {},
   "outputs": [
    {
     "name": "stdout",
     "output_type": "stream",
     "text": [
      "train auc with default parameter: 0.7254896625067615\n",
      "test auc with default parameter: 0.7225452008162617\n"
     ]
    }
   ],
   "source": [
    "#auc score with deafult value\n",
    "print('train auc with default parameter:',roc_auc_score(Y_filtertrain,y_trainpred[:,1]))\n",
    "print('test auc with default parameter:',roc_auc_score(Y_filtertest,y_testpred[:,1]))"
   ]
  },
  {
   "cell_type": "code",
   "execution_count": 53,
   "metadata": {},
   "outputs": [],
   "source": [
    "#GridSearchCV with Timeseries\n",
    "\n",
    "time_splitter_outer = TimeSeriesSplit(n_splits = 5)\n",
    "time_splitter_inner = TimeSeriesSplit(n_splits = 5)\n",
    "\n",
    "model = SGDClassifier(loss=\"log\")\n",
    "params = {\n",
    "         'alpha':[10**-6,10**-5,10**-4,10**-3,10**-2,10**-1,10**0,10**1,10**2,10**3],\n",
    "         'penalty':['l1','l2']\n",
    "         }\n",
    "\n",
    "gs_SD = GridSearchCV(model, param_grid = params, cv = time_splitter_inner, scoring = 'roc_auc',verbose=10, n_jobs=-1)"
   ]
  },
  {
   "cell_type": "code",
   "execution_count": 54,
   "metadata": {},
   "outputs": [
    {
     "name": "stdout",
     "output_type": "stream",
     "text": [
      "Fitting 5 folds for each of 20 candidates, totalling 100 fits\n"
     ]
    },
    {
     "name": "stderr",
     "output_type": "stream",
     "text": [
      "[Parallel(n_jobs=-1)]: Using backend LokyBackend with 8 concurrent workers.\n",
      "[Parallel(n_jobs=-1)]: Done   2 tasks      | elapsed:    3.1s\n",
      "[Parallel(n_jobs=-1)]: Done   9 tasks      | elapsed:    5.5s\n",
      "[Parallel(n_jobs=-1)]: Done  16 tasks      | elapsed:    6.7s\n",
      "[Parallel(n_jobs=-1)]: Done  25 tasks      | elapsed:    7.8s\n",
      "[Parallel(n_jobs=-1)]: Done  34 tasks      | elapsed:    8.5s\n",
      "[Parallel(n_jobs=-1)]: Done  45 tasks      | elapsed:    9.1s\n",
      "[Parallel(n_jobs=-1)]: Done  56 tasks      | elapsed:    9.5s\n",
      "[Parallel(n_jobs=-1)]: Done  69 tasks      | elapsed:   10.2s\n",
      "[Parallel(n_jobs=-1)]: Done  82 tasks      | elapsed:   10.6s\n",
      "[Parallel(n_jobs=-1)]: Done  96 out of 100 | elapsed:   11.2s remaining:    0.5s\n",
      "[Parallel(n_jobs=-1)]: Done 100 out of 100 | elapsed:   11.3s finished\n"
     ]
    },
    {
     "data": {
      "text/plain": [
       "GridSearchCV(cv=TimeSeriesSplit(max_train_size=None, n_splits=5),\n",
       "             estimator=SGDClassifier(loss='log'), n_jobs=-1,\n",
       "             param_grid={'alpha': [1e-06, 1e-05, 0.0001, 0.001, 0.01, 0.1, 1,\n",
       "                                   10, 100, 1000],\n",
       "                         'penalty': ['l1', 'l2']},\n",
       "             scoring='roc_auc', verbose=10)"
      ]
     },
     "execution_count": 54,
     "metadata": {},
     "output_type": "execute_result"
    }
   ],
   "source": [
    "gs_SD.fit(X_filtertrain,Y_filtertrain)"
   ]
  },
  {
   "cell_type": "code",
   "execution_count": 55,
   "metadata": {},
   "outputs": [
    {
     "name": "stdout",
     "output_type": "stream",
     "text": [
      "Fitting 5 folds for each of 20 candidates, totalling 100 fits\n"
     ]
    },
    {
     "name": "stderr",
     "output_type": "stream",
     "text": [
      "[Parallel(n_jobs=-1)]: Using backend LokyBackend with 8 concurrent workers.\n",
      "[Parallel(n_jobs=-1)]: Batch computation too fast (0.1465s.) Setting batch_size=2.\n",
      "[Parallel(n_jobs=-1)]: Done   2 tasks      | elapsed:    0.2s\n",
      "[Parallel(n_jobs=-1)]: Done   9 tasks      | elapsed:    0.7s\n",
      "[Parallel(n_jobs=-1)]: Done  17 tasks      | elapsed:    1.1s\n",
      "[Parallel(n_jobs=-1)]: Done  34 tasks      | elapsed:    1.4s\n",
      "[Parallel(n_jobs=-1)]: Done  52 tasks      | elapsed:    1.5s\n",
      "[Parallel(n_jobs=-1)]: Done  74 tasks      | elapsed:    1.7s\n",
      "[Parallel(n_jobs=-1)]: Done 100 out of 100 | elapsed:    1.8s finished\n"
     ]
    },
    {
     "name": "stdout",
     "output_type": "stream",
     "text": [
      "Fitting 5 folds for each of 20 candidates, totalling 100 fits\n"
     ]
    },
    {
     "name": "stderr",
     "output_type": "stream",
     "text": [
      "[Parallel(n_jobs=-1)]: Using backend LokyBackend with 8 concurrent workers.\n",
      "[Parallel(n_jobs=-1)]: Done   2 tasks      | elapsed:    0.4s\n",
      "[Parallel(n_jobs=-1)]: Done   9 tasks      | elapsed:    1.4s\n",
      "[Parallel(n_jobs=-1)]: Done  16 tasks      | elapsed:    2.0s\n",
      "[Parallel(n_jobs=-1)]: Done  25 tasks      | elapsed:    2.5s\n",
      "[Parallel(n_jobs=-1)]: Done  34 tasks      | elapsed:    2.7s\n",
      "[Parallel(n_jobs=-1)]: Done  45 tasks      | elapsed:    2.9s\n",
      "[Parallel(n_jobs=-1)]: Done  56 tasks      | elapsed:    3.0s\n",
      "[Parallel(n_jobs=-1)]: Done  69 tasks      | elapsed:    3.2s\n",
      "[Parallel(n_jobs=-1)]: Batch computation too fast (0.1919s.) Setting batch_size=2.\n",
      "[Parallel(n_jobs=-1)]: Done  82 tasks      | elapsed:    3.4s\n",
      "[Parallel(n_jobs=-1)]: Done  96 out of 100 | elapsed:    3.5s remaining:    0.1s\n",
      "[Parallel(n_jobs=-1)]: Done 100 out of 100 | elapsed:    3.6s finished\n"
     ]
    },
    {
     "name": "stdout",
     "output_type": "stream",
     "text": [
      "Fitting 5 folds for each of 20 candidates, totalling 100 fits\n"
     ]
    },
    {
     "name": "stderr",
     "output_type": "stream",
     "text": [
      "[Parallel(n_jobs=-1)]: Using backend LokyBackend with 8 concurrent workers.\n",
      "[Parallel(n_jobs=-1)]: Done   2 tasks      | elapsed:    0.7s\n",
      "[Parallel(n_jobs=-1)]: Done   9 tasks      | elapsed:    2.2s\n",
      "[Parallel(n_jobs=-1)]: Done  16 tasks      | elapsed:    3.3s\n",
      "[Parallel(n_jobs=-1)]: Done  25 tasks      | elapsed:    4.0s\n",
      "[Parallel(n_jobs=-1)]: Done  34 tasks      | elapsed:    4.4s\n",
      "[Parallel(n_jobs=-1)]: Done  45 tasks      | elapsed:    4.7s\n",
      "[Parallel(n_jobs=-1)]: Done  56 tasks      | elapsed:    5.0s\n",
      "[Parallel(n_jobs=-1)]: Done  69 tasks      | elapsed:    5.3s\n",
      "[Parallel(n_jobs=-1)]: Done  82 tasks      | elapsed:    5.6s\n",
      "[Parallel(n_jobs=-1)]: Done  96 out of 100 | elapsed:    6.0s remaining:    0.2s\n",
      "[Parallel(n_jobs=-1)]: Done 100 out of 100 | elapsed:    6.6s finished\n"
     ]
    },
    {
     "name": "stdout",
     "output_type": "stream",
     "text": [
      "Fitting 5 folds for each of 20 candidates, totalling 100 fits\n"
     ]
    },
    {
     "name": "stderr",
     "output_type": "stream",
     "text": [
      "[Parallel(n_jobs=-1)]: Using backend LokyBackend with 8 concurrent workers.\n",
      "[Parallel(n_jobs=-1)]: Done   2 tasks      | elapsed:    0.9s\n",
      "[Parallel(n_jobs=-1)]: Done   9 tasks      | elapsed:    2.9s\n",
      "[Parallel(n_jobs=-1)]: Done  16 tasks      | elapsed:    4.1s\n",
      "[Parallel(n_jobs=-1)]: Done  25 tasks      | elapsed:    4.8s\n",
      "[Parallel(n_jobs=-1)]: Done  34 tasks      | elapsed:    5.4s\n",
      "[Parallel(n_jobs=-1)]: Done  45 tasks      | elapsed:    5.7s\n",
      "[Parallel(n_jobs=-1)]: Done  56 tasks      | elapsed:    6.0s\n",
      "[Parallel(n_jobs=-1)]: Done  69 tasks      | elapsed:    6.4s\n",
      "[Parallel(n_jobs=-1)]: Done  82 tasks      | elapsed:    6.7s\n",
      "[Parallel(n_jobs=-1)]: Done  96 out of 100 | elapsed:    7.1s remaining:    0.3s\n",
      "[Parallel(n_jobs=-1)]: Done 100 out of 100 | elapsed:    7.2s finished\n"
     ]
    },
    {
     "name": "stdout",
     "output_type": "stream",
     "text": [
      "Fitting 5 folds for each of 20 candidates, totalling 100 fits\n"
     ]
    },
    {
     "name": "stderr",
     "output_type": "stream",
     "text": [
      "[Parallel(n_jobs=-1)]: Using backend LokyBackend with 8 concurrent workers.\n",
      "[Parallel(n_jobs=-1)]: Done   2 tasks      | elapsed:    1.6s\n",
      "[Parallel(n_jobs=-1)]: Done   9 tasks      | elapsed:    3.4s\n",
      "[Parallel(n_jobs=-1)]: Done  16 tasks      | elapsed:    4.4s\n",
      "[Parallel(n_jobs=-1)]: Done  25 tasks      | elapsed:    5.4s\n",
      "[Parallel(n_jobs=-1)]: Done  34 tasks      | elapsed:    5.9s\n",
      "[Parallel(n_jobs=-1)]: Done  45 tasks      | elapsed:    6.4s\n",
      "[Parallel(n_jobs=-1)]: Done  56 tasks      | elapsed:    6.7s\n",
      "[Parallel(n_jobs=-1)]: Done  69 tasks      | elapsed:    7.2s\n",
      "[Parallel(n_jobs=-1)]: Done  82 tasks      | elapsed:    7.6s\n",
      "[Parallel(n_jobs=-1)]: Done  96 out of 100 | elapsed:    8.1s remaining:    0.3s\n",
      "[Parallel(n_jobs=-1)]: Done 100 out of 100 | elapsed:    8.2s finished\n"
     ]
    },
    {
     "name": "stdout",
     "output_type": "stream",
     "text": [
      "0.7272662945086459\n"
     ]
    }
   ],
   "source": [
    "SDG_scores = cross_val_score(gs_SD,X_filtertrain,Y_filtertrain, cv = time_splitter_outer, scoring = 'roc_auc').mean()\n",
    "print(SDG_scores)"
   ]
  },
  {
   "cell_type": "code",
   "execution_count": 82,
   "metadata": {},
   "outputs": [],
   "source": [
    "# Best values of the hyperparameters\n",
    "penalty_best = gs_SD.best_estimator_.penalty\n",
    "alpha_best = gs_SD.best_estimator_.alpha"
   ]
  },
  {
   "cell_type": "code",
   "execution_count": 57,
   "metadata": {},
   "outputs": [
    {
     "data": {
      "text/plain": [
       "SGDClassifier(alpha=0.01, loss='log')"
      ]
     },
     "execution_count": 57,
     "metadata": {},
     "output_type": "execute_result"
    }
   ],
   "source": [
    "SGD = SGDClassifier(penalty=penalty_best,alpha = alpha_best,loss='log')\n",
    "SGD.fit(X_filtertrain,Y_filtertrain)"
   ]
  },
  {
   "cell_type": "code",
   "execution_count": 58,
   "metadata": {},
   "outputs": [
    {
     "name": "stdout",
     "output_type": "stream",
     "text": [
      "train auc: 0.7271318035329892\n",
      "test auc: 0.7228187884970217\n"
     ]
    }
   ],
   "source": [
    "#auc after parameter tuning\n",
    "y_trainpredprobfiltersd=SGD.predict_proba(X_filtertrain)\n",
    "y_testpredprobfiltersd =SGD.predict_proba(X_filtertest)\n",
    "print('train auc:',roc_auc_score(Y_filtertrain,y_trainpredprobfiltersd[:,1]))\n",
    "print('test auc:',roc_auc_score(Y_filtertest,y_testpredprobfiltersd[:,1]))"
   ]
  },
  {
   "cell_type": "code",
   "execution_count": 59,
   "metadata": {},
   "outputs": [
    {
     "data": {
      "image/png": "[encoded data removed]",
      "text/plain": [
       "<Figure size 576x432 with 1 Axes>"
      ]
     },
     "metadata": {
      "needs_background": "light"
     },
     "output_type": "display_data"
    }
   ],
   "source": [
    "plt.figure(figsize=(8,6))\n",
    "# auc of train\n",
    "fpr, tpr, thresh = roc_curve(Y_filtertrain,y_trainpredprobfiltersd[:,1])\n",
    "auc = roc_auc_score(Y_filtertrain, y_trainpredprobfiltersd[:,1])\n",
    "plt.plot(fpr,tpr,label=\"train, auc=\"+str(round(auc,4)))\n",
    "# auc of test\n",
    "fpr, tpr, thresh = roc_curve(Y_filtertest,  y_testpredprobfiltersd[:,1])\n",
    "auc = roc_auc_score(Y_filtertest,  y_testpredprobfiltersd [:,1])\n",
    "plt.plot(fpr,tpr,label=\"test, auc=\"+str(round(auc,4)))\n",
    "plt.plot([0, 1], [0, 1], 'k--')\n",
    "plt.legend(loc=0)\n",
    "plt.xlabel('False Positive Rate')\n",
    "plt.ylabel('True Positive Rate')\n",
    "plt.title('Tuned SGD- Receiver operating characteristic')\n",
    "plt.show()"
   ]
  },
  {
   "cell_type": "code",
   "execution_count": 62,
   "metadata": {},
   "outputs": [
    {
     "data": {
      "image/png": "[encoded data removed]",
      "text/plain": [
       "<Figure size 576x432 with 2 Axes>"
      ]
     },
     "metadata": {
      "needs_background": "light"
     },
     "output_type": "display_data"
    }
   ],
   "source": [
    "y_scores = y_testpredprobfiltersd [:,1]\n",
    "fpr, tpr, thresholds = roc_curve(Y_filtertest, y_scores)\n",
    "# auc(fpr, tpr) # auc has been assigned as a variable by the above plot's code\n",
    "plt.figure(figsize=(8,6))\n",
    "plt.plot(fpr, tpr, label='ROC curve (area = %0.2f)' % (auc))\n",
    "plt.plot([0, 1], [0, 1], 'k--')\n",
    "plt.xlim([0.0, 1.0])\n",
    "plt.ylim([0.0, 1.02])\n",
    "plt.xlabel('False Positive Rate')\n",
    "plt.ylabel('True Positive Rate')\n",
    "plt.title('Tuned SGD - Receiver operating characteristic')\n",
    "plt.legend(loc=\"best\")\n",
    "\n",
    "# create the axis of thresholds (scores)\n",
    "ax2 = plt.gca().twinx()\n",
    "ax2.plot(fpr, thresholds, markeredgecolor='r',linestyle='dashed', color='r')\n",
    "ax2.set_ylabel('Threshold',color='r')\n",
    "ax2.set_ylim([thresholds[-1],1])\n",
    "ax2.set_xlim([fpr[0],fpr[-1]])\n",
    "plt.show()\n",
    "# plt.axhline(y=0.0, c=\"r\", ls=\"--\", lw=2)\n",
    "# plt.axvline(x=4.0, c=\"r\", ls=\"--\", lw=2)"
   ]
  },
  {
   "cell_type": "code",
   "execution_count": 63,
   "metadata": {},
   "outputs": [],
   "source": [
    "y_trainpredfiltersd=SGD.predict(X_filtertrain)\n",
    "y_testpredfiltersd= SGD.predict(X_filtertest)"
   ]
  },
  {
   "cell_type": "code",
   "execution_count": 64,
   "metadata": {},
   "outputs": [
    {
     "name": "stdout",
     "output_type": "stream",
     "text": [
      "Accuracy:\n",
      " 0.6982253530666848\n",
      "Recall:\n",
      " 0.6680610236220472\n"
     ]
    }
   ],
   "source": [
    "print(\"Accuracy:\\n\",metrics.accuracy_score(Y_filtertest,y_testpredfiltersd))\n",
    "print(\"Recall:\\n\",metrics.recall_score(Y_filtertest,y_testpredfiltersd))"
   ]
  },
  {
   "cell_type": "code",
   "execution_count": 65,
   "metadata": {},
   "outputs": [],
   "source": [
    "#Confusion Matrix \n",
    "cm_train = confusion_matrix(Y_filtertrain,y_trainpredfiltersd)\n",
    "cm_test  =confusion_matrix(Y_filtertest,y_testpredfiltersd)"
   ]
  },
  {
   "cell_type": "code",
   "execution_count": 66,
   "metadata": {},
   "outputs": [
    {
     "data": {
      "text/plain": [
       "Text(0.5, 1.0, 'test')"
      ]
     },
     "execution_count": 66,
     "metadata": {},
     "output_type": "execute_result"
    },
    {
     "data": {
      "image/png": "[encoded data removed]",
      "text/plain": [
       "<Figure size 864x360 with 4 Axes>"
      ]
     },
     "metadata": {
      "needs_background": "light"
     },
     "output_type": "display_data"
    }
   ],
   "source": [
    "plt.figure(figsize=(12,5))\n",
    "plt.subplot(1,2,1)\n",
    "sns.heatmap(cm_train,annot=True,fmt='.2f')\n",
    "plt.title('Train')\n",
    "plt.subplot(1,2,2)\n",
    "sns.heatmap(cm_test,annot=True,fmt='.2f')\n",
    "plt.title('test')"
   ]
  },
  {
   "cell_type": "code",
   "execution_count": 67,
   "metadata": {},
   "outputs": [
    {
     "data": {
      "text/plain": [
       "0.1443604513796723"
      ]
     },
     "execution_count": 67,
     "metadata": {},
     "output_type": "execute_result"
    }
   ],
   "source": [
    "#matthews correlation coefficient\n",
    "matthews_corrcoef(Y_filtertrain, y_trainpredfiltersd)\n",
    "matthews_corrcoef(Y_filtertest, y_testpredfiltersd)"
   ]
  },
  {
   "cell_type": "code",
   "execution_count": null,
   "metadata": {},
   "outputs": [],
   "source": []
  },
  {
   "cell_type": "code",
   "execution_count": 68,
   "metadata": {},
   "outputs": [],
   "source": [
    "#Random forest"
   ]
  },
  {
   "cell_type": "code",
   "execution_count": 76,
   "metadata": {},
   "outputs": [],
   "source": [
    "# with default paramter\n",
    "clf = RandomForestClassifier()\n",
    "clf.fit(X_filtertrain,Y_filtertrain)\n",
    "y_trainpred=clf.predict_proba(X_filtertrain)\n",
    "y_testpred = clf.predict_proba(X_filtertest)"
   ]
  },
  {
   "cell_type": "code",
   "execution_count": 77,
   "metadata": {},
   "outputs": [
    {
     "name": "stdout",
     "output_type": "stream",
     "text": [
      "train auc with default parameter: 0.866366779663897\n",
      "test auc with default parameter: 0.6998163822562476\n"
     ]
    }
   ],
   "source": [
    "# auc with default parameters\n",
    "print('train auc with default parameter:',roc_auc_score(Y_filtertrain,y_trainpred[:,1]))\n",
    "print('test auc with default parameter:',roc_auc_score(Y_filtertest,y_testpred[:,1]))"
   ]
  },
  {
   "cell_type": "code",
   "execution_count": 78,
   "metadata": {},
   "outputs": [],
   "source": [
    "#GridSearchCV with timeseries\n",
    "\n",
    "time_splitter_outer = TimeSeriesSplit(n_splits = 3)\n",
    "time_splitter_inner = TimeSeriesSplit(n_splits = 3)\n",
    "\n",
    "model=RandomForestClassifier()\n",
    "params = {'n_estimators':[500,700,900,1000],\n",
    "           'max_depth':[3,5,7,9,11,13]}\n",
    "\n",
    "gs_rf = GridSearchCV(model, param_grid = params, cv = time_splitter_inner, scoring = 'roc_auc',verbose=10, n_jobs=-1)\n"
   ]
  },
  {
   "cell_type": "code",
   "execution_count": 79,
   "metadata": {},
   "outputs": [
    {
     "name": "stdout",
     "output_type": "stream",
     "text": [
      "Fitting 3 folds for each of 24 candidates, totalling 72 fits\n"
     ]
    },
    {
     "name": "stderr",
     "output_type": "stream",
     "text": [
      "[Parallel(n_jobs=-1)]: Using backend LokyBackend with 8 concurrent workers.\n",
      "[Parallel(n_jobs=-1)]: Done   2 tasks      | elapsed:   16.9s\n",
      "[Parallel(n_jobs=-1)]: Done   9 tasks      | elapsed:   49.9s\n",
      "[Parallel(n_jobs=-1)]: Done  16 tasks      | elapsed:  1.7min\n",
      "[Parallel(n_jobs=-1)]: Done  25 tasks      | elapsed:  2.7min\n",
      "[Parallel(n_jobs=-1)]: Done  34 tasks      | elapsed:  3.7min\n",
      "[Parallel(n_jobs=-1)]: Done  45 tasks      | elapsed:  5.5min\n",
      "[Parallel(n_jobs=-1)]: Done  56 tasks      | elapsed:  7.5min\n",
      "[Parallel(n_jobs=-1)]: Done  65 out of  72 | elapsed:  9.0min remaining:   58.2s\n",
      "[Parallel(n_jobs=-1)]: Done  72 out of  72 | elapsed: 10.7min finished\n"
     ]
    },
    {
     "data": {
      "text/plain": [
       "GridSearchCV(cv=TimeSeriesSplit(max_train_size=None, n_splits=3),\n",
       "             estimator=RandomForestClassifier(), n_jobs=-1,\n",
       "             param_grid={'max_depth': [3, 5, 7, 9, 11, 13],\n",
       "                         'n_estimators': [500, 700, 900, 1000]},\n",
       "             scoring='roc_auc', verbose=10)"
      ]
     },
     "execution_count": 79,
     "metadata": {},
     "output_type": "execute_result"
    }
   ],
   "source": [
    "gs_rf.fit(X_filtertrain,Y_filtertrain)"
   ]
  },
  {
   "cell_type": "code",
   "execution_count": 80,
   "metadata": {},
   "outputs": [
    {
     "name": "stdout",
     "output_type": "stream",
     "text": [
      "Fitting 3 folds for each of 24 candidates, totalling 72 fits\n"
     ]
    },
    {
     "name": "stderr",
     "output_type": "stream",
     "text": [
      "[Parallel(n_jobs=-1)]: Using backend LokyBackend with 8 concurrent workers.\n",
      "[Parallel(n_jobs=-1)]: Done   2 tasks      | elapsed:    4.5s\n",
      "[Parallel(n_jobs=-1)]: Done   9 tasks      | elapsed:   11.9s\n",
      "[Parallel(n_jobs=-1)]: Done  16 tasks      | elapsed:   22.2s\n",
      "[Parallel(n_jobs=-1)]: Done  25 tasks      | elapsed:   35.3s\n",
      "[Parallel(n_jobs=-1)]: Done  34 tasks      | elapsed:   50.6s\n",
      "[Parallel(n_jobs=-1)]: Done  45 tasks      | elapsed:  1.2min\n",
      "[Parallel(n_jobs=-1)]: Done  56 tasks      | elapsed:  1.7min\n",
      "[Parallel(n_jobs=-1)]: Done  65 out of  72 | elapsed:  2.0min remaining:   13.0s\n",
      "[Parallel(n_jobs=-1)]: Done  72 out of  72 | elapsed:  2.4min finished\n"
     ]
    },
    {
     "name": "stdout",
     "output_type": "stream",
     "text": [
      "Fitting 3 folds for each of 24 candidates, totalling 72 fits\n"
     ]
    },
    {
     "name": "stderr",
     "output_type": "stream",
     "text": [
      "[Parallel(n_jobs=-1)]: Using backend LokyBackend with 8 concurrent workers.\n",
      "[Parallel(n_jobs=-1)]: Done   2 tasks      | elapsed:    8.2s\n",
      "[Parallel(n_jobs=-1)]: Done   9 tasks      | elapsed:   22.9s\n",
      "[Parallel(n_jobs=-1)]: Done  16 tasks      | elapsed:   44.1s\n",
      "[Parallel(n_jobs=-1)]: Done  25 tasks      | elapsed:  1.2min\n",
      "[Parallel(n_jobs=-1)]: Done  34 tasks      | elapsed:  1.7min\n",
      "[Parallel(n_jobs=-1)]: Done  45 tasks      | elapsed:  2.4min\n",
      "[Parallel(n_jobs=-1)]: Done  56 tasks      | elapsed:  3.3min\n",
      "[Parallel(n_jobs=-1)]: Done  65 out of  72 | elapsed:  4.0min remaining:   26.1s\n",
      "[Parallel(n_jobs=-1)]: Done  72 out of  72 | elapsed:  4.8min finished\n"
     ]
    },
    {
     "name": "stdout",
     "output_type": "stream",
     "text": [
      "Fitting 3 folds for each of 24 candidates, totalling 72 fits\n"
     ]
    },
    {
     "name": "stderr",
     "output_type": "stream",
     "text": [
      "[Parallel(n_jobs=-1)]: Using backend LokyBackend with 8 concurrent workers.\n",
      "[Parallel(n_jobs=-1)]: Done   2 tasks      | elapsed:   12.3s\n",
      "[Parallel(n_jobs=-1)]: Done   9 tasks      | elapsed:   33.4s\n",
      "[Parallel(n_jobs=-1)]: Done  16 tasks      | elapsed:  1.1min\n",
      "[Parallel(n_jobs=-1)]: Done  25 tasks      | elapsed:  1.8min\n",
      "[Parallel(n_jobs=-1)]: Done  34 tasks      | elapsed:  2.5min\n",
      "[Parallel(n_jobs=-1)]: Done  45 tasks      | elapsed:  3.7min\n",
      "[Parallel(n_jobs=-1)]: Done  56 tasks      | elapsed:  5.0min\n",
      "[Parallel(n_jobs=-1)]: Done  65 out of  72 | elapsed:  6.2min remaining:   39.9s\n",
      "[Parallel(n_jobs=-1)]: Done  72 out of  72 | elapsed:  7.3min finished\n"
     ]
    },
    {
     "name": "stdout",
     "output_type": "stream",
     "text": [
      "0.8169336030738962\n"
     ]
    }
   ],
   "source": [
    "forest_scores = cross_val_score(gs_rf, X_filtertrain,Y_filtertrain, cv = time_splitter_outer, scoring = 'roc_auc').mean()\n",
    "print(forest_scores)"
   ]
  },
  {
   "cell_type": "code",
   "execution_count": 83,
   "metadata": {},
   "outputs": [],
   "source": [
    "# Best values of the hyperparameters\n",
    "max_depth_best = gs_rf.best_estimator_.max_depth\n",
    "n_estimators_best = gs_rf.best_estimator_.n_estimators"
   ]
  },
  {
   "cell_type": "code",
   "execution_count": 84,
   "metadata": {},
   "outputs": [
    {
     "data": {
      "text/plain": [
       "RandomForestClassifier(max_depth=13, n_estimators=1000)"
      ]
     },
     "execution_count": 84,
     "metadata": {},
     "output_type": "execute_result"
    }
   ],
   "source": [
    "rfc = RandomForestClassifier(max_depth = max_depth_best, n_estimators = n_estimators_best)\n",
    "rfc.fit(X_filtertrain,Y_filtertrain)"
   ]
  },
  {
   "cell_type": "code",
   "execution_count": 85,
   "metadata": {},
   "outputs": [
    {
     "name": "stdout",
     "output_type": "stream",
     "text": [
      "train auc: 0.8280108334622307\n",
      "test auc: 0.7390676465579523\n"
     ]
    }
   ],
   "source": [
    "#auc score after parameter tuning \n",
    "y_trainpredrffilter=rfc.predict_proba(X_filtertrain)\n",
    "y_testpredrffilter =rfc.predict_proba(X_filtertest)\n",
    "print('train auc:',roc_auc_score(Y_filtertrain,y_trainpredrffilter[:,1]))\n",
    "print('test auc:',roc_auc_score(Y_filtertest,y_testpredrffilter[:,1]))"
   ]
  },
  {
   "cell_type": "code",
   "execution_count": 86,
   "metadata": {},
   "outputs": [
    {
     "data": {
      "image/png": "[encoded data removed]",
      "text/plain": [
       "<Figure size 576x432 with 1 Axes>"
      ]
     },
     "metadata": {
      "needs_background": "light"
     },
     "output_type": "display_data"
    }
   ],
   "source": [
    "plt.figure(figsize=(8,6))\n",
    "# auc of train\n",
    "fpr, tpr, thresh = roc_curve(Y_filtertrain,y_trainpredrffilter[:,1])\n",
    "auc = roc_auc_score(Y_filtertrain, y_trainpredrffilter[:,1])\n",
    "plt.plot(fpr,tpr,label=\"train, auc=\"+str(round(auc,4)))\n",
    "# auc of test\n",
    "fpr, tpr, thresh = roc_curve(Y_filtertest,  y_testpredrffilter[:,1])\n",
    "auc = roc_auc_score(Y_filtertest,  y_testpredrffilter [:,1])\n",
    "plt.plot(fpr,tpr,label=\"test, auc=\"+str(round(auc,4)))\n",
    "plt.plot([0, 1], [0, 1], 'k--')\n",
    "plt.legend(loc=0)\n",
    "plt.xlabel('False Positive Rate')\n",
    "plt.ylabel('True Positive Rate')\n",
    "plt.title('Tuned SGD- Receiver operating characteristic')\n",
    "plt.show()"
   ]
  },
  {
   "cell_type": "code",
   "execution_count": 87,
   "metadata": {},
   "outputs": [],
   "source": [
    "y_trainpred_=rfc.predict(X_filtertrain)\n",
    "y_testpred_ = rfc.predict(X_filtertest)"
   ]
  },
  {
   "cell_type": "code",
   "execution_count": 88,
   "metadata": {},
   "outputs": [
    {
     "name": "stdout",
     "output_type": "stream",
     "text": [
      "Accuracy:\n",
      " 0.7761455616893013\n",
      "Recall:\n",
      " 0.6003937007874016\n"
     ]
    }
   ],
   "source": [
    "print(\"Accuracy:\\n\",metrics.accuracy_score(Y_filtertest,y_testpred_))\n",
    "print(\"Recall:\\n\",metrics.recall_score(Y_filtertest,y_testpred_))"
   ]
  },
  {
   "cell_type": "code",
   "execution_count": 89,
   "metadata": {},
   "outputs": [],
   "source": [
    "#confusion matrix\n",
    "cm_train = confusion_matrix(Y_filtertrain,y_trainpred_)\n",
    "cm_test  =confusion_matrix(Y_filtertest,y_testpred_)"
   ]
  },
  {
   "cell_type": "code",
   "execution_count": 90,
   "metadata": {},
   "outputs": [
    {
     "data": {
      "text/plain": [
       "Text(0.5, 1.0, 'test')"
      ]
     },
     "execution_count": 90,
     "metadata": {},
     "output_type": "execute_result"
    },
    {
     "data": {
      "image/png": "[encoded data removed]",
      "text/plain": [
       "<Figure size 864x360 with 4 Axes>"
      ]
     },
     "metadata": {
      "needs_background": "light"
     },
     "output_type": "display_data"
    }
   ],
   "source": [
    "plt.figure(figsize=(12,5))\n",
    "plt.subplot(1,2,1)\n",
    "sns.heatmap(cm_train,annot=True,fmt='.2f')\n",
    "plt.title('Train')\n",
    "plt.subplot(1,2,2)\n",
    "sns.heatmap(cm_test,annot=True,fmt='.2f')\n",
    "plt.title('test')"
   ]
  },
  {
   "cell_type": "code",
   "execution_count": 91,
   "metadata": {},
   "outputs": [
    {
     "data": {
      "text/plain": [
       "0.1656131497153814"
      ]
     },
     "execution_count": 91,
     "metadata": {},
     "output_type": "execute_result"
    }
   ],
   "source": [
    "#matthews correlation coefficient\n",
    "from sklearn.metrics import matthews_corrcoef\n",
    "matthews_corrcoef(Y_filtertrain, y_trainpred_)\n",
    "matthews_corrcoef(Y_filtertest, y_testpred_)"
   ]
  },
  {
   "cell_type": "code",
   "execution_count": null,
   "metadata": {},
   "outputs": [],
   "source": []
  }
 ],
 "metadata": {
  "kernelspec": {
   "display_name": "Python 3",
   "language": "python",
   "name": "python3"
  },
  "language_info": {
   "codemirror_mode": {
    "name": "ipython",
    "version": 3
   },
   "file_extension": ".py",
   "mimetype": "text/x-python",
   "name": "python",
   "nbconvert_exporter": "python",
   "pygments_lexer": "ipython3",
   "version": "3.7.7"
  }
 },
 "nbformat": 4,
 "nbformat_minor": 4
}
