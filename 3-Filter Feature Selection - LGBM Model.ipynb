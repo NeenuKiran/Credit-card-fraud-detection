{
 "cells": [
  {
   "cell_type": "code",
   "execution_count": 1,
   "metadata": {},
   "outputs": [
    {
     "name": "stderr",
     "output_type": "stream",
     "text": [
      "/Users/neenu/opt/anaconda3/lib/python3.7/site-packages/lightgbm/__init__.py:48: UserWarning: Starting from version 2.2.1, the library file in distribution wheels for macOS is built by the Apple Clang (Xcode_8.3.3) compiler.\n",
      "This means that in case of installing LightGBM from PyPI via the ``pip install lightgbm`` command, you don't need to install the gcc compiler anymore.\n",
      "Instead of that, you need to install the OpenMP library, which is required for running LightGBM on the system with the Apple Clang compiler.\n",
      "You can install the OpenMP library by the following command: ``brew install libomp``.\n",
      "  \"You can install the OpenMP library by the following command: ``brew install libomp``.\", UserWarning)\n"
     ]
    }
   ],
   "source": [
    "import pandas as pd\n",
    "import numpy as np\n",
    "\n",
    "import seaborn as sns\n",
    "import matplotlib.pyplot as plt\n",
    "%matplotlib inline\n",
    "\n",
    "from sklearn.feature_selection import VarianceThreshold,mutual_info_classif,SelectKBest,SelectFromModel\n",
    "\n",
    "import lightgbm as lgb\n",
    "\n",
    "from sklearn.model_selection import  GridSearchCV,cross_val_score,TimeSeriesSplit,cross_validate\n",
    "from sklearn.pipeline import Pipeline\n",
    "from imblearn.pipeline import make_pipeline\n",
    "from sklearn import tree\n",
    "import sklearn.metrics as metrics\n",
    "from sklearn.metrics import confusion_matrix, recall_score, precision_score, roc_auc_score,roc_curve, auc,matthews_corrcoef,f1_score,brier_score_loss,make_scorer, metrics\n"
   ]
  },
  {
   "cell_type": "code",
   "execution_count": 2,
   "metadata": {},
   "outputs": [],
   "source": [
    "#reading csv files\n",
    "X_train=pd.read_csv('X_train_F.csv')\n",
    "Y_train=pd.read_csv('Y_train_F.csv')\n",
    "X_test=pd.read_csv('X_test_F.csv')\n",
    "Y_test=pd.read_csv('Y_test_F.csv')"
   ]
  },
  {
   "cell_type": "code",
   "execution_count": 3,
   "metadata": {},
   "outputs": [],
   "source": [
    "X_Data=pd.read_csv('X_Data.csv')\n",
    "Y_Data=pd.read_csv('Y_Data.csv')"
   ]
  },
  {
   "cell_type": "code",
   "execution_count": 4,
   "metadata": {},
   "outputs": [],
   "source": [
    "X_train= X_train[:70000]\n",
    "Y_train=Y_train[:70000]"
   ]
  },
  {
   "cell_type": "code",
   "execution_count": 5,
   "metadata": {},
   "outputs": [],
   "source": [
    "# with default paramter\n",
    "clf = lgb.LGBMClassifier(class_weight=\"balanced\")\n",
    "feature_selector = SelectKBest(mutual_info_classif, k=15)\n",
    "pipeline_lgbm  = Pipeline([('feature_sele',feature_selector),('clf',clf)])"
   ]
  },
  {
   "cell_type": "code",
   "execution_count": 6,
   "metadata": {},
   "outputs": [],
   "source": [
    "pipeline_lgbm.fit(X_train,Y_train.values.ravel())\n",
    "y_trainpred=pipeline_lgbm.predict_proba(X_train)\n",
    "y_testpred = pipeline_lgbm.predict_proba(X_test)"
   ]
  },
  {
   "cell_type": "code",
   "execution_count": 7,
   "metadata": {},
   "outputs": [
    {
     "name": "stdout",
     "output_type": "stream",
     "text": [
      "train auc with default parameter: 0.8760980162408469\n",
      "test auc with default parameter: 0.6993909779423524\n"
     ]
    }
   ],
   "source": [
    "# auc with default parameters\n",
    "print('train auc with default parameter:',roc_auc_score(Y_train,y_trainpred[:,1]))\n",
    "print('test auc with default parameter:',roc_auc_score(Y_test,y_testpred[:,1]))"
   ]
  },
  {
   "cell_type": "code",
   "execution_count": 8,
   "metadata": {},
   "outputs": [
    {
     "name": "stdout",
     "output_type": "stream",
     "text": [
      "brier_score_loss: 0.1539796447040106\n"
     ]
    }
   ],
   "source": [
    "print('brier_score_loss:',brier_score_loss(Y_test,y_testpred[:,1]))"
   ]
  },
  {
   "cell_type": "code",
   "execution_count": 9,
   "metadata": {},
   "outputs": [
    {
     "name": "stdout",
     "output_type": "stream",
     "text": [
      "Recall:\n",
      " 0.49582530507385997\n",
      "matthews_corrcoef:\n",
      " 0.15912901174213082\n"
     ]
    }
   ],
   "source": [
    "y_testpred_ =pipeline_lgbm.predict(X_test)\n",
    "print(\"Recall:\\n\",metrics.recall_score(Y_test,y_testpred_))\n",
    "print(\"matthews_corrcoef:\\n\",matthews_corrcoef(Y_test, y_testpred_))"
   ]
  },
  {
   "cell_type": "code",
   "execution_count": 10,
   "metadata": {},
   "outputs": [
    {
     "name": "stdout",
     "output_type": "stream",
     "text": [
      "Parameters currently in use:\n",
      "\n",
      "{'boosting_type': 'gbdt', 'class_weight': 'balanced', 'colsample_bytree': 1.0, 'importance_type': 'split', 'learning_rate': 0.1, 'max_depth': -1, 'min_child_samples': 20, 'min_child_weight': 0.001, 'min_split_gain': 0.0, 'n_estimators': 100, 'n_jobs': -1, 'num_leaves': 31, 'objective': None, 'random_state': None, 'reg_alpha': 0.0, 'reg_lambda': 0.0, 'silent': True, 'subsample': 1.0, 'subsample_for_bin': 200000, 'subsample_freq': 0}\n"
     ]
    }
   ],
   "source": [
    "#  parameters currently used\n",
    "print('Parameters currently in use:\\n')\n",
    "print(clf.get_params())"
   ]
  },
  {
   "cell_type": "code",
   "execution_count": 12,
   "metadata": {},
   "outputs": [],
   "source": [
    "#GridSearchCV and feature selection in nested CV\n",
    "\n",
    "time_splitter_inner = TimeSeriesSplit(n_splits = 3)\n",
    "time_splitter_outer= TimeSeriesSplit(n_splits = 10)\n",
    "\n",
    "model=lgb.LGBMClassifier(class_weight=\"balanced\")\n",
    "params = {\"max_depth\": [5,10,15],\n",
    "              \"learning_rate\" : [0.1,0.15,0.3],\n",
    "              \"num_leaves\": [32,150,200],\n",
    "              \"n_estimators\": [500,700],\n",
    "              'boost_from_average': [False],\n",
    "               \"random_state\": [2]}\n",
    "feature_selector = SelectKBest(mutual_info_classif, k=25)\n",
    "\n",
    "gs_lgbm = GridSearchCV(model, param_grid = params, cv = time_splitter_inner, scoring = 'roc_auc',verbose=10, n_jobs=-1)\n",
    "\n",
    "pipelinelgbm  = Pipeline([('feature_sele',feature_selector),\n",
    "                      ('clf_cv',gs_lgbm)])"
   ]
  },
  {
   "cell_type": "code",
   "execution_count": 13,
   "metadata": {},
   "outputs": [
    {
     "name": "stdout",
     "output_type": "stream",
     "text": [
      "Fitting 3 folds for each of 54 candidates, totalling 162 fits\n"
     ]
    },
    {
     "name": "stderr",
     "output_type": "stream",
     "text": [
      "[Parallel(n_jobs=-1)]: Using backend LokyBackend with 8 concurrent workers.\n",
      "[Parallel(n_jobs=-1)]: Done   2 tasks      | elapsed:    4.5s\n",
      "[Parallel(n_jobs=-1)]: Done   9 tasks      | elapsed:    8.5s\n",
      "[Parallel(n_jobs=-1)]: Done  16 tasks      | elapsed:   15.8s\n",
      "[Parallel(n_jobs=-1)]: Done  25 tasks      | elapsed:   25.5s\n",
      "[Parallel(n_jobs=-1)]: Done  34 tasks      | elapsed:   36.9s\n",
      "[Parallel(n_jobs=-1)]: Done  45 tasks      | elapsed:   52.1s\n",
      "[Parallel(n_jobs=-1)]: Done  56 tasks      | elapsed:  1.1min\n",
      "[Parallel(n_jobs=-1)]: Done  69 tasks      | elapsed:  1.3min\n",
      "[Parallel(n_jobs=-1)]: Done  82 tasks      | elapsed:  1.5min\n",
      "[Parallel(n_jobs=-1)]: Done  97 tasks      | elapsed:  1.9min\n",
      "[Parallel(n_jobs=-1)]: Done 112 tasks      | elapsed:  2.2min\n",
      "[Parallel(n_jobs=-1)]: Done 129 tasks      | elapsed:  2.5min\n",
      "[Parallel(n_jobs=-1)]: Done 146 tasks      | elapsed:  2.8min\n",
      "[Parallel(n_jobs=-1)]: Done 162 out of 162 | elapsed:  3.3min finished\n"
     ]
    },
    {
     "data": {
      "text/plain": [
       "Pipeline(steps=[('feature_sele',\n",
       "                 SelectKBest(k=25,\n",
       "                             score_func=<function mutual_info_classif at 0x7fde5bd08e60>)),\n",
       "                ('clf_cv',\n",
       "                 GridSearchCV(cv=TimeSeriesSplit(max_train_size=None, n_splits=3),\n",
       "                              estimator=LGBMClassifier(class_weight='balanced'),\n",
       "                              n_jobs=-1,\n",
       "                              param_grid={'boost_from_average': [False],\n",
       "                                          'learning_rate': [0.1, 0.15, 0.3],\n",
       "                                          'max_depth': [5, 10, 15],\n",
       "                                          'n_estimators': [500, 700],\n",
       "                                          'num_leaves': [32, 150, 200],\n",
       "                                          'random_state': [2]},\n",
       "                              scoring='roc_auc', verbose=10))])"
      ]
     },
     "execution_count": 13,
     "metadata": {},
     "output_type": "execute_result"
    }
   ],
   "source": [
    "pipelinelgbm .fit(X_Data,Y_Data.values.ravel())"
   ]
  },
  {
   "cell_type": "code",
   "execution_count": 14,
   "metadata": {},
   "outputs": [
    {
     "name": "stdout",
     "output_type": "stream",
     "text": [
      "Fitting 3 folds for each of 54 candidates, totalling 162 fits\n"
     ]
    },
    {
     "name": "stderr",
     "output_type": "stream",
     "text": [
      "[Parallel(n_jobs=-1)]: Using backend LokyBackend with 8 concurrent workers.\n",
      "[Parallel(n_jobs=-1)]: Done   2 tasks      | elapsed:    0.5s\n",
      "[Parallel(n_jobs=-1)]: Done   9 tasks      | elapsed:    1.1s\n",
      "[Parallel(n_jobs=-1)]: Done  16 tasks      | elapsed:    2.2s\n",
      "[Parallel(n_jobs=-1)]: Done  25 tasks      | elapsed:    3.3s\n",
      "[Parallel(n_jobs=-1)]: Done  34 tasks      | elapsed:    5.0s\n",
      "[Parallel(n_jobs=-1)]: Done  45 tasks      | elapsed:    7.5s\n",
      "[Parallel(n_jobs=-1)]: Done  56 tasks      | elapsed:    9.3s\n",
      "[Parallel(n_jobs=-1)]: Done  69 tasks      | elapsed:   11.0s\n",
      "[Parallel(n_jobs=-1)]: Done  82 tasks      | elapsed:   12.8s\n",
      "[Parallel(n_jobs=-1)]: Done  97 tasks      | elapsed:   14.9s\n",
      "[Parallel(n_jobs=-1)]: Done 112 tasks      | elapsed:   17.0s\n",
      "[Parallel(n_jobs=-1)]: Done 129 tasks      | elapsed:   18.7s\n",
      "[Parallel(n_jobs=-1)]: Done 146 tasks      | elapsed:   20.5s\n",
      "[Parallel(n_jobs=-1)]: Done 162 out of 162 | elapsed:   22.6s finished\n"
     ]
    },
    {
     "name": "stdout",
     "output_type": "stream",
     "text": [
      "Fitting 3 folds for each of 54 candidates, totalling 162 fits\n"
     ]
    },
    {
     "name": "stderr",
     "output_type": "stream",
     "text": [
      "[Parallel(n_jobs=-1)]: Using backend LokyBackend with 8 concurrent workers.\n",
      "[Parallel(n_jobs=-1)]: Done   2 tasks      | elapsed:    1.0s\n",
      "[Parallel(n_jobs=-1)]: Done   9 tasks      | elapsed:    2.2s\n",
      "[Parallel(n_jobs=-1)]: Done  16 tasks      | elapsed:    4.1s\n",
      "[Parallel(n_jobs=-1)]: Done  25 tasks      | elapsed:    7.0s\n",
      "[Parallel(n_jobs=-1)]: Done  34 tasks      | elapsed:   10.6s\n",
      "[Parallel(n_jobs=-1)]: Done  45 tasks      | elapsed:   15.5s\n",
      "[Parallel(n_jobs=-1)]: Done  56 tasks      | elapsed:   19.3s\n",
      "[Parallel(n_jobs=-1)]: Done  69 tasks      | elapsed:   22.4s\n",
      "[Parallel(n_jobs=-1)]: Done  82 tasks      | elapsed:   26.2s\n",
      "[Parallel(n_jobs=-1)]: Done  97 tasks      | elapsed:   30.8s\n",
      "[Parallel(n_jobs=-1)]: Done 112 tasks      | elapsed:   35.6s\n",
      "[Parallel(n_jobs=-1)]: Done 129 tasks      | elapsed:   39.3s\n",
      "[Parallel(n_jobs=-1)]: Done 146 tasks      | elapsed:   43.2s\n",
      "[Parallel(n_jobs=-1)]: Done 162 out of 162 | elapsed:   47.6s finished\n"
     ]
    },
    {
     "name": "stdout",
     "output_type": "stream",
     "text": [
      "Fitting 3 folds for each of 54 candidates, totalling 162 fits\n"
     ]
    },
    {
     "name": "stderr",
     "output_type": "stream",
     "text": [
      "[Parallel(n_jobs=-1)]: Using backend LokyBackend with 8 concurrent workers.\n",
      "[Parallel(n_jobs=-1)]: Done   2 tasks      | elapsed:    1.4s\n",
      "[Parallel(n_jobs=-1)]: Done   9 tasks      | elapsed:    3.1s\n",
      "[Parallel(n_jobs=-1)]: Done  16 tasks      | elapsed:    5.5s\n",
      "[Parallel(n_jobs=-1)]: Done  25 tasks      | elapsed:   10.1s\n",
      "[Parallel(n_jobs=-1)]: Done  34 tasks      | elapsed:   16.0s\n",
      "[Parallel(n_jobs=-1)]: Done  45 tasks      | elapsed:   23.5s\n",
      "[Parallel(n_jobs=-1)]: Done  56 tasks      | elapsed:   28.9s\n",
      "[Parallel(n_jobs=-1)]: Done  69 tasks      | elapsed:   33.6s\n",
      "[Parallel(n_jobs=-1)]: Done  82 tasks      | elapsed:   39.4s\n",
      "[Parallel(n_jobs=-1)]: Done  97 tasks      | elapsed:   47.5s\n",
      "[Parallel(n_jobs=-1)]: Done 112 tasks      | elapsed:   54.5s\n",
      "[Parallel(n_jobs=-1)]: Done 129 tasks      | elapsed:  1.0min\n",
      "[Parallel(n_jobs=-1)]: Done 146 tasks      | elapsed:  1.1min\n",
      "[Parallel(n_jobs=-1)]: Done 162 out of 162 | elapsed:  1.2min finished\n"
     ]
    },
    {
     "name": "stdout",
     "output_type": "stream",
     "text": [
      "Fitting 3 folds for each of 54 candidates, totalling 162 fits\n"
     ]
    },
    {
     "name": "stderr",
     "output_type": "stream",
     "text": [
      "[Parallel(n_jobs=-1)]: Using backend LokyBackend with 8 concurrent workers.\n",
      "[Parallel(n_jobs=-1)]: Done   2 tasks      | elapsed:    1.3s\n",
      "[Parallel(n_jobs=-1)]: Done   9 tasks      | elapsed:    3.1s\n",
      "[Parallel(n_jobs=-1)]: Done  16 tasks      | elapsed:    5.8s\n",
      "[Parallel(n_jobs=-1)]: Done  25 tasks      | elapsed:   10.5s\n",
      "[Parallel(n_jobs=-1)]: Done  34 tasks      | elapsed:   16.0s\n",
      "[Parallel(n_jobs=-1)]: Done  45 tasks      | elapsed:   23.7s\n",
      "[Parallel(n_jobs=-1)]: Done  56 tasks      | elapsed:   30.2s\n",
      "[Parallel(n_jobs=-1)]: Done  69 tasks      | elapsed:   35.6s\n",
      "[Parallel(n_jobs=-1)]: Done  82 tasks      | elapsed:   41.9s\n",
      "[Parallel(n_jobs=-1)]: Done  97 tasks      | elapsed:   51.3s\n",
      "[Parallel(n_jobs=-1)]: Done 112 tasks      | elapsed:  1.0min\n",
      "[Parallel(n_jobs=-1)]: Done 129 tasks      | elapsed:  1.1min\n",
      "[Parallel(n_jobs=-1)]: Done 146 tasks      | elapsed:  1.3min\n",
      "[Parallel(n_jobs=-1)]: Done 162 out of 162 | elapsed:  1.4min finished\n"
     ]
    },
    {
     "name": "stdout",
     "output_type": "stream",
     "text": [
      "Fitting 3 folds for each of 54 candidates, totalling 162 fits\n"
     ]
    },
    {
     "name": "stderr",
     "output_type": "stream",
     "text": [
      "[Parallel(n_jobs=-1)]: Using backend LokyBackend with 8 concurrent workers.\n",
      "[Parallel(n_jobs=-1)]: Done   2 tasks      | elapsed:    1.4s\n",
      "[Parallel(n_jobs=-1)]: Done   9 tasks      | elapsed:    3.6s\n",
      "[Parallel(n_jobs=-1)]: Done  16 tasks      | elapsed:    7.4s\n",
      "[Parallel(n_jobs=-1)]: Done  25 tasks      | elapsed:   13.2s\n",
      "[Parallel(n_jobs=-1)]: Done  34 tasks      | elapsed:   19.6s\n",
      "[Parallel(n_jobs=-1)]: Done  45 tasks      | elapsed:   29.6s\n",
      "[Parallel(n_jobs=-1)]: Done  56 tasks      | elapsed:   37.3s\n",
      "[Parallel(n_jobs=-1)]: Done  69 tasks      | elapsed:   44.5s\n",
      "[Parallel(n_jobs=-1)]: Done  82 tasks      | elapsed:   52.5s\n",
      "[Parallel(n_jobs=-1)]: Done  97 tasks      | elapsed:  1.1min\n",
      "[Parallel(n_jobs=-1)]: Done 112 tasks      | elapsed:  1.3min\n",
      "[Parallel(n_jobs=-1)]: Done 129 tasks      | elapsed:  1.4min\n",
      "[Parallel(n_jobs=-1)]: Done 146 tasks      | elapsed:  1.6min\n",
      "[Parallel(n_jobs=-1)]: Done 162 out of 162 | elapsed:  1.8min finished\n"
     ]
    },
    {
     "name": "stdout",
     "output_type": "stream",
     "text": [
      "Fitting 3 folds for each of 54 candidates, totalling 162 fits\n"
     ]
    },
    {
     "name": "stderr",
     "output_type": "stream",
     "text": [
      "[Parallel(n_jobs=-1)]: Using backend LokyBackend with 8 concurrent workers.\n",
      "[Parallel(n_jobs=-1)]: Done   2 tasks      | elapsed:    1.7s\n",
      "[Parallel(n_jobs=-1)]: Done   9 tasks      | elapsed:    4.1s\n",
      "[Parallel(n_jobs=-1)]: Done  16 tasks      | elapsed:    8.8s\n",
      "[Parallel(n_jobs=-1)]: Done  25 tasks      | elapsed:   15.2s\n",
      "[Parallel(n_jobs=-1)]: Done  34 tasks      | elapsed:   22.5s\n",
      "[Parallel(n_jobs=-1)]: Done  45 tasks      | elapsed:   33.4s\n",
      "[Parallel(n_jobs=-1)]: Done  56 tasks      | elapsed:   42.7s\n",
      "[Parallel(n_jobs=-1)]: Done  69 tasks      | elapsed:   50.7s\n",
      "[Parallel(n_jobs=-1)]: Done  82 tasks      | elapsed:   59.6s\n",
      "[Parallel(n_jobs=-1)]: Done  97 tasks      | elapsed:  1.2min\n",
      "[Parallel(n_jobs=-1)]: Done 112 tasks      | elapsed:  1.4min\n",
      "[Parallel(n_jobs=-1)]: Done 129 tasks      | elapsed:  1.6min\n",
      "[Parallel(n_jobs=-1)]: Done 146 tasks      | elapsed:  1.8min\n",
      "[Parallel(n_jobs=-1)]: Done 162 out of 162 | elapsed:  2.1min finished\n"
     ]
    },
    {
     "name": "stdout",
     "output_type": "stream",
     "text": [
      "Fitting 3 folds for each of 54 candidates, totalling 162 fits\n"
     ]
    },
    {
     "name": "stderr",
     "output_type": "stream",
     "text": [
      "[Parallel(n_jobs=-1)]: Using backend LokyBackend with 8 concurrent workers.\n",
      "[Parallel(n_jobs=-1)]: Done   2 tasks      | elapsed:    1.9s\n",
      "[Parallel(n_jobs=-1)]: Done   9 tasks      | elapsed:    4.5s\n",
      "[Parallel(n_jobs=-1)]: Done  16 tasks      | elapsed:    9.2s\n",
      "[Parallel(n_jobs=-1)]: Done  25 tasks      | elapsed:   15.9s\n",
      "[Parallel(n_jobs=-1)]: Done  34 tasks      | elapsed:   24.4s\n",
      "[Parallel(n_jobs=-1)]: Done  45 tasks      | elapsed:   35.9s\n",
      "[Parallel(n_jobs=-1)]: Done  56 tasks      | elapsed:   47.1s\n",
      "[Parallel(n_jobs=-1)]: Done  69 tasks      | elapsed:   55.9s\n",
      "[Parallel(n_jobs=-1)]: Done  82 tasks      | elapsed:  1.1min\n",
      "[Parallel(n_jobs=-1)]: Done  97 tasks      | elapsed:  1.3min\n",
      "[Parallel(n_jobs=-1)]: Done 112 tasks      | elapsed:  1.6min\n",
      "[Parallel(n_jobs=-1)]: Done 129 tasks      | elapsed:  1.8min\n",
      "[Parallel(n_jobs=-1)]: Done 146 tasks      | elapsed:  2.1min\n",
      "[Parallel(n_jobs=-1)]: Done 162 out of 162 | elapsed:  2.4min finished\n"
     ]
    },
    {
     "name": "stdout",
     "output_type": "stream",
     "text": [
      "Fitting 3 folds for each of 54 candidates, totalling 162 fits\n"
     ]
    },
    {
     "name": "stderr",
     "output_type": "stream",
     "text": [
      "[Parallel(n_jobs=-1)]: Using backend LokyBackend with 8 concurrent workers.\n",
      "[Parallel(n_jobs=-1)]: Done   2 tasks      | elapsed:    2.1s\n",
      "[Parallel(n_jobs=-1)]: Done   9 tasks      | elapsed:    5.4s\n",
      "[Parallel(n_jobs=-1)]: Done  16 tasks      | elapsed:   11.1s\n",
      "[Parallel(n_jobs=-1)]: Done  25 tasks      | elapsed:   19.4s\n",
      "[Parallel(n_jobs=-1)]: Done  34 tasks      | elapsed:   29.0s\n",
      "[Parallel(n_jobs=-1)]: Done  45 tasks      | elapsed:   41.6s\n",
      "[Parallel(n_jobs=-1)]: Done  56 tasks      | elapsed:   53.6s\n",
      "[Parallel(n_jobs=-1)]: Done  69 tasks      | elapsed:  1.0min\n",
      "[Parallel(n_jobs=-1)]: Done  82 tasks      | elapsed:  1.2min\n",
      "[Parallel(n_jobs=-1)]: Done  97 tasks      | elapsed:  1.5min\n",
      "[Parallel(n_jobs=-1)]: Done 112 tasks      | elapsed:  1.8min\n",
      "[Parallel(n_jobs=-1)]: Done 129 tasks      | elapsed:  2.0min\n",
      "[Parallel(n_jobs=-1)]: Done 146 tasks      | elapsed:  2.3min\n",
      "[Parallel(n_jobs=-1)]: Done 162 out of 162 | elapsed:  2.6min finished\n"
     ]
    },
    {
     "name": "stdout",
     "output_type": "stream",
     "text": [
      "Fitting 3 folds for each of 54 candidates, totalling 162 fits\n"
     ]
    },
    {
     "name": "stderr",
     "output_type": "stream",
     "text": [
      "[Parallel(n_jobs=-1)]: Using backend LokyBackend with 8 concurrent workers.\n",
      "[Parallel(n_jobs=-1)]: Done   2 tasks      | elapsed:    2.3s\n",
      "[Parallel(n_jobs=-1)]: Done   9 tasks      | elapsed:    5.7s\n",
      "[Parallel(n_jobs=-1)]: Done  16 tasks      | elapsed:   11.8s\n",
      "[Parallel(n_jobs=-1)]: Done  25 tasks      | elapsed:   20.0s\n",
      "[Parallel(n_jobs=-1)]: Done  34 tasks      | elapsed:   30.8s\n",
      "[Parallel(n_jobs=-1)]: Done  45 tasks      | elapsed:   45.4s\n",
      "[Parallel(n_jobs=-1)]: Done  56 tasks      | elapsed:   59.6s\n",
      "[Parallel(n_jobs=-1)]: Done  69 tasks      | elapsed:  1.2min\n",
      "[Parallel(n_jobs=-1)]: Done  82 tasks      | elapsed:  1.4min\n",
      "[Parallel(n_jobs=-1)]: Done  97 tasks      | elapsed:  1.7min\n",
      "[Parallel(n_jobs=-1)]: Done 112 tasks      | elapsed:  2.0min\n",
      "[Parallel(n_jobs=-1)]: Done 129 tasks      | elapsed:  2.2min\n",
      "[Parallel(n_jobs=-1)]: Done 146 tasks      | elapsed:  2.6min\n",
      "[Parallel(n_jobs=-1)]: Done 162 out of 162 | elapsed:  3.0min finished\n"
     ]
    },
    {
     "name": "stdout",
     "output_type": "stream",
     "text": [
      "Fitting 3 folds for each of 54 candidates, totalling 162 fits\n"
     ]
    },
    {
     "name": "stderr",
     "output_type": "stream",
     "text": [
      "[Parallel(n_jobs=-1)]: Using backend LokyBackend with 8 concurrent workers.\n",
      "[Parallel(n_jobs=-1)]: Done   2 tasks      | elapsed:    2.5s\n",
      "[Parallel(n_jobs=-1)]: Done   9 tasks      | elapsed:    5.9s\n",
      "[Parallel(n_jobs=-1)]: Done  16 tasks      | elapsed:   12.3s\n",
      "[Parallel(n_jobs=-1)]: Done  25 tasks      | elapsed:   21.2s\n",
      "[Parallel(n_jobs=-1)]: Done  34 tasks      | elapsed:   31.4s\n",
      "[Parallel(n_jobs=-1)]: Done  45 tasks      | elapsed:   45.2s\n",
      "[Parallel(n_jobs=-1)]: Done  56 tasks      | elapsed:   58.0s\n",
      "[Parallel(n_jobs=-1)]: Done  69 tasks      | elapsed:  1.2min\n",
      "[Parallel(n_jobs=-1)]: Done  82 tasks      | elapsed:  1.4min\n",
      "[Parallel(n_jobs=-1)]: Done  97 tasks      | elapsed:  1.7min\n",
      "[Parallel(n_jobs=-1)]: Done 112 tasks      | elapsed:  2.0min\n",
      "[Parallel(n_jobs=-1)]: Done 129 tasks      | elapsed:  2.2min\n",
      "[Parallel(n_jobs=-1)]: Done 146 tasks      | elapsed:  2.5min\n",
      "[Parallel(n_jobs=-1)]: Done 162 out of 162 | elapsed:  2.9min finished\n"
     ]
    }
   ],
   "source": [
    "custom_scorer = {\n",
    "                 'recall': make_scorer(recall_score),\n",
    "                 'Brier': make_scorer(brier_score_loss),\n",
    "                 'Matthewscorrcoef': make_scorer(matthews_corrcoef),\n",
    "                 'ROC_AUC': make_scorer(roc_auc_score)\n",
    "                 }\n",
    "lgbm_scores = cross_validate(pipelinelgbm,X_Data,Y_Data.values.ravel(),cv = time_splitter_outer, scoring = custom_scorer)"
   ]
  },
  {
   "cell_type": "code",
   "execution_count": 15,
   "metadata": {},
   "outputs": [
    {
     "data": {
      "text/plain": [
       "['fit_time',\n",
       " 'score_time',\n",
       " 'test_Brier',\n",
       " 'test_Matthewscorrcoef',\n",
       " 'test_ROC_AUC',\n",
       " 'test_recall']"
      ]
     },
     "execution_count": 15,
     "metadata": {},
     "output_type": "execute_result"
    }
   ],
   "source": [
    "sorted(lgbm_scores.keys())"
   ]
  },
  {
   "cell_type": "code",
   "execution_count": 16,
   "metadata": {},
   "outputs": [],
   "source": [
    "lgbm_time = lgbm_scores['fit_time']\n",
    "lgbm_recall = lgbm_scores['test_recall']\n",
    "lgbm_Brier = lgbm_scores['test_Brier']\n",
    "lgbm_Matthewscorrcoef = lgbm_scores['test_Matthewscorrcoef']\n",
    "lgbm_ROC_AUC = lgbm_scores['test_ROC_AUC']"
   ]
  },
  {
   "cell_type": "code",
   "execution_count": 17,
   "metadata": {},
   "outputs": [
    {
     "name": "stdout",
     "output_type": "stream",
     "text": [
      "=== fit time ===\n",
      "[ 36.936867    78.76261091 123.80430889 154.17805815 195.05736399\n",
      " 233.39290214 271.20169973 307.30292487 349.64998889 367.31504798]\n",
      "=== All recall Scores ===\n",
      "[0.2        0.4587156  0.34334764 0.46268657 0.39153439 0.33576642\n",
      " 0.38666667 0.5        0.46153846 0.63529412]\n",
      "=== All Brier Scores ===\n",
      "[0.0259901  0.02007701 0.02846535 0.06449395 0.0409791  0.04276678\n",
      " 0.06064356 0.14040154 0.13105061 0.17134213]\n",
      "=== All Matthewscorrcoef Scores ===\n",
      "[0.38487556 0.58971118 0.43955496 0.27892804 0.31512406 0.22084375\n",
      " 0.26414654 0.1418235  0.17595267 0.18523249]\n",
      "=== All ROC_AUC Scores ===\n",
      "[0.59907828 0.72737311 0.66783805 0.70581648 0.68284894 0.65246625\n",
      " 0.67183482 0.68317456 0.67162868 0.73429026]\n"
     ]
    }
   ],
   "source": [
    "print(\"=== fit time ===\")\n",
    "print(lgbm_time)\n",
    "print(\"=== All recall Scores ===\")\n",
    "print(lgbm_recall)\n",
    "print(\"=== All Brier Scores ===\")\n",
    "print(lgbm_Brier)\n",
    "print(\"=== All Matthewscorrcoef Scores ===\")\n",
    "print(lgbm_Matthewscorrcoef)\n",
    "print(\"=== All ROC_AUC Scores ===\")\n",
    "print(lgbm_ROC_AUC)"
   ]
  },
  {
   "cell_type": "code",
   "execution_count": 18,
   "metadata": {},
   "outputs": [
    {
     "name": "stdout",
     "output_type": "stream",
     "text": [
      "=== Mean recall Score ===\n",
      "0.4175549863723676\n",
      "=== Mean Brier Score ===\n",
      "0.07262101210121012\n",
      "=== Mean Matthewscorrcoef  Score ===\n",
      "0.2996192755509842\n",
      "=== Mean ROC_AUC  Score ===\n",
      "0.6796349432982927\n",
      "=== Mean fit_time ===\n",
      "211.76017725467682\n"
     ]
    }
   ],
   "source": [
    "print(\"=== Mean recall Score ===\")\n",
    "print( lgbm_recall.mean())\n",
    "print(\"=== Mean Brier Score ===\")\n",
    "print( lgbm_Brier.mean())\n",
    "print(\"=== Mean Matthewscorrcoef  Score ===\")\n",
    "print( lgbm_Matthewscorrcoef .mean())\n",
    "print(\"=== Mean ROC_AUC  Score ===\")\n",
    "print( lgbm_ROC_AUC .mean())\n",
    "print(\"=== Mean fit_time ===\")\n",
    "print( lgbm_time .mean())"
   ]
  },
  {
   "cell_type": "code",
   "execution_count": 19,
   "metadata": {},
   "outputs": [
    {
     "name": "stdout",
     "output_type": "stream",
     "text": [
      "=== Minimum recall Score ===\n",
      "0.2\n",
      "=== Minimum Brier Score ===\n",
      "0.020077007700770078\n",
      "=== Minimum Matthewscorrcoef  Score ===\n",
      "0.141823500374587\n",
      "=== Minimum ROC_AUC  Score ===\n",
      "0.5990782756664776\n",
      "=== Minimum RF_time  ===\n",
      "36.936866998672485\n"
     ]
    }
   ],
   "source": [
    "print(\"=== Minimum recall Score ===\")\n",
    "print( lgbm_recall.min())\n",
    "print(\"=== Minimum Brier Score ===\")\n",
    "print(  lgbm_Brier.min())\n",
    "print(\"=== Minimum Matthewscorrcoef  Score ===\")\n",
    "print(  lgbm_Matthewscorrcoef.min())\n",
    "print(\"=== Minimum ROC_AUC  Score ===\")\n",
    "print(  lgbm_ROC_AUC.min())\n",
    "print(\"=== Minimum RF_time  ===\")\n",
    "print(  lgbm_time.min())"
   ]
  },
  {
   "cell_type": "code",
   "execution_count": 20,
   "metadata": {},
   "outputs": [
    {
     "name": "stdout",
     "output_type": "stream",
     "text": [
      "=== Maximum recall Score ===\n",
      "0.6352941176470588\n",
      "=== Minimum Brier Score ===\n",
      "0.020077007700770078\n",
      "=== Maximum Matthewscorrcoef  Score ===\n",
      "0.5897111805909775\n",
      "=== Maximum ROC_AUC  Score ===\n",
      "0.7342902579223748\n",
      "=== Maximum fit_time ===\n",
      "367.31504797935486\n"
     ]
    }
   ],
   "source": [
    "print(\"=== Maximum recall Score ===\")\n",
    "print( lgbm_recall.max())\n",
    "print(\"=== Minimum Brier Score ===\")\n",
    "print( lgbm_Brier.min())\n",
    "print(\"=== Maximum Matthewscorrcoef  Score ===\")\n",
    "print( lgbm_Matthewscorrcoef .max())\n",
    "print(\"=== Maximum ROC_AUC  Score ===\")\n",
    "print( lgbm_ROC_AUC .max())\n",
    "print(\"=== Maximum fit_time ===\")\n",
    "print( lgbm_time .max())"
   ]
  },
  {
   "cell_type": "code",
   "execution_count": null,
   "metadata": {},
   "outputs": [],
   "source": []
  }
 ],
 "metadata": {
  "kernelspec": {
   "display_name": "Python 3",
   "language": "python",
   "name": "python3"
  },
  "language_info": {
   "codemirror_mode": {
    "name": "ipython",
    "version": 3
   },
   "file_extension": ".py",
   "mimetype": "text/x-python",
   "name": "python",
   "nbconvert_exporter": "python",
   "pygments_lexer": "ipython3",
   "version": "3.7.7"
  }
 },
 "nbformat": 4,
 "nbformat_minor": 4
}
