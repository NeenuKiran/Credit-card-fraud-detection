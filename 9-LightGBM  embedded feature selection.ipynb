{
 "cells": [
  {
   "cell_type": "code",
   "execution_count": 1,
   "metadata": {},
   "outputs": [],
   "source": [
    "import pandas as pd\n",
    "import numpy as np\n",
    "\n",
    "import seaborn as sns\n",
    "import matplotlib.pyplot as plt\n",
    "%matplotlib inline\n",
    "\n",
    "from sklearn.feature_selection import VarianceThreshold,mutual_info_classif,SelectKBest,SelectFromModel\n",
    "from mlxtend.feature_selection import SequentialFeatureSelector\n",
    "\n",
    "from imblearn.pipeline import make_pipeline\n",
    "from imblearn.over_sampling import SMOTE\n",
    "from imblearn.under_sampling import RandomUnderSampler\n",
    "\n",
    "from sklearn.linear_model import SGDClassifier\n",
    "from sklearn.ensemble import RandomForestClassifier\n",
    "\n",
    "from sklearn.model_selection import  GridSearchCV,cross_val_score,TimeSeriesSplit,cross_validate\n",
    "\n",
    "import sklearn.metrics as metrics\n",
    "from sklearn.metrics import confusion_matrix, recall_score, precision_score, roc_auc_score,roc_curve, auc,matthews_corrcoef\n",
    "from sklearn.metrics import  make_scorer,accuracy_score,precision_score,recall_score, f1_score,brier_score_loss,matthews_corrcoef\n",
    "from sklearn import tree"
   ]
  },
  {
   "cell_type": "code",
   "execution_count": 2,
   "metadata": {},
   "outputs": [],
   "source": [
    "#reading csv files\n",
    "X_train=pd.read_csv('X_train_F.csv')\n",
    "Y_train=pd.read_csv('Y_train_F.csv')\n",
    "X_test=pd.read_csv('X_test_F.csv')\n",
    "Y_test=pd.read_csv('Y_test_F.csv')"
   ]
  },
  {
   "cell_type": "code",
   "execution_count": 3,
   "metadata": {},
   "outputs": [],
   "source": [
    "X_train= X_train[:70000]\n",
    "Y_train=Y_train[:70000]"
   ]
  },
  {
   "cell_type": "code",
   "execution_count": 4,
   "metadata": {},
   "outputs": [],
   "source": [
    "#LGBM"
   ]
  },
  {
   "cell_type": "code",
   "execution_count": 5,
   "metadata": {},
   "outputs": [
    {
     "name": "stderr",
     "output_type": "stream",
     "text": [
      "/Users/neenu/opt/anaconda3/lib/python3.7/site-packages/lightgbm/__init__.py:48: UserWarning: Starting from version 2.2.1, the library file in distribution wheels for macOS is built by the Apple Clang (Xcode_8.3.3) compiler.\n",
      "This means that in case of installing LightGBM from PyPI via the ``pip install lightgbm`` command, you don't need to install the gcc compiler anymore.\n",
      "Instead of that, you need to install the OpenMP library, which is required for running LightGBM on the system with the Apple Clang compiler.\n",
      "You can install the OpenMP library by the following command: ``brew install libomp``.\n",
      "  \"You can install the OpenMP library by the following command: ``brew install libomp``.\", UserWarning)\n"
     ]
    }
   ],
   "source": [
    "import lightgbm as lgb"
   ]
  },
  {
   "cell_type": "code",
   "execution_count": 6,
   "metadata": {},
   "outputs": [
    {
     "name": "stderr",
     "output_type": "stream",
     "text": [
      "/Users/neenu/opt/anaconda3/lib/python3.7/site-packages/sklearn/utils/validation.py:73: DataConversionWarning: A column-vector y was passed when a 1d array was expected. Please change the shape of y to (n_samples, ), for example using ravel().\n",
      "  return f(**kwargs)\n"
     ]
    },
    {
     "data": {
      "text/plain": [
       "LGBMClassifier()"
      ]
     },
     "execution_count": 6,
     "metadata": {},
     "output_type": "execute_result"
    }
   ],
   "source": [
    "clf = lgb.LGBMClassifier()\n",
    "clf.fit(X_train,Y_train)"
   ]
  },
  {
   "cell_type": "code",
   "execution_count": 7,
   "metadata": {},
   "outputs": [],
   "source": [
    "y_trainpredprobem=clf.predict_proba(X_train)\n",
    "y_testpredprobem = clf.predict_proba(X_test)"
   ]
  },
  {
   "cell_type": "code",
   "execution_count": 8,
   "metadata": {},
   "outputs": [
    {
     "name": "stdout",
     "output_type": "stream",
     "text": [
      "auc of train with default parameter: 0.9799899935436396\n",
      "auc of test with  default parameter: 0.837674637086019\n"
     ]
    }
   ],
   "source": [
    "#auc score with default values\n",
    "print('auc of train with default parameter:',roc_auc_score(Y_train,y_trainpredprobem[:,1]))\n",
    "print('auc of test with  default parameter:',roc_auc_score(Y_test,y_testpredprobem[:,1]))"
   ]
  },
  {
   "cell_type": "code",
   "execution_count": 9,
   "metadata": {},
   "outputs": [
    {
     "name": "stdout",
     "output_type": "stream",
     "text": [
      "Parameters currently in use:\n",
      "\n",
      "{'boosting_type': 'gbdt', 'class_weight': None, 'colsample_bytree': 1.0, 'importance_type': 'split', 'learning_rate': 0.1, 'max_depth': -1, 'min_child_samples': 20, 'min_child_weight': 0.001, 'min_split_gain': 0.0, 'n_estimators': 100, 'n_jobs': -1, 'num_leaves': 31, 'objective': None, 'random_state': None, 'reg_alpha': 0.0, 'reg_lambda': 0.0, 'silent': True, 'subsample': 1.0, 'subsample_for_bin': 200000, 'subsample_freq': 0}\n"
     ]
    }
   ],
   "source": [
    "#  parameters currently used\n",
    "print('Parameters currently in use:\\n')\n",
    "print(clf.get_params())"
   ]
  },
  {
   "cell_type": "code",
   "execution_count": 10,
   "metadata": {},
   "outputs": [],
   "source": [
    "#GridSearchCV with timeseries\n",
    "\n",
    "folds = TimeSeriesSplit(n_splits = 3)\n",
    "\n",
    "model=lgb.LGBMClassifier(class_weight=\"balanced\")\n",
    "params = {\"max_depth\": [5,10,15],\n",
    "              \"learning_rate\" : [0.1,0.15,0.3],\n",
    "              \"num_leaves\": [32,150,200],\n",
    "              \"n_estimators\": [500,700],\n",
    "              'boost_from_average': [False],\n",
    "               \"random_state\": [2]}\n",
    "\n",
    "gs_lgbm = GridSearchCV(model, param_grid = params, cv = folds, scoring = 'roc_auc',verbose=10, n_jobs=-1)"
   ]
  },
  {
   "cell_type": "code",
   "execution_count": 11,
   "metadata": {},
   "outputs": [
    {
     "name": "stdout",
     "output_type": "stream",
     "text": [
      "Fitting 3 folds for each of 54 candidates, totalling 162 fits\n"
     ]
    },
    {
     "name": "stderr",
     "output_type": "stream",
     "text": [
      "[Parallel(n_jobs=-1)]: Using backend LokyBackend with 8 concurrent workers.\n",
      "[Parallel(n_jobs=-1)]: Done   2 tasks      | elapsed:    6.0s\n",
      "[Parallel(n_jobs=-1)]: Done   9 tasks      | elapsed:   13.5s\n",
      "[Parallel(n_jobs=-1)]: Done  16 tasks      | elapsed:   25.0s\n",
      "[Parallel(n_jobs=-1)]: Done  25 tasks      | elapsed:   48.1s\n",
      "[Parallel(n_jobs=-1)]: Done  34 tasks      | elapsed:  1.2min\n",
      "[Parallel(n_jobs=-1)]: Done  45 tasks      | elapsed:  1.8min\n",
      "[Parallel(n_jobs=-1)]: Done  56 tasks      | elapsed:  2.2min\n",
      "[Parallel(n_jobs=-1)]: Done  69 tasks      | elapsed:  2.5min\n",
      "[Parallel(n_jobs=-1)]: Done  82 tasks      | elapsed:  3.0min\n",
      "[Parallel(n_jobs=-1)]: Done  97 tasks      | elapsed:  3.6min\n",
      "[Parallel(n_jobs=-1)]: Done 112 tasks      | elapsed:  4.2min\n",
      "[Parallel(n_jobs=-1)]: Done 129 tasks      | elapsed:  4.6min\n",
      "[Parallel(n_jobs=-1)]: Done 146 tasks      | elapsed:  5.2min\n",
      "[Parallel(n_jobs=-1)]: Done 162 out of 162 | elapsed:  5.7min finished\n",
      "/Users/neenu/opt/anaconda3/lib/python3.7/site-packages/sklearn/utils/validation.py:73: DataConversionWarning: A column-vector y was passed when a 1d array was expected. Please change the shape of y to (n_samples, ), for example using ravel().\n",
      "  return f(**kwargs)\n"
     ]
    },
    {
     "data": {
      "text/plain": [
       "GridSearchCV(cv=TimeSeriesSplit(max_train_size=None, n_splits=3),\n",
       "             estimator=LGBMClassifier(class_weight='balanced'), n_jobs=-1,\n",
       "             param_grid={'boost_from_average': [False],\n",
       "                         'learning_rate': [0.1, 0.15, 0.3],\n",
       "                         'max_depth': [5, 10, 15], 'n_estimators': [500, 700],\n",
       "                         'num_leaves': [32, 150, 200], 'random_state': [2]},\n",
       "             scoring='roc_auc', verbose=10)"
      ]
     },
     "execution_count": 11,
     "metadata": {},
     "output_type": "execute_result"
    }
   ],
   "source": [
    "gs_lgbm.fit(X_train,Y_train)"
   ]
  },
  {
   "cell_type": "code",
   "execution_count": 12,
   "metadata": {},
   "outputs": [
    {
     "data": {
      "text/plain": [
       "{'boost_from_average': False,\n",
       " 'learning_rate': 0.1,\n",
       " 'max_depth': 15,\n",
       " 'n_estimators': 700,\n",
       " 'num_leaves': 150,\n",
       " 'random_state': 2}"
      ]
     },
     "execution_count": 12,
     "metadata": {},
     "output_type": "execute_result"
    }
   ],
   "source": [
    "#Best parameters\n",
    "gs_lgbm.best_params_"
   ]
  },
  {
   "cell_type": "code",
   "execution_count": 14,
   "metadata": {},
   "outputs": [
    {
     "data": {
      "text/plain": [
       "LGBMClassifier(boost_from_average=False, class_weight='balanced', max_depth=15,\n",
       "               n_estimators=700, num_leaves=150, random_state=2)"
      ]
     },
     "execution_count": 14,
     "metadata": {},
     "output_type": "execute_result"
    }
   ],
   "source": [
    "best_lgbm= lgb.LGBMClassifier(boost_from_average=False, learning_rate=0.1, max_depth=15, n_estimators=700,\n",
    "num_leaves=150,random_state=2,class_weight=\"balanced\")\n",
    "best_lgbm.fit(X_train, Y_train.values.ravel())"
   ]
  },
  {
   "cell_type": "code",
   "execution_count": 16,
   "metadata": {},
   "outputs": [
    {
     "data": {
      "image/png": "[encoded data removed]",
      "text/plain": [
       "<Figure size 1440x576 with 1 Axes>"
      ]
     },
     "metadata": {
      "needs_background": "light"
     },
     "output_type": "display_data"
    }
   ],
   "source": [
    "# visualize features with importantce score > 0\n",
    "plt.figure(figsize=(20,8))\n",
    "sorted_importance_lgb = sorted(zip(X_train.columns, best_lgbm.feature_importances_), key=lambda t:t[1], reverse=True)\n",
    "sorted_importance_useful_lgb = [ i for i in sorted_importance_lgb if i[1] > 0]\n",
    "a, b = zip(*sorted_importance_useful_lgb)\n",
    "fp = pd.DataFrame({'feature':a, 'importance_score':b})[:25]\n",
    "sns.barplot(x=\"feature\", y=\"importance_score\", data=fp, palette = 'pastel')\n",
    "plt.xticks(rotation=90)\n",
    "plt.show()"
   ]
  },
  {
   "cell_type": "code",
   "execution_count": 17,
   "metadata": {},
   "outputs": [
    {
     "data": {
      "text/plain": [
       "(array([3., 5., 8., 2., 2., 2., 3., 4., 5., 3., 0., 3., 0., 0., 1., 0., 0.,\n",
       "        1., 0., 0., 0., 0., 0., 0., 2., 0., 0., 1., 1., 0., 0., 0., 0., 0.,\n",
       "        0., 0., 0., 1., 0., 0., 1., 0., 0., 0., 0., 0., 0., 0., 0., 0., 0.,\n",
       "        0., 0., 0., 1., 0., 0., 0., 0., 0., 0., 0., 1., 0., 1., 0., 0., 0.,\n",
       "        0., 0., 0., 0., 0., 0., 0., 0., 0., 0., 0., 0., 0., 0., 0., 0., 0.,\n",
       "        0., 0., 0., 0., 0., 1., 0., 0., 0., 0., 0., 0., 0., 0., 1.]),\n",
       " array([    0.  ,   128.69,   257.38,   386.07,   514.76,   643.45,\n",
       "          772.14,   900.83,  1029.52,  1158.21,  1286.9 ,  1415.59,\n",
       "         1544.28,  1672.97,  1801.66,  1930.35,  2059.04,  2187.73,\n",
       "         2316.42,  2445.11,  2573.8 ,  2702.49,  2831.18,  2959.87,\n",
       "         3088.56,  3217.25,  3345.94,  3474.63,  3603.32,  3732.01,\n",
       "         3860.7 ,  3989.39,  4118.08,  4246.77,  4375.46,  4504.15,\n",
       "         4632.84,  4761.53,  4890.22,  5018.91,  5147.6 ,  5276.29,\n",
       "         5404.98,  5533.67,  5662.36,  5791.05,  5919.74,  6048.43,\n",
       "         6177.12,  6305.81,  6434.5 ,  6563.19,  6691.88,  6820.57,\n",
       "         6949.26,  7077.95,  7206.64,  7335.33,  7464.02,  7592.71,\n",
       "         7721.4 ,  7850.09,  7978.78,  8107.47,  8236.16,  8364.85,\n",
       "         8493.54,  8622.23,  8750.92,  8879.61,  9008.3 ,  9136.99,\n",
       "         9265.68,  9394.37,  9523.06,  9651.75,  9780.44,  9909.13,\n",
       "        10037.82, 10166.51, 10295.2 , 10423.89, 10552.58, 10681.27,\n",
       "        10809.96, 10938.65, 11067.34, 11196.03, 11324.72, 11453.41,\n",
       "        11582.1 , 11710.79, 11839.48, 11968.17, 12096.86, 12225.55,\n",
       "        12354.24, 12482.93, 12611.62, 12740.31, 12869.  ]),\n",
       " <a list of 100 Patch objects>)"
      ]
     },
     "execution_count": 17,
     "metadata": {},
     "output_type": "execute_result"
    },
    {
     "data": {
      "image/png": "[encoded data removed]",
      "text/plain": [
       "<Figure size 432x288 with 1 Axes>"
      ]
     },
     "metadata": {
      "needs_background": "light"
     },
     "output_type": "display_data"
    }
   ],
   "source": [
    "plt.hist(best_lgbm.feature_importances_,bins=100)"
   ]
  },
  {
   "cell_type": "code",
   "execution_count": 44,
   "metadata": {},
   "outputs": [],
   "source": [
    "features = X_train.columns\n",
    "importances = best_lgbm.feature_importances_\n",
    "features_to_include=[]\n",
    "j=0\n",
    "for i in importances:\n",
    "    if i>=1500:\n",
    "        features_to_include.append(features[j])\n",
    "    j+=1"
   ]
  },
  {
   "cell_type": "code",
   "execution_count": 45,
   "metadata": {},
   "outputs": [],
   "source": [
    "X_trainlgbm=X_train[features_to_include]\n",
    "X_testlgbm=X_test[features_to_include]"
   ]
  },
  {
   "cell_type": "code",
   "execution_count": 50,
   "metadata": {},
   "outputs": [
    {
     "name": "stdout",
     "output_type": "stream",
     "text": [
      "roc_auc: 0.8096096142707581\n",
      "brier_score_loss: 0.029960942268771686\n"
     ]
    }
   ],
   "source": [
    "#test prediction with best parameters\n",
    "best_lgbm= lgb.LGBMClassifier(boost_from_average=False, learning_rate=0.1, max_depth=15, n_estimators=700,\n",
    "num_leaves=150,random_state=2)\n",
    "best_lgbm.fit(X_train, Y_train.values.ravel())\n",
    "y_trainpredbest =best_lgbm.predict_proba(X_train)\n",
    "y_testpredbest =best_lgbm.predict_proba(X_test)\n",
    "print('roc_auc:',roc_auc_score(Y_test,y_testpredbest[:,1]))\n",
    "print('brier_score_loss:',brier_score_loss(Y_test,y_testpredbest[:,1]))"
   ]
  },
  {
   "cell_type": "code",
   "execution_count": 51,
   "metadata": {},
   "outputs": [
    {
     "data": {
      "image/png": "[encoded data removed]",
      "text/plain": [
       "<Figure size 576x432 with 1 Axes>"
      ]
     },
     "metadata": {
      "needs_background": "light"
     },
     "output_type": "display_data"
    }
   ],
   "source": [
    "plt.figure(figsize=(8,6))\n",
    "# auc of train\n",
    "fpr, tpr, thresh = roc_curve(Y_train,y_trainpredbest[:,1])\n",
    "auc = roc_auc_score(Y_train, y_trainpredbest[:,1])\n",
    "plt.plot(fpr,tpr,label=\"train, auc=\"+str(round(auc,4)))\n",
    "# auc of test\n",
    "fpr, tpr, thresh = roc_curve(Y_test, y_testpredbest[:,1])\n",
    "auc = roc_auc_score(Y_test,  y_testpredbest[:,1])\n",
    "plt.plot(fpr,tpr,label=\"test, auc=\"+str(round(auc,4)))\n",
    "plt.plot([0, 1], [0, 1], 'k--')\n",
    "plt.legend(loc=0)\n",
    "plt.xlabel('False Positive Rate')\n",
    "plt.ylabel('True Positive Rate')\n",
    "plt.title('Tuned lgbm- Receiver operating characteristic')\n",
    "plt.show()"
   ]
  },
  {
   "cell_type": "code",
   "execution_count": 52,
   "metadata": {},
   "outputs": [
    {
     "data": {
      "image/png": "[encoded data removed]",
      "text/plain": [
       "<Figure size 576x432 with 2 Axes>"
      ]
     },
     "metadata": {
      "needs_background": "light"
     },
     "output_type": "display_data"
    }
   ],
   "source": [
    "y_scores = y_testpredbest[:,1]\n",
    "fpr, tpr, thresholds = roc_curve(Y_test, y_scores)\n",
    "# auc(fpr, tpr) # auc has been assigned as a variable by the above plot's code\n",
    "plt.figure(figsize=(8,6))\n",
    "plt.plot(fpr, tpr, label='ROC curve (area = %0.2f)' % (auc))\n",
    "plt.plot([0, 1], [0, 1], 'k--')\n",
    "plt.xlim([0.0, 1.0])\n",
    "plt.ylim([0.0, 1.02])\n",
    "plt.xlabel('False Positive Rate')\n",
    "plt.ylabel('True Positive Rate')\n",
    "plt.title('Tuned lgbm - Receiver operating characteristic')\n",
    "plt.legend(loc=\"best\")\n",
    "\n",
    "# create the axis of thresholds (scores)\n",
    "ax2 = plt.gca().twinx()\n",
    "ax2.plot(fpr, thresholds, markeredgecolor='r',linestyle='dashed', color='r')\n",
    "ax2.set_ylabel('Threshold',color='r')\n",
    "ax2.set_ylim([thresholds[-1],1])\n",
    "ax2.set_xlim([fpr[0],fpr[-1]])\n",
    "plt.show()\n",
    "# plt.axhline(y=0.0, c=\"r\", ls=\"--\", lw=2)\n",
    "# plt.axvline(x=4.0, c=\"r\", ls=\"--\", lw=2)"
   ]
  },
  {
   "cell_type": "code",
   "execution_count": 54,
   "metadata": {},
   "outputs": [
    {
     "name": "stdout",
     "output_type": "stream",
     "text": [
      "matthews_corrcoef:\n",
      " 0.33772609158586936\n",
      "Recall:\n",
      " 0.14868336544637123\n"
     ]
    }
   ],
   "source": [
    "y_testpred_ =best_lgbm.predict(X_test)\n",
    "print(\"matthews_corrcoef:\\n\",matthews_corrcoef(Y_test, y_testpred_))\n",
    "print(\"Recall:\\n\",metrics.recall_score(Y_test,y_testpred_))"
   ]
  },
  {
   "cell_type": "code",
   "execution_count": null,
   "metadata": {},
   "outputs": [],
   "source": []
  }
 ],
 "metadata": {
  "kernelspec": {
   "display_name": "Python 3",
   "language": "python",
   "name": "python3"
  },
  "language_info": {
   "codemirror_mode": {
    "name": "ipython",
    "version": 3
   },
   "file_extension": ".py",
   "mimetype": "text/x-python",
   "name": "python",
   "nbconvert_exporter": "python",
   "pygments_lexer": "ipython3",
   "version": "3.7.7"
  }
 },
 "nbformat": 4,
 "nbformat_minor": 4
}
