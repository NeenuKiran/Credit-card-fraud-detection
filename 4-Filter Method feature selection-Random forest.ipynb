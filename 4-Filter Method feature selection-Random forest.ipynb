{
 "cells": [
  {
   "cell_type": "code",
   "execution_count": 2,
   "metadata": {},
   "outputs": [
    {
     "name": "stderr",
     "output_type": "stream",
     "text": [
      "/Users/neenu/opt/anaconda3/lib/python3.7/site-packages/lightgbm/__init__.py:48: UserWarning: Starting from version 2.2.1, the library file in distribution wheels for macOS is built by the Apple Clang (Xcode_8.3.3) compiler.\n",
      "This means that in case of installing LightGBM from PyPI via the ``pip install lightgbm`` command, you don't need to install the gcc compiler anymore.\n",
      "Instead of that, you need to install the OpenMP library, which is required for running LightGBM on the system with the Apple Clang compiler.\n",
      "You can install the OpenMP library by the following command: ``brew install libomp``.\n",
      "  \"You can install the OpenMP library by the following command: ``brew install libomp``.\", UserWarning)\n"
     ]
    }
   ],
   "source": [
    "import pandas as pd\n",
    "import numpy as np\n",
    "\n",
    "import seaborn as sns\n",
    "import matplotlib.pyplot as plt\n",
    "%matplotlib inline\n",
    "\n",
    "from sklearn.feature_selection import VarianceThreshold,mutual_info_classif,SelectKBest,SelectFromModel\n",
    "\n",
    "from sklearn.linear_model import SGDClassifier\n",
    "from sklearn.ensemble import RandomForestClassifier\n",
    "import lightgbm as lgb\n",
    "\n",
    "from sklearn.model_selection import  GridSearchCV,cross_val_score,TimeSeriesSplit,cross_validate\n",
    "from sklearn.pipeline import Pipeline\n",
    "from imblearn.pipeline import make_pipeline\n",
    "from sklearn import tree\n",
    "import sklearn.metrics as metrics\n",
    "from sklearn.metrics import confusion_matrix, recall_score, precision_score, roc_auc_score,roc_curve, auc,matthews_corrcoef,f1_score,brier_score_loss,make_scorer\n",
    " "
   ]
  },
  {
   "cell_type": "code",
   "execution_count": 3,
   "metadata": {},
   "outputs": [],
   "source": [
    "#reading csv files\n",
    "X_train=pd.read_csv('X_train_F.csv')\n",
    "Y_train=pd.read_csv('Y_train_F.csv')\n",
    "X_test=pd.read_csv('X_test_F.csv')\n",
    "Y_test=pd.read_csv('Y_test_F.csv')"
   ]
  },
  {
   "cell_type": "code",
   "execution_count": 4,
   "metadata": {},
   "outputs": [],
   "source": [
    "X_Data=pd.read_csv('X_Data.csv')\n",
    "Y_Data=pd.read_csv('Y_Data.csv')"
   ]
  },
  {
   "cell_type": "code",
   "execution_count": 5,
   "metadata": {},
   "outputs": [],
   "source": [
    "X_train= X_train[:70000]\n",
    "Y_train=Y_train[:70000]"
   ]
  },
  {
   "cell_type": "code",
   "execution_count": 5,
   "metadata": {},
   "outputs": [],
   "source": [
    "#Random forest"
   ]
  },
  {
   "cell_type": "code",
   "execution_count": 6,
   "metadata": {},
   "outputs": [],
   "source": [
    "# with default paramter\n",
    "\n",
    "clf = RandomForestClassifier(class_weight=\"balanced\")\n",
    "feature_selector = SelectKBest(mutual_info_classif, k=15)\n",
    "pipeline_RF = Pipeline([('feature_sele',feature_selector),('clf',clf)])"
   ]
  },
  {
   "cell_type": "code",
   "execution_count": 7,
   "metadata": {},
   "outputs": [],
   "source": [
    "pipeline_RF.fit(X_train,Y_train.values.ravel())\n",
    "y_trainpredprobem=pipeline_RF.predict_proba(X_train)\n",
    "y_testpred = pipeline_RF.predict_proba(X_test)"
   ]
  },
  {
   "cell_type": "code",
   "execution_count": 8,
   "metadata": {},
   "outputs": [
    {
     "name": "stdout",
     "output_type": "stream",
     "text": [
      "auc of train with default parameter: 0.7890967875862566\n",
      "test auc with default parameter: 0.49532348391462055\n"
     ]
    }
   ],
   "source": [
    "# auc with default parameters\n",
    "print('auc of train with default parameter:',roc_auc_score(Y_train,y_trainpredprobem[:,1]))\n",
    "print('test auc with default parameter:',roc_auc_score(Y_test,y_testpred[:,1]))"
   ]
  },
  {
   "cell_type": "code",
   "execution_count": 9,
   "metadata": {},
   "outputs": [
    {
     "name": "stdout",
     "output_type": "stream",
     "text": [
      "brier_score_loss: 0.06631016597596268\n"
     ]
    }
   ],
   "source": [
    "print('brier_score_loss:',brier_score_loss(Y_test,y_testpred[:,1]))"
   ]
  },
  {
   "cell_type": "code",
   "execution_count": 11,
   "metadata": {},
   "outputs": [
    {
     "name": "stdout",
     "output_type": "stream",
     "text": [
      "Recall:\n",
      " 0.0394990366088632\n",
      "matthews_corrcoef:\n",
      " -0.02117381932887601\n"
     ]
    }
   ],
   "source": [
    "y_testpred_ =pipeline_RF.predict(X_test)\n",
    "print(\"Recall:\\n\",metrics.recall_score(Y_test,y_testpred_))\n",
    "print(\"matthews_corrcoef:\\n\",matthews_corrcoef(Y_test, y_testpred_))"
   ]
  },
  {
   "cell_type": "code",
   "execution_count": 12,
   "metadata": {},
   "outputs": [
    {
     "name": "stdout",
     "output_type": "stream",
     "text": [
      "Parameters currently in use:\n",
      "\n",
      "{'bootstrap': True, 'ccp_alpha': 0.0, 'class_weight': 'balanced', 'criterion': 'gini', 'max_depth': None, 'max_features': 'auto', 'max_leaf_nodes': None, 'max_samples': None, 'min_impurity_decrease': 0.0, 'min_impurity_split': None, 'min_samples_leaf': 1, 'min_samples_split': 2, 'min_weight_fraction_leaf': 0.0, 'n_estimators': 100, 'n_jobs': None, 'oob_score': False, 'random_state': None, 'verbose': 0, 'warm_start': False}\n"
     ]
    }
   ],
   "source": [
    "#  parameters currently used\n",
    "print('Parameters currently in use:\\n')\n",
    "print(clf.get_params())"
   ]
  },
  {
   "cell_type": "code",
   "execution_count": 16,
   "metadata": {},
   "outputs": [],
   "source": [
    "#GridSearchCV and feature selection in nested cv\n",
    "from sklearn.pipeline import Pipeline\n",
    "time_splitter_inner = TimeSeriesSplit(n_splits = 3)\n",
    "time_splitter_outer= TimeSeriesSplit(n_splits = 10)\n",
    "\n",
    "model=RandomForestClassifier(class_weight=\"balanced\")\n",
    "params = {'n_estimators':[500,700,900,1000],\n",
    "           'max_depth':[3,5,7,9,11,13]}\n",
    "feature_selector = SelectKBest(mutual_info_classif, k=25)\n",
    "\n",
    "gs_rf = GridSearchCV(model, param_grid = params, cv = time_splitter_inner, scoring = 'roc_auc',verbose=10, n_jobs=-1)\n",
    "\n",
    "pipeline  = Pipeline([('feature_sele',feature_selector),\n",
    "                      ('clf_cv',gs_rf)])"
   ]
  },
  {
   "cell_type": "code",
   "execution_count": 17,
   "metadata": {},
   "outputs": [
    {
     "name": "stdout",
     "output_type": "stream",
     "text": [
      "Fitting 3 folds for each of 24 candidates, totalling 72 fits\n"
     ]
    },
    {
     "name": "stderr",
     "output_type": "stream",
     "text": [
      "[Parallel(n_jobs=-1)]: Using backend LokyBackend with 8 concurrent workers.\n",
      "[Parallel(n_jobs=-1)]: Done   2 tasks      | elapsed:   10.5s\n",
      "[Parallel(n_jobs=-1)]: Done   9 tasks      | elapsed:   29.1s\n",
      "[Parallel(n_jobs=-1)]: Done  16 tasks      | elapsed:   54.4s\n",
      "[Parallel(n_jobs=-1)]: Done  25 tasks      | elapsed:  1.5min\n",
      "[Parallel(n_jobs=-1)]: Done  34 tasks      | elapsed:  2.0min\n",
      "[Parallel(n_jobs=-1)]: Done  45 tasks      | elapsed:  2.9min\n",
      "[Parallel(n_jobs=-1)]: Done  56 tasks      | elapsed:  3.9min\n",
      "[Parallel(n_jobs=-1)]: Done  65 out of  72 | elapsed:  4.7min remaining:   30.1s\n",
      "[Parallel(n_jobs=-1)]: Done  72 out of  72 | elapsed:  5.5min finished\n"
     ]
    },
    {
     "data": {
      "text/plain": [
       "Pipeline(steps=[('feature_sele',\n",
       "                 SelectKBest(k=25,\n",
       "                             score_func=<function mutual_info_classif at 0x7ffa1fc04ef0>)),\n",
       "                ('clf_cv',\n",
       "                 GridSearchCV(cv=TimeSeriesSplit(max_train_size=None, n_splits=3),\n",
       "                              estimator=RandomForestClassifier(class_weight='balanced'),\n",
       "                              n_jobs=-1,\n",
       "                              param_grid={'max_depth': [3, 5, 7, 9, 11, 13],\n",
       "                                          'n_estimators': [500, 700, 900,\n",
       "                                                           1000]},\n",
       "                              scoring='roc_auc', verbose=10))])"
      ]
     },
     "execution_count": 17,
     "metadata": {},
     "output_type": "execute_result"
    }
   ],
   "source": [
    "pipeline.fit(X_Data,Y_Data.values.ravel())"
   ]
  },
  {
   "cell_type": "code",
   "execution_count": 19,
   "metadata": {},
   "outputs": [
    {
     "name": "stdout",
     "output_type": "stream",
     "text": [
      "Fitting 3 folds for each of 24 candidates, totalling 72 fits\n"
     ]
    },
    {
     "name": "stderr",
     "output_type": "stream",
     "text": [
      "[Parallel(n_jobs=-1)]: Using backend LokyBackend with 8 concurrent workers.\n",
      "[Parallel(n_jobs=-1)]: Done   2 tasks      | elapsed:    1.8s\n",
      "[Parallel(n_jobs=-1)]: Done   9 tasks      | elapsed:    4.2s\n",
      "[Parallel(n_jobs=-1)]: Done  16 tasks      | elapsed:    6.6s\n",
      "[Parallel(n_jobs=-1)]: Done  25 tasks      | elapsed:   10.9s\n",
      "[Parallel(n_jobs=-1)]: Done  34 tasks      | elapsed:   15.5s\n",
      "[Parallel(n_jobs=-1)]: Done  45 tasks      | elapsed:   21.1s\n",
      "[Parallel(n_jobs=-1)]: Done  56 tasks      | elapsed:   27.5s\n",
      "[Parallel(n_jobs=-1)]: Done  65 out of  72 | elapsed:   32.4s remaining:    3.5s\n",
      "[Parallel(n_jobs=-1)]: Done  72 out of  72 | elapsed:   36.5s finished\n"
     ]
    },
    {
     "name": "stdout",
     "output_type": "stream",
     "text": [
      "Fitting 3 folds for each of 24 candidates, totalling 72 fits\n"
     ]
    },
    {
     "name": "stderr",
     "output_type": "stream",
     "text": [
      "[Parallel(n_jobs=-1)]: Using backend LokyBackend with 8 concurrent workers.\n",
      "[Parallel(n_jobs=-1)]: Done   2 tasks      | elapsed:    2.6s\n",
      "[Parallel(n_jobs=-1)]: Done   9 tasks      | elapsed:    5.9s\n",
      "[Parallel(n_jobs=-1)]: Done  16 tasks      | elapsed:   11.0s\n",
      "[Parallel(n_jobs=-1)]: Done  25 tasks      | elapsed:   17.3s\n",
      "[Parallel(n_jobs=-1)]: Done  34 tasks      | elapsed:   24.7s\n",
      "[Parallel(n_jobs=-1)]: Done  45 tasks      | elapsed:   34.0s\n",
      "[Parallel(n_jobs=-1)]: Done  56 tasks      | elapsed:   45.4s\n",
      "[Parallel(n_jobs=-1)]: Done  65 out of  72 | elapsed:   53.1s remaining:    5.7s\n",
      "[Parallel(n_jobs=-1)]: Done  72 out of  72 | elapsed:  1.0min finished\n"
     ]
    },
    {
     "name": "stdout",
     "output_type": "stream",
     "text": [
      "Fitting 3 folds for each of 24 candidates, totalling 72 fits\n"
     ]
    },
    {
     "name": "stderr",
     "output_type": "stream",
     "text": [
      "[Parallel(n_jobs=-1)]: Using backend LokyBackend with 8 concurrent workers.\n",
      "[Parallel(n_jobs=-1)]: Done   2 tasks      | elapsed:    3.4s\n",
      "[Parallel(n_jobs=-1)]: Done   9 tasks      | elapsed:    7.8s\n",
      "[Parallel(n_jobs=-1)]: Done  16 tasks      | elapsed:   14.6s\n",
      "[Parallel(n_jobs=-1)]: Done  25 tasks      | elapsed:   23.3s\n",
      "[Parallel(n_jobs=-1)]: Done  34 tasks      | elapsed:   33.8s\n",
      "[Parallel(n_jobs=-1)]: Done  45 tasks      | elapsed:   46.9s\n",
      "[Parallel(n_jobs=-1)]: Done  56 tasks      | elapsed:  1.0min\n",
      "[Parallel(n_jobs=-1)]: Done  65 out of  72 | elapsed:  1.2min remaining:    8.0s\n",
      "[Parallel(n_jobs=-1)]: Done  72 out of  72 | elapsed:  1.5min finished\n"
     ]
    },
    {
     "name": "stdout",
     "output_type": "stream",
     "text": [
      "Fitting 3 folds for each of 24 candidates, totalling 72 fits\n"
     ]
    },
    {
     "name": "stderr",
     "output_type": "stream",
     "text": [
      "[Parallel(n_jobs=-1)]: Using backend LokyBackend with 8 concurrent workers.\n",
      "[Parallel(n_jobs=-1)]: Done   2 tasks      | elapsed:    3.8s\n",
      "[Parallel(n_jobs=-1)]: Done   9 tasks      | elapsed:    9.9s\n",
      "[Parallel(n_jobs=-1)]: Done  16 tasks      | elapsed:   18.4s\n",
      "[Parallel(n_jobs=-1)]: Done  25 tasks      | elapsed:   29.5s\n",
      "[Parallel(n_jobs=-1)]: Done  34 tasks      | elapsed:   42.3s\n",
      "[Parallel(n_jobs=-1)]: Done  45 tasks      | elapsed:  1.0min\n",
      "[Parallel(n_jobs=-1)]: Done  56 tasks      | elapsed:  1.4min\n",
      "[Parallel(n_jobs=-1)]: Done  65 out of  72 | elapsed:  1.6min remaining:   10.6s\n",
      "[Parallel(n_jobs=-1)]: Done  72 out of  72 | elapsed:  1.9min finished\n"
     ]
    },
    {
     "name": "stdout",
     "output_type": "stream",
     "text": [
      "Fitting 3 folds for each of 24 candidates, totalling 72 fits\n"
     ]
    },
    {
     "name": "stderr",
     "output_type": "stream",
     "text": [
      "[Parallel(n_jobs=-1)]: Using backend LokyBackend with 8 concurrent workers.\n",
      "[Parallel(n_jobs=-1)]: Done   2 tasks      | elapsed:    4.7s\n",
      "[Parallel(n_jobs=-1)]: Done   9 tasks      | elapsed:   11.9s\n",
      "[Parallel(n_jobs=-1)]: Done  16 tasks      | elapsed:   23.5s\n",
      "[Parallel(n_jobs=-1)]: Done  25 tasks      | elapsed:   38.5s\n",
      "[Parallel(n_jobs=-1)]: Done  34 tasks      | elapsed:   54.2s\n",
      "[Parallel(n_jobs=-1)]: Done  45 tasks      | elapsed:  1.3min\n",
      "[Parallel(n_jobs=-1)]: Done  56 tasks      | elapsed:  1.8min\n",
      "[Parallel(n_jobs=-1)]: Done  65 out of  72 | elapsed:  2.1min remaining:   13.7s\n",
      "[Parallel(n_jobs=-1)]: Done  72 out of  72 | elapsed:  2.5min finished\n"
     ]
    },
    {
     "name": "stdout",
     "output_type": "stream",
     "text": [
      "Fitting 3 folds for each of 24 candidates, totalling 72 fits\n"
     ]
    },
    {
     "name": "stderr",
     "output_type": "stream",
     "text": [
      "[Parallel(n_jobs=-1)]: Using backend LokyBackend with 8 concurrent workers.\n",
      "[Parallel(n_jobs=-1)]: Done   2 tasks      | elapsed:    5.5s\n",
      "[Parallel(n_jobs=-1)]: Done   9 tasks      | elapsed:   13.9s\n",
      "[Parallel(n_jobs=-1)]: Done  16 tasks      | elapsed:   27.2s\n",
      "[Parallel(n_jobs=-1)]: Done  25 tasks      | elapsed:   46.8s\n",
      "[Parallel(n_jobs=-1)]: Done  34 tasks      | elapsed:  1.1min\n",
      "[Parallel(n_jobs=-1)]: Done  45 tasks      | elapsed:  1.6min\n",
      "[Parallel(n_jobs=-1)]: Done  56 tasks      | elapsed:  2.2min\n",
      "[Parallel(n_jobs=-1)]: Done  65 out of  72 | elapsed:  2.6min remaining:   16.8s\n",
      "[Parallel(n_jobs=-1)]: Done  72 out of  72 | elapsed:  3.1min finished\n"
     ]
    },
    {
     "name": "stdout",
     "output_type": "stream",
     "text": [
      "Fitting 3 folds for each of 24 candidates, totalling 72 fits\n"
     ]
    },
    {
     "name": "stderr",
     "output_type": "stream",
     "text": [
      "[Parallel(n_jobs=-1)]: Using backend LokyBackend with 8 concurrent workers.\n",
      "[Parallel(n_jobs=-1)]: Done   2 tasks      | elapsed:    5.9s\n",
      "[Parallel(n_jobs=-1)]: Done   9 tasks      | elapsed:   16.3s\n",
      "[Parallel(n_jobs=-1)]: Done  16 tasks      | elapsed:   32.4s\n",
      "[Parallel(n_jobs=-1)]: Done  25 tasks      | elapsed:   54.8s\n",
      "[Parallel(n_jobs=-1)]: Done  34 tasks      | elapsed:  1.3min\n",
      "[Parallel(n_jobs=-1)]: Done  45 tasks      | elapsed:  1.9min\n",
      "[Parallel(n_jobs=-1)]: Done  56 tasks      | elapsed:  2.6min\n",
      "[Parallel(n_jobs=-1)]: Done  65 out of  72 | elapsed:  3.1min remaining:   20.1s\n",
      "[Parallel(n_jobs=-1)]: Done  72 out of  72 | elapsed:  3.7min finished\n"
     ]
    },
    {
     "name": "stdout",
     "output_type": "stream",
     "text": [
      "Fitting 3 folds for each of 24 candidates, totalling 72 fits\n"
     ]
    },
    {
     "name": "stderr",
     "output_type": "stream",
     "text": [
      "[Parallel(n_jobs=-1)]: Using backend LokyBackend with 8 concurrent workers.\n",
      "[Parallel(n_jobs=-1)]: Done   2 tasks      | elapsed:    6.5s\n",
      "[Parallel(n_jobs=-1)]: Done   9 tasks      | elapsed:   18.3s\n",
      "[Parallel(n_jobs=-1)]: Done  16 tasks      | elapsed:   36.1s\n",
      "[Parallel(n_jobs=-1)]: Done  25 tasks      | elapsed:  1.0min\n",
      "[Parallel(n_jobs=-1)]: Done  34 tasks      | elapsed:  1.4min\n",
      "[Parallel(n_jobs=-1)]: Done  45 tasks      | elapsed:  2.1min\n",
      "[Parallel(n_jobs=-1)]: Done  56 tasks      | elapsed:  2.9min\n",
      "[Parallel(n_jobs=-1)]: Done  65 out of  72 | elapsed:  3.4min remaining:   22.3s\n",
      "[Parallel(n_jobs=-1)]: Done  72 out of  72 | elapsed:  4.1min finished\n"
     ]
    },
    {
     "name": "stdout",
     "output_type": "stream",
     "text": [
      "Fitting 3 folds for each of 24 candidates, totalling 72 fits\n"
     ]
    },
    {
     "name": "stderr",
     "output_type": "stream",
     "text": [
      "[Parallel(n_jobs=-1)]: Using backend LokyBackend with 8 concurrent workers.\n",
      "[Parallel(n_jobs=-1)]: Done   2 tasks      | elapsed:    6.9s\n",
      "[Parallel(n_jobs=-1)]: Done   9 tasks      | elapsed:   19.4s\n",
      "[Parallel(n_jobs=-1)]: Done  16 tasks      | elapsed:   37.8s\n",
      "[Parallel(n_jobs=-1)]: Done  25 tasks      | elapsed:  1.1min\n",
      "[Parallel(n_jobs=-1)]: Done  34 tasks      | elapsed:  1.5min\n",
      "[Parallel(n_jobs=-1)]: Done  45 tasks      | elapsed:  2.2min\n",
      "[Parallel(n_jobs=-1)]: Done  56 tasks      | elapsed:  3.1min\n",
      "[Parallel(n_jobs=-1)]: Done  65 out of  72 | elapsed:  3.8min remaining:   24.4s\n",
      "[Parallel(n_jobs=-1)]: Done  72 out of  72 | elapsed:  4.5min finished\n"
     ]
    },
    {
     "name": "stdout",
     "output_type": "stream",
     "text": [
      "Fitting 3 folds for each of 24 candidates, totalling 72 fits\n"
     ]
    },
    {
     "name": "stderr",
     "output_type": "stream",
     "text": [
      "[Parallel(n_jobs=-1)]: Using backend LokyBackend with 8 concurrent workers.\n",
      "[Parallel(n_jobs=-1)]: Done   2 tasks      | elapsed:    8.0s\n",
      "[Parallel(n_jobs=-1)]: Done   9 tasks      | elapsed:   22.3s\n",
      "[Parallel(n_jobs=-1)]: Done  16 tasks      | elapsed:   43.0s\n",
      "[Parallel(n_jobs=-1)]: Done  25 tasks      | elapsed:  1.2min\n",
      "[Parallel(n_jobs=-1)]: Done  34 tasks      | elapsed:  1.7min\n",
      "[Parallel(n_jobs=-1)]: Done  45 tasks      | elapsed:  2.5min\n",
      "[Parallel(n_jobs=-1)]: Done  56 tasks      | elapsed:  3.4min\n",
      "[Parallel(n_jobs=-1)]: Done  65 out of  72 | elapsed:  4.2min remaining:   26.8s\n",
      "[Parallel(n_jobs=-1)]: Done  72 out of  72 | elapsed:  5.0min finished\n"
     ]
    },
    {
     "data": {
      "text/plain": [
       "['fit_time',\n",
       " 'score_time',\n",
       " 'test_Brier',\n",
       " 'test_Matthewscorrcoef',\n",
       " 'test_ROC_AUC',\n",
       " 'test_f1',\n",
       " 'test_recall']"
      ]
     },
     "execution_count": 19,
     "metadata": {},
     "output_type": "execute_result"
    }
   ],
   "source": [
    "custom_scorer = {\n",
    "                 'recall': make_scorer(recall_score),\n",
    "                 'Brier': make_scorer(brier_score_loss),\n",
    "                 'Matthewscorrcoef': make_scorer(matthews_corrcoef),\n",
    "                 'ROC_AUC': make_scorer(roc_auc_score),\n",
    "                 'f1': make_scorer(f1_score)\n",
    "                 }\n",
    "forest_scores = cross_validate(pipeline, X_Data,Y_Data.values.ravel(), cv = time_splitter_outer, scoring = custom_scorer)\n",
    "sorted(forest_scores.keys())"
   ]
  },
  {
   "cell_type": "code",
   "execution_count": 20,
   "metadata": {},
   "outputs": [],
   "source": [
    "RF_time=forest_scores['fit_time']\n",
    "RF_recall = forest_scores['test_recall']\n",
    "RF_Brier = forest_scores['test_Brier']\n",
    "RF_Matthewscorrcoef = forest_scores['test_Matthewscorrcoef']\n",
    "RF_ROC_AUC = forest_scores['test_ROC_AUC']\n",
    "RF_f1 = forest_scores['test_f1']"
   ]
  },
  {
   "cell_type": "code",
   "execution_count": 21,
   "metadata": {},
   "outputs": [
    {
     "name": "stdout",
     "output_type": "stream",
     "text": [
      "===  F1 scores ===\n",
      "[0.29457364 0.29038113 0.27475248 0.4502924  0.18563923 0.39039039\n",
      " 0.18259936 0.2382134  0.35185185 0.20494053]\n",
      "=== All recall Scores ===\n",
      "[0.20430108 0.44692737 0.58115183 0.385      0.59887006 0.37356322\n",
      " 0.76576577 0.69902913 0.48717949 0.61878453]\n",
      "=== All Brier Scores ===\n",
      "[0.02860286 0.061449   0.09209492 0.02954581 0.14615747 0.03190319\n",
      " 0.11959767 0.14474305 0.0330033  0.1365708 ]\n",
      "=== All Matthewscorrcoef Scores ===\n",
      "[0.31661285 0.28169801 0.28784029 0.44231772 0.2109002  0.37444505\n",
      " 0.25328117 0.2717663  0.35074731 0.23217286]\n",
      "=== All ROC_AUC  Score ===\n",
      "[0.59939839 0.69985437 0.74958434 0.68722659 0.73000406 0.67918749\n",
      " 0.82410169 0.77975656 0.73158206 0.74468829]\n",
      "===  fit_time ===\n",
      "[ 40.68857193  71.32628298 102.61993909 133.39612484 178.33364201\n",
      " 213.115453   257.58026791 289.47608709 326.40497303 346.66295385]\n"
     ]
    }
   ],
   "source": [
    "print(\"===  F1 scores ===\")\n",
    "print(RF_f1)\n",
    "print(\"=== All recall Scores ===\")\n",
    "print(RF_recall)\n",
    "print(\"=== All Brier Scores ===\")\n",
    "print(RF_Brier)\n",
    "print(\"=== All Matthewscorrcoef Scores ===\")\n",
    "print(RF_Matthewscorrcoef)\n",
    "print(\"=== All ROC_AUC  Score ===\")\n",
    "print( RF_ROC_AUC )\n",
    "print(\"===  fit_time ===\")\n",
    "print(RF_time)"
   ]
  },
  {
   "cell_type": "code",
   "execution_count": 22,
   "metadata": {},
   "outputs": [
    {
     "name": "stdout",
     "output_type": "stream",
     "text": [
      "=== mean F1 score ===\n",
      "0.2863634398895363\n",
      "=== Mean recall Score ===\n",
      "0.5160572466464792\n",
      "=== Mean Brier Score ===\n",
      "0.08236680810938238\n",
      "=== Mean Matthewscorrcoef  Score ===\n",
      "0.3021781758253513\n",
      "=== Mean ROC_AUC  Score ===\n",
      "0.7225383848134994\n",
      "=== Mean RF_time  ===\n",
      "195.9604295730591\n"
     ]
    }
   ],
   "source": [
    "print(\"=== mean F1 score ===\")\n",
    "print(RF_f1.mean())\n",
    "print(\"=== Mean recall Score ===\")\n",
    "print( RF_recall.mean())\n",
    "print(\"=== Mean Brier Score ===\")\n",
    "print( RF_Brier.mean())\n",
    "print(\"=== Mean Matthewscorrcoef  Score ===\")\n",
    "print( RF_Matthewscorrcoef .mean())\n",
    "print(\"=== Mean ROC_AUC  Score ===\")\n",
    "print( RF_ROC_AUC .mean())\n",
    "print(\"=== Mean RF_time  ===\")\n",
    "print( RF_time .mean())"
   ]
  },
  {
   "cell_type": "code",
   "execution_count": 23,
   "metadata": {},
   "outputs": [
    {
     "name": "stdout",
     "output_type": "stream",
     "text": [
      "=== Minimum F1 score ===\n",
      "0.18259935553168638\n",
      "=== Minimum recall Score ===\n",
      "0.20430107526881722\n",
      "=== Minimum Brier Score ===\n",
      "0.028602860286028604\n",
      "=== Minimum Matthewscorrcoef  Score ===\n",
      "0.2109001957345315\n",
      "=== Minimum ROC_AUC  Score ===\n",
      "0.5993983925801752\n",
      "=== Minimum RF_time  ===\n",
      "40.68857192993164\n"
     ]
    }
   ],
   "source": [
    "print(\"=== Minimum F1 score ===\")\n",
    "print(RF_f1.min())\n",
    "print(\"=== Minimum recall Score ===\")\n",
    "print( RF_recall.min())\n",
    "print(\"=== Minimum Brier Score ===\")\n",
    "print( RF_Brier.min())\n",
    "print(\"=== Minimum Matthewscorrcoef  Score ===\")\n",
    "print( RF_Matthewscorrcoef.min())\n",
    "print(\"=== Minimum ROC_AUC  Score ===\")\n",
    "print( RF_ROC_AUC.min())\n",
    "print(\"=== Minimum RF_time  ===\")\n",
    "print( RF_time.min())"
   ]
  },
  {
   "cell_type": "code",
   "execution_count": 24,
   "metadata": {},
   "outputs": [
    {
     "name": "stdout",
     "output_type": "stream",
     "text": [
      "=== Maximum F1 score ===\n",
      "0.45029239766081874\n",
      "=== Maximum recall Score ===\n",
      "0.7657657657657657\n",
      "=== Minimum Brier Score ===\n",
      "0.028602860286028604\n",
      "=== Maximum Matthewscorrcoef  Score ===\n",
      "0.44231772345896514\n",
      "=== Maximum ROC_AUC  Score ===\n",
      "0.824101692863689\n",
      "=== Maximum RF_time ===\n",
      "346.6629538536072\n"
     ]
    }
   ],
   "source": [
    "print(\"=== Maximum F1 score ===\")\n",
    "print(RF_f1.max())\n",
    "print(\"=== Maximum recall Score ===\")\n",
    "print( RF_recall.max())\n",
    "print(\"=== Minimum Brier Score ===\")\n",
    "print( RF_Brier.min())\n",
    "print(\"=== Maximum Matthewscorrcoef  Score ===\")\n",
    "print( RF_Matthewscorrcoef .max())\n",
    "print(\"=== Maximum ROC_AUC  Score ===\")\n",
    "print( RF_ROC_AUC .max())\n",
    "print(\"=== Maximum RF_time ===\")\n",
    "print( RF_time .max())"
   ]
  },
  {
   "cell_type": "code",
   "execution_count": null,
   "metadata": {},
   "outputs": [],
   "source": []
  }
 ],
 "metadata": {
  "kernelspec": {
   "display_name": "Python 3",
   "language": "python",
   "name": "python3"
  },
  "language_info": {
   "codemirror_mode": {
    "name": "ipython",
    "version": 3
   },
   "file_extension": ".py",
   "mimetype": "text/x-python",
   "name": "python",
   "nbconvert_exporter": "python",
   "pygments_lexer": "ipython3",
   "version": "3.7.7"
  }
 },
 "nbformat": 4,
 "nbformat_minor": 4
}
