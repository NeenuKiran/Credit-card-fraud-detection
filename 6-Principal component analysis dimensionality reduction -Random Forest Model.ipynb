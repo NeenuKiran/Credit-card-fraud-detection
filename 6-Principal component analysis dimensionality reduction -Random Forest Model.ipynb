{
 "cells": [
  {
   "cell_type": "code",
   "execution_count": 2,
   "metadata": {},
   "outputs": [],
   "source": [
    "import pandas as pd\n",
    "import numpy as np\n",
    "\n",
    "import seaborn as sns\n",
    "import matplotlib.pyplot as plt\n",
    "%matplotlib inline\n",
    "\n",
    "from sklearn.feature_selection import VarianceThreshold,mutual_info_classif,SelectKBest,SelectFromModel\n",
    "\n",
    "from sklearn.ensemble import RandomForestClassifier\n",
    "\n",
    "from sklearn.model_selection import  GridSearchCV,cross_val_score,TimeSeriesSplit,cross_validate\n",
    "from sklearn.pipeline import Pipeline\n",
    "from imblearn.pipeline import make_pipeline\n",
    "from sklearn import tree\n",
    "import sklearn.metrics as metrics\n",
    "from sklearn.metrics import confusion_matrix, recall_score, precision_score, roc_auc_score,roc_curve, auc,matthews_corrcoef,f1_score,brier_score_loss,make_scorer\n",
    " \n",
    "from sklearn.decomposition import PCA"
   ]
  },
  {
   "cell_type": "code",
   "execution_count": 3,
   "metadata": {},
   "outputs": [],
   "source": [
    "#reading csv files\n",
    "#reading csv files\n",
    "X_train=pd.read_csv('X_train_F.csv')\n",
    "Y_train=pd.read_csv('Y_train_F.csv')\n",
    "X_test=pd.read_csv('X_test_F.csv')\n",
    "Y_test=pd.read_csv('Y_test_F.csv')"
   ]
  },
  {
   "cell_type": "code",
   "execution_count": 4,
   "metadata": {},
   "outputs": [],
   "source": [
    "X_Data=pd.read_csv('X_Data.csv')\n",
    "Y_Data=pd.read_csv('Y_Data.csv')"
   ]
  },
  {
   "cell_type": "code",
   "execution_count": 5,
   "metadata": {},
   "outputs": [],
   "source": [
    "X_train= X_train[:70000]\n",
    "Y_train=Y_train[:70000]"
   ]
  },
  {
   "cell_type": "code",
   "execution_count": 6,
   "metadata": {},
   "outputs": [],
   "source": [
    "#Random forest"
   ]
  },
  {
   "cell_type": "code",
   "execution_count": 7,
   "metadata": {},
   "outputs": [],
   "source": [
    "# with default paramter\n",
    "\n",
    "clf = RandomForestClassifier(class_weight=\"balanced\")\n",
    "pca = PCA(.96)\n",
    "pipeline_RF = Pipeline([('feature_sele',pca),('clf',clf)])"
   ]
  },
  {
   "cell_type": "code",
   "execution_count": 8,
   "metadata": {},
   "outputs": [],
   "source": [
    "pipeline_RF.fit(X_train,Y_train.values.ravel())\n",
    "y_trainpredprobem=pipeline_RF.predict_proba(X_train)\n",
    "y_testpred = pipeline_RF.predict_proba(X_test)"
   ]
  },
  {
   "cell_type": "code",
   "execution_count": 9,
   "metadata": {},
   "outputs": [
    {
     "name": "stdout",
     "output_type": "stream",
     "text": [
      "auc of train with default parameter: 1.0\n",
      "test auc with default parameter: 0.5371375985639915\n"
     ]
    }
   ],
   "source": [
    "# auc with default parameters\n",
    "print('auc of train with default parameter:',roc_auc_score(Y_train,y_trainpredprobem[:,1]))\n",
    "print('test auc with default parameter:',roc_auc_score(Y_test,y_testpred[:,1]))"
   ]
  },
  {
   "cell_type": "code",
   "execution_count": 9,
   "metadata": {},
   "outputs": [
    {
     "name": "stdout",
     "output_type": "stream",
     "text": [
      "brier_score_loss: 0.06631016597596268\n"
     ]
    }
   ],
   "source": [
    "print('brier_score_loss:',brier_score_loss(Y_test,y_testpred[:,1]))"
   ]
  },
  {
   "cell_type": "code",
   "execution_count": 10,
   "metadata": {},
   "outputs": [
    {
     "name": "stdout",
     "output_type": "stream",
     "text": [
      "Recall:\n",
      " 0.0\n",
      "matthews_corrcoef:\n",
      " 0.0\n"
     ]
    },
    {
     "name": "stderr",
     "output_type": "stream",
     "text": [
      "/Users/neenu/opt/anaconda3/lib/python3.7/site-packages/sklearn/metrics/_classification.py:846: RuntimeWarning: invalid value encountered in double_scalars\n",
      "  mcc = cov_ytyp / np.sqrt(cov_ytyt * cov_ypyp)\n"
     ]
    }
   ],
   "source": [
    "y_testpred_ =pipeline_RF.predict(X_test)\n",
    "print(\"Recall:\\n\",metrics.recall_score(Y_test,y_testpred_))\n",
    "print(\"matthews_corrcoef:\\n\",matthews_corrcoef(Y_test, y_testpred_))"
   ]
  },
  {
   "cell_type": "code",
   "execution_count": 11,
   "metadata": {},
   "outputs": [
    {
     "name": "stdout",
     "output_type": "stream",
     "text": [
      "Parameters currently in use:\n",
      "\n",
      "{'bootstrap': True, 'ccp_alpha': 0.0, 'class_weight': 'balanced', 'criterion': 'gini', 'max_depth': None, 'max_features': 'auto', 'max_leaf_nodes': None, 'max_samples': None, 'min_impurity_decrease': 0.0, 'min_impurity_split': None, 'min_samples_leaf': 1, 'min_samples_split': 2, 'min_weight_fraction_leaf': 0.0, 'n_estimators': 100, 'n_jobs': None, 'oob_score': False, 'random_state': None, 'verbose': 0, 'warm_start': False}\n"
     ]
    }
   ],
   "source": [
    "#  parameters currently used\n",
    "print('Parameters currently in use:\\n')\n",
    "print(clf.get_params())"
   ]
  },
  {
   "cell_type": "code",
   "execution_count": 14,
   "metadata": {},
   "outputs": [],
   "source": [
    "#GridSearchCV with timeseries\n",
    "from sklearn.pipeline import Pipeline\n",
    "time_splitter_inner = TimeSeriesSplit(n_splits = 3)\n",
    "time_splitter_outer= TimeSeriesSplit(n_splits = 10)\n",
    "\n",
    "model=RandomForestClassifier(class_weight=\"balanced\")\n",
    "params = {'n_estimators':[500,700,900,1000],\n",
    "           'max_depth':[3,5,7,9,11,13]}\n",
    "pca = PCA(.90)\n",
    "\n",
    "gs_rf = GridSearchCV(model, param_grid = params, cv = time_splitter_inner, scoring = 'roc_auc',verbose=10, n_jobs=-1)\n",
    "\n",
    "pipeline  = Pipeline([('feature_sele',pca),\n",
    "                      ('clf_cv',gs_rf)])"
   ]
  },
  {
   "cell_type": "code",
   "execution_count": 15,
   "metadata": {},
   "outputs": [
    {
     "name": "stdout",
     "output_type": "stream",
     "text": [
      "Fitting 3 folds for each of 24 candidates, totalling 72 fits\n"
     ]
    },
    {
     "name": "stderr",
     "output_type": "stream",
     "text": [
      "[Parallel(n_jobs=-1)]: Using backend LokyBackend with 8 concurrent workers.\n",
      "[Parallel(n_jobs=-1)]: Done   2 tasks      | elapsed:   17.9s\n",
      "[Parallel(n_jobs=-1)]: Done   9 tasks      | elapsed:   53.6s\n",
      "[Parallel(n_jobs=-1)]: Done  16 tasks      | elapsed:  1.7min\n",
      "[Parallel(n_jobs=-1)]: Done  25 tasks      | elapsed:  2.9min\n",
      "[Parallel(n_jobs=-1)]: Done  34 tasks      | elapsed:  4.0min\n",
      "[Parallel(n_jobs=-1)]: Done  45 tasks      | elapsed:  6.2min\n",
      "[Parallel(n_jobs=-1)]: Done  56 tasks      | elapsed:  8.5min\n",
      "[Parallel(n_jobs=-1)]: Done  65 out of  72 | elapsed: 10.3min remaining:  1.1min\n",
      "[Parallel(n_jobs=-1)]: Done  72 out of  72 | elapsed: 12.8min finished\n"
     ]
    },
    {
     "data": {
      "text/plain": [
       "Pipeline(steps=[('feature_sele', PCA(n_components=0.9)),\n",
       "                ('clf_cv',\n",
       "                 GridSearchCV(cv=TimeSeriesSplit(max_train_size=None, n_splits=3),\n",
       "                              estimator=RandomForestClassifier(class_weight='balanced'),\n",
       "                              n_jobs=-1,\n",
       "                              param_grid={'max_depth': [3, 5, 7, 9, 11, 13],\n",
       "                                          'n_estimators': [500, 700, 900,\n",
       "                                                           1000]},\n",
       "                              scoring='roc_auc', verbose=10))])"
      ]
     },
     "execution_count": 15,
     "metadata": {},
     "output_type": "execute_result"
    }
   ],
   "source": [
    "pipeline.fit(X_Data,Y_Data.values.ravel())"
   ]
  },
  {
   "cell_type": "code",
   "execution_count": 16,
   "metadata": {},
   "outputs": [
    {
     "name": "stdout",
     "output_type": "stream",
     "text": [
      "Fitting 3 folds for each of 24 candidates, totalling 72 fits\n"
     ]
    },
    {
     "name": "stderr",
     "output_type": "stream",
     "text": [
      "[Parallel(n_jobs=-1)]: Using backend LokyBackend with 8 concurrent workers.\n",
      "[Parallel(n_jobs=-1)]: Done   2 tasks      | elapsed:    2.5s\n",
      "[Parallel(n_jobs=-1)]: Done   9 tasks      | elapsed:    5.5s\n",
      "[Parallel(n_jobs=-1)]: Done  16 tasks      | elapsed:   10.5s\n",
      "[Parallel(n_jobs=-1)]: Done  25 tasks      | elapsed:   16.5s\n",
      "[Parallel(n_jobs=-1)]: Done  34 tasks      | elapsed:   23.6s\n",
      "[Parallel(n_jobs=-1)]: Done  45 tasks      | elapsed:   32.1s\n",
      "[Parallel(n_jobs=-1)]: Done  56 tasks      | elapsed:   41.7s\n",
      "[Parallel(n_jobs=-1)]: Done  65 out of  72 | elapsed:   49.4s remaining:    5.3s\n",
      "[Parallel(n_jobs=-1)]: Done  72 out of  72 | elapsed:   57.2s finished\n"
     ]
    },
    {
     "name": "stdout",
     "output_type": "stream",
     "text": [
      "Fitting 3 folds for each of 24 candidates, totalling 72 fits\n"
     ]
    },
    {
     "name": "stderr",
     "output_type": "stream",
     "text": [
      "[Parallel(n_jobs=-1)]: Using backend LokyBackend with 8 concurrent workers.\n",
      "[Parallel(n_jobs=-1)]: Done   2 tasks      | elapsed:    3.6s\n",
      "[Parallel(n_jobs=-1)]: Done   9 tasks      | elapsed:    9.5s\n",
      "[Parallel(n_jobs=-1)]: Done  16 tasks      | elapsed:   18.4s\n",
      "[Parallel(n_jobs=-1)]: Done  25 tasks      | elapsed:   30.5s\n",
      "[Parallel(n_jobs=-1)]: Done  34 tasks      | elapsed:   42.2s\n",
      "[Parallel(n_jobs=-1)]: Done  45 tasks      | elapsed:  1.0min\n",
      "[Parallel(n_jobs=-1)]: Done  56 tasks      | elapsed:  1.3min\n",
      "[Parallel(n_jobs=-1)]: Done  65 out of  72 | elapsed:  1.6min remaining:   10.2s\n",
      "[Parallel(n_jobs=-1)]: Done  72 out of  72 | elapsed:  1.9min finished\n"
     ]
    },
    {
     "name": "stdout",
     "output_type": "stream",
     "text": [
      "Fitting 3 folds for each of 24 candidates, totalling 72 fits\n"
     ]
    },
    {
     "name": "stderr",
     "output_type": "stream",
     "text": [
      "[Parallel(n_jobs=-1)]: Using backend LokyBackend with 8 concurrent workers.\n",
      "[Parallel(n_jobs=-1)]: Done   2 tasks      | elapsed:    4.7s\n",
      "[Parallel(n_jobs=-1)]: Done   9 tasks      | elapsed:   12.7s\n",
      "[Parallel(n_jobs=-1)]: Done  16 tasks      | elapsed:   25.3s\n",
      "[Parallel(n_jobs=-1)]: Done  25 tasks      | elapsed:   44.0s\n",
      "[Parallel(n_jobs=-1)]: Done  34 tasks      | elapsed:  1.0min\n",
      "[Parallel(n_jobs=-1)]: Done  45 tasks      | elapsed:  1.5min\n",
      "[Parallel(n_jobs=-1)]: Done  56 tasks      | elapsed:  2.0min\n",
      "[Parallel(n_jobs=-1)]: Done  65 out of  72 | elapsed:  2.4min remaining:   15.3s\n",
      "[Parallel(n_jobs=-1)]: Done  72 out of  72 | elapsed:  2.9min finished\n"
     ]
    },
    {
     "name": "stdout",
     "output_type": "stream",
     "text": [
      "Fitting 3 folds for each of 24 candidates, totalling 72 fits\n"
     ]
    },
    {
     "name": "stderr",
     "output_type": "stream",
     "text": [
      "[Parallel(n_jobs=-1)]: Using backend LokyBackend with 8 concurrent workers.\n",
      "[Parallel(n_jobs=-1)]: Done   2 tasks      | elapsed:    6.0s\n",
      "[Parallel(n_jobs=-1)]: Done   9 tasks      | elapsed:   17.4s\n",
      "[Parallel(n_jobs=-1)]: Done  16 tasks      | elapsed:   33.7s\n",
      "[Parallel(n_jobs=-1)]: Done  25 tasks      | elapsed:  1.2min\n",
      "[Parallel(n_jobs=-1)]: Done  34 tasks      | elapsed:  1.6min\n",
      "[Parallel(n_jobs=-1)]: Done  45 tasks      | elapsed:  2.2min\n",
      "[Parallel(n_jobs=-1)]: Done  56 tasks      | elapsed:  3.0min\n",
      "[Parallel(n_jobs=-1)]: Done  65 out of  72 | elapsed:  3.5min remaining:   22.8s\n",
      "[Parallel(n_jobs=-1)]: Done  72 out of  72 | elapsed:  4.2min finished\n"
     ]
    },
    {
     "name": "stdout",
     "output_type": "stream",
     "text": [
      "Fitting 3 folds for each of 24 candidates, totalling 72 fits\n"
     ]
    },
    {
     "name": "stderr",
     "output_type": "stream",
     "text": [
      "[Parallel(n_jobs=-1)]: Using backend LokyBackend with 8 concurrent workers.\n",
      "[Parallel(n_jobs=-1)]: Done   2 tasks      | elapsed:    5.5s\n",
      "[Parallel(n_jobs=-1)]: Done   9 tasks      | elapsed:   15.7s\n",
      "[Parallel(n_jobs=-1)]: Done  16 tasks      | elapsed:   30.5s\n",
      "[Parallel(n_jobs=-1)]: Done  25 tasks      | elapsed:   52.5s\n",
      "[Parallel(n_jobs=-1)]: Done  34 tasks      | elapsed:  1.2min\n",
      "[Parallel(n_jobs=-1)]: Done  45 tasks      | elapsed:  1.8min\n",
      "[Parallel(n_jobs=-1)]: Done  56 tasks      | elapsed:  2.5min\n",
      "[Parallel(n_jobs=-1)]: Done  65 out of  72 | elapsed:  2.9min remaining:   18.9s\n",
      "[Parallel(n_jobs=-1)]: Done  72 out of  72 | elapsed:  3.6min finished\n"
     ]
    },
    {
     "name": "stdout",
     "output_type": "stream",
     "text": [
      "Fitting 3 folds for each of 24 candidates, totalling 72 fits\n"
     ]
    },
    {
     "name": "stderr",
     "output_type": "stream",
     "text": [
      "[Parallel(n_jobs=-1)]: Using backend LokyBackend with 8 concurrent workers.\n",
      "[Parallel(n_jobs=-1)]: Done   2 tasks      | elapsed:    6.6s\n",
      "[Parallel(n_jobs=-1)]: Done   9 tasks      | elapsed:   18.9s\n",
      "[Parallel(n_jobs=-1)]: Done  16 tasks      | elapsed:   37.0s\n",
      "[Parallel(n_jobs=-1)]: Done  25 tasks      | elapsed:  1.1min\n",
      "[Parallel(n_jobs=-1)]: Done  34 tasks      | elapsed:  1.5min\n",
      "[Parallel(n_jobs=-1)]: Done  45 tasks      | elapsed:  2.2min\n",
      "[Parallel(n_jobs=-1)]: Done  56 tasks      | elapsed:  3.0min\n",
      "[Parallel(n_jobs=-1)]: Done  65 out of  72 | elapsed:  3.6min remaining:   23.4s\n",
      "[Parallel(n_jobs=-1)]: Done  72 out of  72 | elapsed:  4.4min finished\n"
     ]
    },
    {
     "name": "stdout",
     "output_type": "stream",
     "text": [
      "Fitting 3 folds for each of 24 candidates, totalling 72 fits\n"
     ]
    },
    {
     "name": "stderr",
     "output_type": "stream",
     "text": [
      "[Parallel(n_jobs=-1)]: Using backend LokyBackend with 8 concurrent workers.\n",
      "[Parallel(n_jobs=-1)]: Done   2 tasks      | elapsed:   10.0s\n",
      "[Parallel(n_jobs=-1)]: Done   9 tasks      | elapsed:   30.9s\n",
      "[Parallel(n_jobs=-1)]: Done  16 tasks      | elapsed:   59.4s\n",
      "[Parallel(n_jobs=-1)]: Done  25 tasks      | elapsed:  1.7min\n",
      "[Parallel(n_jobs=-1)]: Done  34 tasks      | elapsed:  2.4min\n",
      "[Parallel(n_jobs=-1)]: Done  45 tasks      | elapsed:  3.7min\n",
      "[Parallel(n_jobs=-1)]: Done  56 tasks      | elapsed:  5.0min\n",
      "[Parallel(n_jobs=-1)]: Done  65 out of  72 | elapsed:  6.1min remaining:   39.3s\n",
      "[Parallel(n_jobs=-1)]: Done  72 out of  72 | elapsed:  7.4min finished\n"
     ]
    },
    {
     "name": "stdout",
     "output_type": "stream",
     "text": [
      "Fitting 3 folds for each of 24 candidates, totalling 72 fits\n"
     ]
    },
    {
     "name": "stderr",
     "output_type": "stream",
     "text": [
      "[Parallel(n_jobs=-1)]: Using backend LokyBackend with 8 concurrent workers.\n",
      "[Parallel(n_jobs=-1)]: Done   2 tasks      | elapsed:   11.4s\n",
      "[Parallel(n_jobs=-1)]: Done   9 tasks      | elapsed:   35.2s\n",
      "[Parallel(n_jobs=-1)]: Done  16 tasks      | elapsed:  1.1min\n",
      "[Parallel(n_jobs=-1)]: Done  25 tasks      | elapsed:  2.0min\n",
      "[Parallel(n_jobs=-1)]: Done  34 tasks      | elapsed:  2.8min\n",
      "[Parallel(n_jobs=-1)]: Done  45 tasks      | elapsed:  4.3min\n",
      "[Parallel(n_jobs=-1)]: Done  56 tasks      | elapsed:  5.9min\n",
      "[Parallel(n_jobs=-1)]: Done  65 out of  72 | elapsed:  7.3min remaining:   47.1s\n",
      "[Parallel(n_jobs=-1)]: Done  72 out of  72 | elapsed:  8.9min finished\n"
     ]
    },
    {
     "name": "stdout",
     "output_type": "stream",
     "text": [
      "Fitting 3 folds for each of 24 candidates, totalling 72 fits\n"
     ]
    },
    {
     "name": "stderr",
     "output_type": "stream",
     "text": [
      "[Parallel(n_jobs=-1)]: Using backend LokyBackend with 8 concurrent workers.\n",
      "[Parallel(n_jobs=-1)]: Done   2 tasks      | elapsed:   12.8s\n",
      "[Parallel(n_jobs=-1)]: Done   9 tasks      | elapsed:   40.1s\n",
      "[Parallel(n_jobs=-1)]: Done  16 tasks      | elapsed:  1.3min\n",
      "[Parallel(n_jobs=-1)]: Done  25 tasks      | elapsed:  2.3min\n",
      "[Parallel(n_jobs=-1)]: Done  34 tasks      | elapsed:  3.3min\n",
      "[Parallel(n_jobs=-1)]: Done  45 tasks      | elapsed:  5.0min\n",
      "[Parallel(n_jobs=-1)]: Done  56 tasks      | elapsed:  6.9min\n",
      "[Parallel(n_jobs=-1)]: Done  65 out of  72 | elapsed:  8.4min remaining:   54.2s\n",
      "[Parallel(n_jobs=-1)]: Done  72 out of  72 | elapsed: 10.2min finished\n"
     ]
    },
    {
     "name": "stdout",
     "output_type": "stream",
     "text": [
      "Fitting 3 folds for each of 24 candidates, totalling 72 fits\n"
     ]
    },
    {
     "name": "stderr",
     "output_type": "stream",
     "text": [
      "[Parallel(n_jobs=-1)]: Using backend LokyBackend with 8 concurrent workers.\n",
      "[Parallel(n_jobs=-1)]: Done   2 tasks      | elapsed:   14.6s\n",
      "[Parallel(n_jobs=-1)]: Done   9 tasks      | elapsed:   45.8s\n",
      "[Parallel(n_jobs=-1)]: Done  16 tasks      | elapsed:  1.5min\n",
      "[Parallel(n_jobs=-1)]: Done  25 tasks      | elapsed:  2.5min\n",
      "[Parallel(n_jobs=-1)]: Done  34 tasks      | elapsed:  3.6min\n",
      "[Parallel(n_jobs=-1)]: Done  45 tasks      | elapsed:  5.5min\n",
      "[Parallel(n_jobs=-1)]: Done  56 tasks      | elapsed:  7.5min\n",
      "[Parallel(n_jobs=-1)]: Done  65 out of  72 | elapsed:  9.2min remaining:   59.2s\n",
      "[Parallel(n_jobs=-1)]: Done  72 out of  72 | elapsed: 11.3min finished\n"
     ]
    },
    {
     "data": {
      "text/plain": [
       "['fit_time',\n",
       " 'score_time',\n",
       " 'test_Brier',\n",
       " 'test_Matthewscorrcoef',\n",
       " 'test_ROC_AUC',\n",
       " 'test_f1',\n",
       " 'test_recall']"
      ]
     },
     "execution_count": 16,
     "metadata": {},
     "output_type": "execute_result"
    }
   ],
   "source": [
    "custom_scorer = {\n",
    "                 'recall': make_scorer(recall_score),\n",
    "                 'Brier': make_scorer(brier_score_loss),\n",
    "                 'Matthewscorrcoef': make_scorer(matthews_corrcoef),\n",
    "                 'ROC_AUC': make_scorer(roc_auc_score),\n",
    "                 \n",
    "                 }\n",
    "forest_scores = cross_validate(pipeline,X_Data,Y_Data.values.ravel(), cv = time_splitter_outer, scoring = custom_scorer)\n",
    "sorted(forest_scores.keys())"
   ]
  },
  {
   "cell_type": "code",
   "execution_count": 17,
   "metadata": {},
   "outputs": [],
   "source": [
    "RF_time=forest_scores['fit_time']\n",
    "RF_recall = forest_scores['test_recall']\n",
    "RF_Brier = forest_scores['test_Brier']\n",
    "RF_Matthewscorrcoef = forest_scores['test_Matthewscorrcoef']\n",
    "RF_ROC_AUC = forest_scores['test_ROC_AUC']\n"
   ]
  },
  {
   "cell_type": "code",
   "execution_count": 18,
   "metadata": {},
   "outputs": [
    {
     "name": "stdout",
     "output_type": "stream",
     "text": [
      "=== All recall Scores ===\n",
      "[0.11827957 0.55865922 0.51832461 0.63       0.66101695 0.65517241\n",
      " 0.62162162 0.63592233 0.60683761 0.62983425]\n",
      "=== All Brier Scores ===\n",
      "[0.03001729 0.18261826 0.16580229 0.21467861 0.21515009 0.22190791\n",
      " 0.19959139 0.20634921 0.21797894 0.22693698]\n",
      "=== All Matthewscorrcoef Scores ===\n",
      "[0.2195084  0.16300584 0.16578823 0.1762435  0.17723239 0.16914386\n",
      " 0.13818669 0.18729753 0.12678605 0.15977272]\n",
      "=== All ROC_AUC  Score ===\n",
      "[0.55695426 0.69176493 0.68114869 0.71018092 0.72470505 0.71836016\n",
      " 0.71260224 0.71742519 0.6960701  0.7035454 ]\n",
      "===  fit_time ===\n",
      "[ 66.29376507 119.50782228 182.52688098 269.40343189 236.81748009\n",
      " 284.68181396 489.91052794 562.35562396 674.35634685 710.30564713]\n"
     ]
    }
   ],
   "source": [
    "print(\"=== All recall Scores ===\")\n",
    "print(RF_recall)\n",
    "print(\"=== All Brier Scores ===\")\n",
    "print(RF_Brier)\n",
    "print(\"=== All Matthewscorrcoef Scores ===\")\n",
    "print(RF_Matthewscorrcoef)\n",
    "print(\"=== All ROC_AUC  Score ===\")\n",
    "print( RF_ROC_AUC )\n",
    "print(\"===  fit_time ===\")\n",
    "print(RF_time)"
   ]
  },
  {
   "cell_type": "code",
   "execution_count": 19,
   "metadata": {},
   "outputs": [
    {
     "name": "stdout",
     "output_type": "stream",
     "text": [
      "=== Mean recall Score ===\n",
      "0.5635668570745019\n",
      "=== Mean Brier Score ===\n",
      "0.1881030960238881\n",
      "=== Mean Matthewscorrcoef  Score ===\n",
      "0.16829651964738065\n",
      "=== Mean ROC_AUC  Score ===\n",
      "0.6912756934492857\n",
      "=== Mean RF_time  ===\n",
      "359.6159340143204\n"
     ]
    }
   ],
   "source": [
    "print(\"=== Mean recall Score ===\")\n",
    "print( RF_recall.mean())\n",
    "print(\"=== Mean Brier Score ===\")\n",
    "print( RF_Brier.mean())\n",
    "print(\"=== Mean Matthewscorrcoef  Score ===\")\n",
    "print( RF_Matthewscorrcoef .mean())\n",
    "print(\"=== Mean ROC_AUC  Score ===\")\n",
    "print( RF_ROC_AUC .mean())\n",
    "print(\"=== Mean RF_time  ===\")\n",
    "print( RF_time .mean())"
   ]
  },
  {
   "cell_type": "code",
   "execution_count": 20,
   "metadata": {},
   "outputs": [
    {
     "name": "stdout",
     "output_type": "stream",
     "text": [
      "=== Minimum recall Score ===\n",
      "0.11827956989247312\n",
      "=== Minimum Brier Score ===\n",
      "0.030017287443030016\n",
      "=== Minimum Matthewscorrcoef  Score ===\n",
      "0.12678605121878037\n",
      "=== Minimum ROC_AUC  Score ===\n",
      "0.5569542579914041\n",
      "=== Minimum RF_time  ===\n",
      "66.2937650680542\n"
     ]
    }
   ],
   "source": [
    "print(\"=== Minimum recall Score ===\")\n",
    "print( RF_recall.min())\n",
    "print(\"=== Minimum Brier Score ===\")\n",
    "print( RF_Brier.min())\n",
    "print(\"=== Minimum Matthewscorrcoef  Score ===\")\n",
    "print( RF_Matthewscorrcoef.min())\n",
    "print(\"=== Minimum ROC_AUC  Score ===\")\n",
    "print( RF_ROC_AUC.min())\n",
    "print(\"=== Minimum RF_time  ===\")\n",
    "print( RF_time.min())"
   ]
  },
  {
   "cell_type": "code",
   "execution_count": 21,
   "metadata": {},
   "outputs": [
    {
     "name": "stdout",
     "output_type": "stream",
     "text": [
      "=== Maximum recall Score ===\n",
      "0.6610169491525424\n",
      "=== Minimum Brier Score ===\n",
      "0.030017287443030016\n",
      "=== Maximum Matthewscorrcoef  Score ===\n",
      "0.21950839678674983\n",
      "=== Maximum ROC_AUC  Score ===\n",
      "0.7247050474828344\n",
      "=== Maximum RF_time ===\n",
      "710.3056471347809\n"
     ]
    }
   ],
   "source": [
    "print(\"=== Maximum recall Score ===\")\n",
    "print( RF_recall.max())\n",
    "print(\"=== Minimum Brier Score ===\")\n",
    "print( RF_Brier.min())\n",
    "print(\"=== Maximum Matthewscorrcoef  Score ===\")\n",
    "print( RF_Matthewscorrcoef .max())\n",
    "print(\"=== Maximum ROC_AUC  Score ===\")\n",
    "print( RF_ROC_AUC .max())\n",
    "print(\"=== Maximum RF_time ===\")\n",
    "print( RF_time .max())"
   ]
  },
  {
   "cell_type": "code",
   "execution_count": null,
   "metadata": {},
   "outputs": [],
   "source": []
  }
 ],
 "metadata": {
  "kernelspec": {
   "display_name": "Python 3",
   "language": "python",
   "name": "python3"
  },
  "language_info": {
   "codemirror_mode": {
    "name": "ipython",
    "version": 3
   },
   "file_extension": ".py",
   "mimetype": "text/x-python",
   "name": "python",
   "nbconvert_exporter": "python",
   "pygments_lexer": "ipython3",
   "version": "3.7.7"
  }
 },
 "nbformat": 4,
 "nbformat_minor": 4
}
