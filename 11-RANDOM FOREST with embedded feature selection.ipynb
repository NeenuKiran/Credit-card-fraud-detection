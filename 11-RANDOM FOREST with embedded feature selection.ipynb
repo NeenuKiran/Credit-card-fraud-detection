{
 "cells": [
  {
   "cell_type": "code",
   "execution_count": 5,
   "metadata": {},
   "outputs": [],
   "source": [
    "import pandas as pd\n",
    "import numpy as np\n",
    "\n",
    "import seaborn as sns\n",
    "import matplotlib.pyplot as plt\n",
    "%matplotlib inline\n",
    "\n",
    "from sklearn.feature_selection import VarianceThreshold,mutual_info_classif,SelectKBest,SelectFromModel\n",
    "from mlxtend.feature_selection import SequentialFeatureSelector\n",
    "\n",
    "from imblearn.pipeline import make_pipeline\n",
    "from imblearn.over_sampling import SMOTE\n",
    "from imblearn.under_sampling import RandomUnderSampler\n",
    "\n",
    "from sklearn.linear_model import SGDClassifier\n",
    "from sklearn.ensemble import RandomForestClassifier\n",
    "\n",
    "from sklearn.model_selection import  GridSearchCV,cross_val_score,TimeSeriesSplit,cross_validate\n",
    "\n",
    "import sklearn.metrics as metrics\n",
    "from sklearn.metrics import confusion_matrix, recall_score, precision_score, roc_auc_score,roc_curve, auc,matthews_corrcoef\n",
    "from sklearn.metrics import  make_scorer,accuracy_score,precision_score,recall_score, f1_score,brier_score_loss,matthews_corrcoef\n",
    "from sklearn import tree"
   ]
  },
  {
   "cell_type": "code",
   "execution_count": 2,
   "metadata": {},
   "outputs": [],
   "source": [
    "#reading csv files\n",
    "X_train=pd.read_csv('X_train4mv.csv')\n",
    "Y_train=pd.read_csv('Y_train4mv.csv')\n",
    "X_test=pd.read_csv('X_test4mv.csv')\n",
    "Y_test=pd.read_csv('Y_test4mv.csv')"
   ]
  },
  {
   "cell_type": "code",
   "execution_count": 8,
   "metadata": {},
   "outputs": [],
   "source": [
    "X_train= X_train[:70000]\n",
    "Y_train=Y_train[:70000]"
   ]
  },
  {
   "cell_type": "code",
   "execution_count": 9,
   "metadata": {},
   "outputs": [],
   "source": [
    "#GridSearchCV with timeseries\n",
    "\n",
    "time_splitter_inner = TimeSeriesSplit(n_splits = 3)\n",
    "\n",
    "model=RandomForestClassifier(class_weight=\"balanced\")\n",
    "params = {'n_estimators':[500,700,900,1000],\n",
    "           'max_depth':[3,5,7,9,11,13]}\n",
    "\n",
    "gs_rf = GridSearchCV(model, param_grid = params, cv = time_splitter_inner, scoring = 'roc_auc',verbose=10, n_jobs=-1)\n"
   ]
  },
  {
   "cell_type": "code",
   "execution_count": 10,
   "metadata": {},
   "outputs": [
    {
     "name": "stdout",
     "output_type": "stream",
     "text": [
      "Fitting 3 folds for each of 24 candidates, totalling 72 fits\n"
     ]
    },
    {
     "name": "stderr",
     "output_type": "stream",
     "text": [
      "[Parallel(n_jobs=-1)]: Using backend LokyBackend with 8 concurrent workers.\n",
      "[Parallel(n_jobs=-1)]: Done   2 tasks      | elapsed:   10.7s\n",
      "[Parallel(n_jobs=-1)]: Done   9 tasks      | elapsed:   24.3s\n",
      "[Parallel(n_jobs=-1)]: Done  16 tasks      | elapsed:   45.9s\n",
      "[Parallel(n_jobs=-1)]: Done  25 tasks      | elapsed:  1.3min\n",
      "[Parallel(n_jobs=-1)]: Done  34 tasks      | elapsed:  1.9min\n",
      "[Parallel(n_jobs=-1)]: Done  45 tasks      | elapsed:  2.8min\n",
      "[Parallel(n_jobs=-1)]: Done  56 tasks      | elapsed:  3.9min\n",
      "[Parallel(n_jobs=-1)]: Done  65 out of  72 | elapsed:  4.7min remaining:   30.4s\n",
      "[Parallel(n_jobs=-1)]: Done  72 out of  72 | elapsed:  5.7min finished\n",
      "/Users/neenu/opt/anaconda3/lib/python3.7/site-packages/sklearn/model_selection/_search.py:765: DataConversionWarning: A column-vector y was passed when a 1d array was expected. Please change the shape of y to (n_samples,), for example using ravel().\n",
      "  self.best_estimator_.fit(X, y, **fit_params)\n"
     ]
    },
    {
     "data": {
      "text/plain": [
       "GridSearchCV(cv=TimeSeriesSplit(max_train_size=None, n_splits=3),\n",
       "             estimator=RandomForestClassifier(class_weight='balanced'),\n",
       "             n_jobs=-1,\n",
       "             param_grid={'max_depth': [3, 5, 7, 9, 11, 13],\n",
       "                         'n_estimators': [500, 700, 900, 1000]},\n",
       "             scoring='roc_auc', verbose=10)"
      ]
     },
     "execution_count": 10,
     "metadata": {},
     "output_type": "execute_result"
    }
   ],
   "source": [
    "gs_rf.fit(X_train,Y_train.values.ravel())"
   ]
  },
  {
   "cell_type": "code",
   "execution_count": 11,
   "metadata": {},
   "outputs": [
    {
     "data": {
      "text/plain": [
       "{'max_depth': 7, 'n_estimators': 500}"
      ]
     },
     "execution_count": 11,
     "metadata": {},
     "output_type": "execute_result"
    }
   ],
   "source": [
    "#Best parameters\n",
    "gs_rf.best_params_"
   ]
  },
  {
   "cell_type": "code",
   "execution_count": 14,
   "metadata": {},
   "outputs": [
    {
     "name": "stderr",
     "output_type": "stream",
     "text": [
      "/Users/neenu/opt/anaconda3/lib/python3.7/site-packages/ipykernel_launcher.py:3: DataConversionWarning: A column-vector y was passed when a 1d array was expected. Please change the shape of y to (n_samples,), for example using ravel().\n",
      "  This is separate from the ipykernel package so we can avoid doing imports until\n"
     ]
    },
    {
     "data": {
      "text/plain": [
       "RandomForestClassifier()"
      ]
     },
     "execution_count": 14,
     "metadata": {},
     "output_type": "execute_result"
    }
   ],
   "source": [
    "best_random = gs_rf.best_estimator_\n",
    "best_random= RandomForestClassifier()\n",
    "best_random.fit(X_train, Y_train)"
   ]
  },
  {
   "cell_type": "code",
   "execution_count": 15,
   "metadata": {},
   "outputs": [
    {
     "data": {
      "image/png": "[encoded data removed]",
      "text/plain": [
       "<Figure size 1440x576 with 1 Axes>"
      ]
     },
     "metadata": {
      "needs_background": "light"
     },
     "output_type": "display_data"
    }
   ],
   "source": [
    "# visualize features with importantce score > 0\n",
    "plt.figure(figsize=(20,8))\n",
    "sorted_importance_rf = sorted(zip(X_train.columns, best_random.feature_importances_), key=lambda t:t[1], reverse=True)\n",
    "sorted_importance_useful_rf = [ i for i in sorted_importance_rf if i[1] > 0]\n",
    "a, b = zip(*sorted_importance_useful_rf)\n",
    "fp = pd.DataFrame({'feature':a, 'importance_score':b})[:25]\n",
    "sns.barplot(x=\"feature\", y=\"importance_score\", data=fp, palette = 'pastel')\n",
    "plt.xticks(rotation=90)\n",
    "plt.show()"
   ]
  },
  {
   "cell_type": "code",
   "execution_count": 17,
   "metadata": {},
   "outputs": [
    {
     "data": {
      "text/plain": [
       "SelectFromModel(estimator=RandomForestClassifier(max_depth=7, n_estimators=500))"
      ]
     },
     "execution_count": 17,
     "metadata": {},
     "output_type": "execute_result"
    }
   ],
   "source": [
    "#feature selection with RandomForestClassifier\n",
    "sel_ = SelectFromModel(RandomForestClassifier(max_depth=7, n_estimators=500))\n",
    "sel_.fit(X_train, Y_train.values.ravel())"
   ]
  },
  {
   "cell_type": "code",
   "execution_count": 18,
   "metadata": {},
   "outputs": [
    {
     "data": {
      "text/plain": [
       "20"
      ]
     },
     "execution_count": 18,
     "metadata": {},
     "output_type": "execute_result"
    }
   ],
   "source": [
    "# number of features selected\n",
    "sel_.get_support()\n",
    "features_emrf = X_train.columns[(sel_.get_support())]\n",
    "len(features_emrf)"
   ]
  },
  {
   "cell_type": "code",
   "execution_count": 19,
   "metadata": {},
   "outputs": [],
   "source": [
    "X_emtrain=pd.DataFrame(X_train[features_emrf])\n",
    "X_emtest=pd.DataFrame(X_test[features_emrf])"
   ]
  },
  {
   "cell_type": "code",
   "execution_count": 21,
   "metadata": {},
   "outputs": [
    {
     "name": "stdout",
     "output_type": "stream",
     "text": [
      "roc_auc: 0.813175626476901\n",
      "brier_score_loss: 0.028466569643776727\n"
     ]
    }
   ],
   "source": [
    "#test prediction with best parameters\n",
    "best_random = gs_rf.best_estimator_\n",
    "best_random= RandomForestClassifier()\n",
    "best_random.fit(X_train, Y_train.values.ravel())\n",
    "\n",
    "y_trainpredbest =best_random.predict_proba(X_train)\n",
    "y_testpredbest =best_random.predict_proba(X_test)\n",
    "\n",
    "print('roc_auc:',roc_auc_score(Y_test,y_testpredbest[:,1]))\n",
    "print('brier_score_loss:',brier_score_loss(Y_test,y_testpredbest[:,1]))"
   ]
  },
  {
   "cell_type": "code",
   "execution_count": 23,
   "metadata": {},
   "outputs": [
    {
     "data": {
      "image/png": "[encoded data removed]",
      "text/plain": [
       "<Figure size 576x432 with 1 Axes>"
      ]
     },
     "metadata": {
      "needs_background": "light"
     },
     "output_type": "display_data"
    }
   ],
   "source": [
    "plt.figure(figsize=(8,6))\n",
    "# auc of train\n",
    "fpr, tpr, thresh = roc_curve(Y_train,y_trainpredbest[:,1])\n",
    "auc = roc_auc_score(Y_train, y_trainpredbest[:,1])\n",
    "plt.plot(fpr,tpr,label=\"train, auc=\"+str(round(auc,4)))\n",
    "# auc of test\n",
    "fpr, tpr, thresh = roc_curve(Y_test, y_testpredbest[:,1])\n",
    "auc = roc_auc_score(Y_test,  y_testpredbest[:,1])\n",
    "plt.plot(fpr,tpr,label=\"test, auc=\"+str(round(auc,4)))\n",
    "plt.plot([0, 1], [0, 1], 'k--')\n",
    "plt.legend(loc=0)\n",
    "plt.xlabel('False Positive Rate')\n",
    "plt.ylabel('True Positive Rate')\n",
    "plt.title('Tuned RF- Receiver operating characteristic')\n",
    "plt.show()"
   ]
  },
  {
   "cell_type": "code",
   "execution_count": 24,
   "metadata": {},
   "outputs": [
    {
     "data": {
      "image/png": "[encoded data removed]",
      "text/plain": [
       "<Figure size 576x432 with 2 Axes>"
      ]
     },
     "metadata": {
      "needs_background": "light"
     },
     "output_type": "display_data"
    }
   ],
   "source": [
    "y_scores = y_testpredbest[:,1]\n",
    "fpr, tpr, thresholds = roc_curve(Y_test, y_scores)\n",
    "# auc(fpr, tpr) # auc has been assigned as a variable by the above plot's code\n",
    "plt.figure(figsize=(8,6))\n",
    "plt.plot(fpr, tpr, label='ROC curve (area = %0.2f)' % (auc))\n",
    "plt.plot([0, 1], [0, 1], 'k--')\n",
    "plt.xlim([0.0, 1.0])\n",
    "plt.ylim([0.0, 1.02])\n",
    "plt.xlabel('False Positive Rate')\n",
    "plt.ylabel('True Positive Rate')\n",
    "plt.title('Tuned RF - Receiver operating characteristic')\n",
    "plt.legend(loc=\"best\")\n",
    "\n",
    "# create the axis of thresholds (scores)\n",
    "ax2 = plt.gca().twinx()\n",
    "ax2.plot(fpr, thresholds, markeredgecolor='r',linestyle='dashed', color='r')\n",
    "ax2.set_ylabel('Threshold',color='r')\n",
    "ax2.set_ylim([thresholds[-1],1])\n",
    "ax2.set_xlim([fpr[0],fpr[-1]])\n",
    "plt.show()\n",
    "# plt.axhline(y=0.0, c=\"r\", ls=\"--\", lw=2)\n",
    "# plt.axvline(x=4.0, c=\"r\", ls=\"--\", lw=2)"
   ]
  },
  {
   "cell_type": "code",
   "execution_count": 27,
   "metadata": {},
   "outputs": [
    {
     "name": "stdout",
     "output_type": "stream",
     "text": [
      "matthews_corrcoef:\n",
      " 0.3194858568853774\n",
      "Recall:\n",
      " 0.128131021194605\n"
     ]
    }
   ],
   "source": [
    "y_testpred_ =best_random.predict(X_test)\n",
    "print(\"matthews_corrcoef:\\n\",matthews_corrcoef(Y_test, y_testpred_))\n",
    "print(\"Recall:\\n\",metrics.recall_score(Y_test,y_testpred_))"
   ]
  },
  {
   "cell_type": "code",
   "execution_count": null,
   "metadata": {},
   "outputs": [],
   "source": []
  },
  {
   "cell_type": "code",
   "execution_count": null,
   "metadata": {},
   "outputs": [],
   "source": []
  },
  {
   "cell_type": "code",
   "execution_count": null,
   "metadata": {},
   "outputs": [],
   "source": []
  },
  {
   "cell_type": "code",
   "execution_count": 58,
   "metadata": {},
   "outputs": [],
   "source": [
    "#SDG Classifier"
   ]
  },
  {
   "cell_type": "code",
   "execution_count": 28,
   "metadata": {},
   "outputs": [
    {
     "data": {
      "text/plain": [
       "StandardScaler()"
      ]
     },
     "execution_count": 28,
     "metadata": {},
     "output_type": "execute_result"
    }
   ],
   "source": [
    "from sklearn.preprocessing import StandardScaler\n",
    "scaler = StandardScaler()\n",
    "scaler.fit(X_train)"
   ]
  },
  {
   "cell_type": "code",
   "execution_count": 60,
   "metadata": {},
   "outputs": [
    {
     "data": {
      "text/plain": [
       "StandardScaler()"
      ]
     },
     "execution_count": 60,
     "metadata": {},
     "output_type": "execute_result"
    }
   ],
   "source": [
    "StandardScaler(copy=True, with_mean=True, with_std=True)"
   ]
  },
  {
   "cell_type": "code",
   "execution_count": 61,
   "metadata": {},
   "outputs": [
    {
     "name": "stderr",
     "output_type": "stream",
     "text": [
      "/Users/neenu/opt/anaconda3/lib/python3.7/site-packages/sklearn/utils/validation.py:73: DataConversionWarning: A column-vector y was passed when a 1d array was expected. Please change the shape of y to (n_samples, ), for example using ravel().\n",
      "  return f(**kwargs)\n"
     ]
    },
    {
     "data": {
      "text/plain": [
       "SelectFromModel(estimator=SGDClassifier(loss='log'))"
      ]
     },
     "execution_count": 61,
     "metadata": {},
     "output_type": "execute_result"
    }
   ],
   "source": [
    "from sklearn.linear_model import SGDClassifier\n",
    "sel_ = SelectFromModel(SGDClassifier(loss=\"log\"))\n",
    "sel_.fit(scaler.transform(X_train), Y_train)"
   ]
  },
  {
   "cell_type": "code",
   "execution_count": 62,
   "metadata": {},
   "outputs": [],
   "source": [
    "# remove features with zero coefficient from dataset\n",
    "# and parse again as dataframe (output of sklearn is\n",
    "# numpy array)\n",
    "X_train_coef = pd.DataFrame(sel_.transform(X_train))\n",
    "X_test_coef = pd.DataFrame(sel_.transform(X_test))"
   ]
  },
  {
   "cell_type": "code",
   "execution_count": 63,
   "metadata": {},
   "outputs": [],
   "source": [
    "X_train_coef.columns = X_train.columns[(sel_.get_support())]\n",
    "X_test_coef.columns = X_train.columns[(sel_.get_support())]"
   ]
  },
  {
   "cell_type": "code",
   "execution_count": 64,
   "metadata": {},
   "outputs": [
    {
     "data": {
      "text/plain": [
       "((501214, 19), (89326, 19))"
      ]
     },
     "execution_count": 64,
     "metadata": {},
     "output_type": "execute_result"
    }
   ],
   "source": [
    "X_train_coef.shape, X_test_coef.shape"
   ]
  },
  {
   "cell_type": "code",
   "execution_count": 65,
   "metadata": {},
   "outputs": [
    {
     "data": {
      "text/plain": [
       "Index(['0', '2', '4', '7', '19', '22', '23', '30', '32', '161', '162', '165',\n",
       "       '166', '170', '208', '285', '328', '329', '337'],\n",
       "      dtype='object')"
      ]
     },
     "execution_count": 65,
     "metadata": {},
     "output_type": "execute_result"
    }
   ],
   "source": [
    "X_train_coef.columns"
   ]
  },
  {
   "cell_type": "code",
   "execution_count": 66,
   "metadata": {},
   "outputs": [],
   "source": [
    "#Data preparation for cross validation\n",
    "X_emtrain_2=X_train_coef.copy()\n",
    "X_emtest_2=X_test_coef.copy()\n",
    "\n",
    "train_2=pd.concat([X_emtrain_2,Y_train],axis=1)\n",
    "test_2=pd.concat([X_emtest_2,Y_test],axis=1)\n",
    "Data_2=pd.concat([train_2,test_2],axis=0)\n",
    "Data_2 = Data_2.sample(frac=1, random_state=45)\n",
    "\n",
    "x2 = Data_2.loc[:, Data_2.columns != 'isFraud']\n",
    "y2 = Data_2.loc[:,'isFraud']\n",
    "\n",
    "x_2 = x[:70000]\n",
    "y_2 = y[:70000]"
   ]
  },
  {
   "cell_type": "code",
   "execution_count": 67,
   "metadata": {},
   "outputs": [],
   "source": [
    "#resampling of training set using combination of SMOTE and Random Undersampling."
   ]
  },
  {
   "cell_type": "code",
   "execution_count": 68,
   "metadata": {},
   "outputs": [],
   "source": [
    "pipe = make_pipeline(\n",
    "    SMOTE(sampling_strategy=0.2),\n",
    "    RandomUnderSampler(sampling_strategy=0.99)           \n",
    ")"
   ]
  },
  {
   "cell_type": "code",
   "execution_count": 69,
   "metadata": {},
   "outputs": [
    {
     "data": {
      "text/plain": [
       "isFraud    0.033787\n",
       "dtype: float64"
      ]
     },
     "execution_count": 69,
     "metadata": {},
     "output_type": "execute_result"
    }
   ],
   "source": [
    "X_train_coef.var()\n",
    "Y_train.var()"
   ]
  },
  {
   "cell_type": "code",
   "execution_count": 70,
   "metadata": {},
   "outputs": [],
   "source": [
    "X_emtrain,Y_emtrain=pipe.fit_resample(X_train_coef,Y_train)"
   ]
  },
  {
   "cell_type": "code",
   "execution_count": 71,
   "metadata": {},
   "outputs": [],
   "source": [
    "X_emtrain_=pd.DataFrame(X_emtrain)\n",
    "Y_emtrain_=pd.DataFrame(Y_emtrain)"
   ]
  },
  {
   "cell_type": "code",
   "execution_count": 72,
   "metadata": {},
   "outputs": [],
   "source": [
    "train_em_=pd.concat([X_emtrain_,Y_emtrain_],axis=1)\n",
    "# Shuffle dataframe rows\n",
    "trainem = train_em_.sample(frac=1, random_state=45)"
   ]
  },
  {
   "cell_type": "code",
   "execution_count": 73,
   "metadata": {},
   "outputs": [],
   "source": [
    "X_emtrain=trainem.drop('isFraud', axis=1)\n",
    "Y_emtrain=trainem['isFraud']\n",
    "\n",
    "X_emtest=X_test_coef\n",
    "Y_emtest=Y_test"
   ]
  },
  {
   "cell_type": "code",
   "execution_count": null,
   "metadata": {},
   "outputs": [],
   "source": []
  },
  {
   "cell_type": "code",
   "execution_count": 74,
   "metadata": {},
   "outputs": [],
   "source": [
    "#first standardize the data\n",
    "sc = StandardScaler()\n",
    "X_emtrain = sc.fit_transform(X_emtrain)\n",
    "X_emtest = sc.fit_transform(X_emtest)"
   ]
  },
  {
   "cell_type": "code",
   "execution_count": 75,
   "metadata": {},
   "outputs": [],
   "source": [
    "#lets try with first default value\n",
    "clf = SGDClassifier(loss=\"log\")\n",
    "clf.fit(X_emtrain,Y_emtrain)\n",
    "y_trainpredprobem=clf.predict_proba(X_emtrain)\n",
    "y_testpredprobem = clf.predict_proba(X_emtest)"
   ]
  },
  {
   "cell_type": "code",
   "execution_count": 76,
   "metadata": {},
   "outputs": [
    {
     "name": "stdout",
     "output_type": "stream",
     "text": [
      "auc of train with default parameter: 0.8044716362003306\n",
      "auc of test with  default parameter: 0.7673401260014707\n"
     ]
    }
   ],
   "source": [
    "#auc score with default values\n",
    "print('auc of train with default parameter:',roc_auc_score(Y_emtrain,y_trainpredprobem[:,1]))\n",
    "print('auc of test with  default parameter:',roc_auc_score(Y_emtest,y_testpredprobem[:,1]))"
   ]
  },
  {
   "cell_type": "code",
   "execution_count": 77,
   "metadata": {},
   "outputs": [],
   "source": [
    "##GridsearchCV with Timeseries\n",
    "\n",
    "time_splitter_outer = TimeSeriesSplit(n_splits = 5)\n",
    "time_splitter_inner = TimeSeriesSplit(n_splits = 5)\n",
    "\n",
    "model = SGDClassifier(loss=\"log\")\n",
    "params = {\n",
    "         'alpha':[10**-6,10**-5,10**-4,10**-3,10**-2,10**-1,10**0,10**1,10**2,10**3],#learning rate\n",
    "         'penalty':['l1','l2']\n",
    "         }\n",
    "\n",
    "gs_SD = GridSearchCV(model, param_grid = params, cv = time_splitter_inner, scoring = 'roc_auc',verbose=10, n_jobs=-1)"
   ]
  },
  {
   "cell_type": "code",
   "execution_count": 78,
   "metadata": {},
   "outputs": [
    {
     "name": "stdout",
     "output_type": "stream",
     "text": [
      "Fitting 5 folds for each of 20 candidates, totalling 100 fits\n"
     ]
    },
    {
     "name": "stderr",
     "output_type": "stream",
     "text": [
      "[Parallel(n_jobs=-1)]: Using backend LokyBackend with 8 concurrent workers.\n",
      "[Parallel(n_jobs=-1)]: Done   2 tasks      | elapsed:    3.5s\n",
      "[Parallel(n_jobs=-1)]: Done   9 tasks      | elapsed:    5.2s\n",
      "[Parallel(n_jobs=-1)]: Done  16 tasks      | elapsed:    6.4s\n",
      "[Parallel(n_jobs=-1)]: Done  25 tasks      | elapsed:    7.5s\n",
      "[Parallel(n_jobs=-1)]: Done  34 tasks      | elapsed:    7.9s\n",
      "[Parallel(n_jobs=-1)]: Done  45 tasks      | elapsed:    8.4s\n",
      "[Parallel(n_jobs=-1)]: Done  56 tasks      | elapsed:    8.8s\n",
      "[Parallel(n_jobs=-1)]: Done  69 tasks      | elapsed:    9.3s\n",
      "[Parallel(n_jobs=-1)]: Done  82 tasks      | elapsed:    9.8s\n",
      "[Parallel(n_jobs=-1)]: Done  96 out of 100 | elapsed:   10.4s remaining:    0.4s\n",
      "[Parallel(n_jobs=-1)]: Done 100 out of 100 | elapsed:   10.5s finished\n"
     ]
    },
    {
     "data": {
      "text/plain": [
       "GridSearchCV(cv=TimeSeriesSplit(max_train_size=None, n_splits=5),\n",
       "             estimator=SGDClassifier(loss='log'), n_jobs=-1,\n",
       "             param_grid={'alpha': [1e-06, 1e-05, 0.0001, 0.001, 0.01, 0.1, 1,\n",
       "                                   10, 100, 1000],\n",
       "                         'penalty': ['l1', 'l2']},\n",
       "             scoring='roc_auc', verbose=10)"
      ]
     },
     "execution_count": 78,
     "metadata": {},
     "output_type": "execute_result"
    }
   ],
   "source": [
    "gs_SD.fit(X_emtrain,Y_emtrain)"
   ]
  },
  {
   "cell_type": "code",
   "execution_count": 79,
   "metadata": {},
   "outputs": [
    {
     "data": {
      "text/plain": [
       "{'alpha': 0.001, 'penalty': 'l2'}"
      ]
     },
     "execution_count": 79,
     "metadata": {},
     "output_type": "execute_result"
    }
   ],
   "source": [
    "#Best parameters\n",
    "gs_SD.best_params_"
   ]
  },
  {
   "cell_type": "code",
   "execution_count": 80,
   "metadata": {},
   "outputs": [
    {
     "name": "stdout",
     "output_type": "stream",
     "text": [
      "roc_auc: 0.766922904586656\n",
      "brier_score_loss: 0.26175248862382133\n"
     ]
    }
   ],
   "source": [
    "#test prediction with best parameters\n",
    "best_SD= SGDClassifier(alpha=0.001, penalty='l2',loss=\"log\")\n",
    "best_SD.fit(X_emtrain, Y_emtrain)\n",
    "y_trainpredbest =best_SD.predict_proba(X_emtrain)\n",
    "y_testpredbest =best_SD.predict_proba(X_emtest)\n",
    "print('roc_auc:',roc_auc_score(Y_emtest,y_testpredbest[:,1]))\n",
    "print('brier_score_loss:',brier_score_loss(Y_emtest,y_testpredbest[:,1]))"
   ]
  },
  {
   "cell_type": "code",
   "execution_count": 81,
   "metadata": {},
   "outputs": [
    {
     "data": {
      "image/png": "[encoded data removed]",
      "text/plain": [
       "<Figure size 576x432 with 1 Axes>"
      ]
     },
     "metadata": {
      "needs_background": "light"
     },
     "output_type": "display_data"
    }
   ],
   "source": [
    "plt.figure(figsize=(8,6))\n",
    "# auc of train\n",
    "fpr, tpr, thresh = roc_curve(Y_emtrain,y_trainpredbest[:,1])\n",
    "auc = roc_auc_score(Y_emtrain, y_trainpredbest[:,1])\n",
    "plt.plot(fpr,tpr,label=\"train, auc=\"+str(round(auc,4)))\n",
    "# auc of test\n",
    "fpr, tpr, thresh = roc_curve(Y_emtest, y_testpredbest[:,1])\n",
    "auc = roc_auc_score(Y_emtest,  y_testpredbest[:,1])\n",
    "plt.plot(fpr,tpr,label=\"test, auc=\"+str(round(auc,4)))\n",
    "plt.plot([0, 1], [0, 1], 'k--')\n",
    "plt.legend(loc=0)\n",
    "plt.xlabel('False Positive Rate')\n",
    "plt.ylabel('True Positive Rate')\n",
    "plt.title('Tuned SGD- Receiver operating characteristic')\n",
    "plt.show()"
   ]
  },
  {
   "cell_type": "code",
   "execution_count": 82,
   "metadata": {},
   "outputs": [
    {
     "data": {
      "image/png": "[encoded data removed]",
      "text/plain": [
       "<Figure size 576x432 with 2 Axes>"
      ]
     },
     "metadata": {
      "needs_background": "light"
     },
     "output_type": "display_data"
    }
   ],
   "source": [
    "y_scores = y_testpredbest[:,1]\n",
    "fpr, tpr, thresholds = roc_curve(Y_emtest, y_scores)\n",
    "# auc(fpr, tpr) # auc has been assigned as a variable by the above plot's code\n",
    "plt.figure(figsize=(8,6))\n",
    "plt.plot(fpr, tpr, label='ROC curve (area = %0.2f)' % (auc))\n",
    "plt.plot([0, 1], [0, 1], 'k--')\n",
    "plt.xlim([0.0, 1.0])\n",
    "plt.ylim([0.0, 1.02])\n",
    "plt.xlabel('False Positive Rate')\n",
    "plt.ylabel('True Positive Rate')\n",
    "plt.title('Tuned SGD - Receiver operating characteristic')\n",
    "plt.legend(loc=\"best\")\n",
    "\n",
    "# create the axis of thresholds (scores)\n",
    "ax2 = plt.gca().twinx()\n",
    "ax2.plot(fpr, thresholds, markeredgecolor='r',linestyle='dashed', color='r')\n",
    "ax2.set_ylabel('Threshold',color='r')\n",
    "ax2.set_ylim([thresholds[-1],1])\n",
    "ax2.set_xlim([fpr[0],fpr[-1]])\n",
    "plt.show()\n",
    "# plt.axhline(y=0.0, c=\"r\", ls=\"--\", lw=2)\n",
    "# plt.axvline(x=4.0, c=\"r\", ls=\"--\", lw=2)"
   ]
  },
  {
   "cell_type": "code",
   "execution_count": 83,
   "metadata": {},
   "outputs": [
    {
     "name": "stdout",
     "output_type": "stream",
     "text": [
      "Accuracy:\n",
      " 0.5822604840695877\n",
      "Recall:\n",
      " 0.7928709055876686\n",
      "Precision:\n",
      " 0.06308285852985514\n",
      "matthews_corrcoef:\n",
      " 0.13587153755713235\n"
     ]
    }
   ],
   "source": [
    "y_testpred_ =best_SD.predict(X_emtest)\n",
    "print(\"Recall:\\n\",metrics.recall_score(Y_emtest,y_testpred_))\n",
    "print(\"matthews_corrcoef:\\n\",matthews_corrcoef(Y_emtest, y_testpred_))"
   ]
  },
  {
   "cell_type": "code",
   "execution_count": 84,
   "metadata": {},
   "outputs": [],
   "source": [
    "#10 fold cv \n",
    "folds=TimeSeriesSplit(n_splits = 10)"
   ]
  },
  {
   "cell_type": "code",
   "execution_count": 85,
   "metadata": {},
   "outputs": [],
   "source": [
    "model2 = SGDClassifier(alpha=0.001, penalty='l2',class_weight=\"balanced\",loss=\"log\")"
   ]
  },
  {
   "cell_type": "code",
   "execution_count": 86,
   "metadata": {},
   "outputs": [],
   "source": [
    "custom_scorer = {\n",
    "                 'recall': make_scorer(recall_score, average='macro'),\n",
    "                 'Brier': make_scorer(brier_score_loss),\n",
    "                 'Matthewscorrcoef': make_scorer(matthews_corrcoef),\n",
    "                 'ROC_AUC': make_scorer(roc_auc_score)\n",
    "                 }\n",
    "SD_scores = cross_validate(model2, x_2,y_2,cv = folds, scoring = custom_scorer)"
   ]
  },
  {
   "cell_type": "code",
   "execution_count": 87,
   "metadata": {},
   "outputs": [
    {
     "data": {
      "text/plain": [
       "['fit_time',\n",
       " 'score_time',\n",
       " 'test_Brier',\n",
       " 'test_Matthewscorrcoef',\n",
       " 'test_ROC_AUC',\n",
       " 'test_accuracy',\n",
       " 'test_f1',\n",
       " 'test_precision',\n",
       " 'test_recall']"
      ]
     },
     "execution_count": 87,
     "metadata": {},
     "output_type": "execute_result"
    }
   ],
   "source": [
    "sorted(SD_scores.keys())"
   ]
  },
  {
   "cell_type": "code",
   "execution_count": 88,
   "metadata": {},
   "outputs": [],
   "source": [
    "SD_recall = SD_scores['test_recall']\n",
    "SD_Brier = SD_scores['test_Brier']\n",
    "SD_Matthewscorrcoef = SD_scores['test_Matthewscorrcoef']\n",
    "SD_ROC_AUC = SD_scores['test_ROC_AUC']"
   ]
  },
  {
   "cell_type": "code",
   "execution_count": 89,
   "metadata": {},
   "outputs": [
    {
     "name": "stdout",
     "output_type": "stream",
     "text": [
      "=== All accuracy Scores ===\n",
      "[0.90350464 0.11881188 0.51878045 0.2868144  0.84064121 0.84095552\n",
      " 0.83639793 0.8945466  0.82476819 0.89328933]\n",
      "=== All precision Scores ===\n",
      "[0.53330484 0.49954284 0.51148803 0.50675581 0.50936352 0.52130331\n",
      " 0.54550824 0.54199367 0.52640819 0.55150322]\n",
      "=== All recall Scores ===\n",
      "[0.57480094 0.498824   0.59523704 0.5457118  0.53320284 0.56906734\n",
      " 0.66268988 0.59537387 0.60732486 0.62028213]\n",
      "=== All f1 Scores ===\n",
      "[0.54083916 0.11582224 0.37729856 0.24407455 0.49713671 0.51552987\n",
      " 0.54757101 0.55197067 0.51675181 0.56486217]\n",
      "=== All Brier Scores ===\n",
      "[0.09649536 0.88118812 0.48121955 0.7131856  0.15935879 0.15904448\n",
      " 0.16360207 0.1054534  0.17523181 0.10671067]\n",
      "=== All Matthewscorrcoef Scores ===\n",
      "[ 0.09982451 -0.00146645  0.06615393  0.03514657  0.03526445  0.0767167\n",
      "  0.17208987  0.12657169  0.10647546  0.1574156 ]\n",
      "=== All ROC_AUC  Scores ===\n",
      "[0.57480094 0.498824   0.59523704 0.5457118  0.53320284 0.56906734\n",
      " 0.66268988 0.59537387 0.60732486 0.62028213]\n"
     ]
    }
   ],
   "source": [
    "print(\"=== All recall Scores ===\")\n",
    "print(SD_recall)\n",
    "print(\"=== All Brier Scores ===\")\n",
    "print(SD_Brier)\n",
    "print(\"=== All Matthewscorrcoef Scores ===\")\n",
    "print(SD_Matthewscorrcoef)\n",
    "print(\"=== All ROC_AUC  Scores ===\")\n",
    "print(SD_ROC_AUC )"
   ]
  },
  {
   "cell_type": "code",
   "execution_count": 90,
   "metadata": {},
   "outputs": [
    {
     "name": "stdout",
     "output_type": "stream",
     "text": [
      "=== Mean accuracy Score ===\n",
      "0.6958510136727959\n",
      "=== Mean precision Score ===\n",
      "0.5247171679636662\n",
      "=== Mean recall Score ===\n",
      "0.5802514703505428\n",
      "=== Mean f1 Score ===\n",
      "0.4471856755621603\n",
      "=== Mean Brier Score ===\n",
      "0.30414898632720416\n",
      "=== Mean Matthewscorrcoef  Score ===\n",
      "0.08741923378701014\n",
      "=== Mean ROC_AUC  Scores ===\n",
      "0.5802514703505428\n"
     ]
    }
   ],
   "source": [
    "print(\"=== Mean recall Score ===\")\n",
    "print( SD_recall.mean())\n",
    "print(\"=== Mean Brier Score ===\")\n",
    "print( SD_Brier.mean())\n",
    "print(\"=== Mean Matthewscorrcoef  Score ===\")\n",
    "print( SD_Matthewscorrcoef .mean())\n",
    "print(\"=== Mean ROC_AUC  Scores ===\")\n",
    "print(SD_ROC_AUC .mean())"
   ]
  },
  {
   "cell_type": "code",
   "execution_count": 91,
   "metadata": {},
   "outputs": [
    {
     "name": "stdout",
     "output_type": "stream",
     "text": [
      "=== Maximum accuracy Score ===\n",
      "0.9035046361779036\n",
      "=== Maximum precision Score ===\n",
      "0.5515032226482827\n",
      "=== Maximum recall Score ===\n",
      "0.6626898818339209\n",
      "=== Maximum f1 Score ===\n",
      "0.5648621686909588\n",
      "=== Maximum Brier Score ===\n",
      "0.8811881188118812\n",
      "=== Maximum Matthewscorrcoef  Score ===\n",
      "0.17208986888311306\n",
      "=== Maximum ROC_AUC  Scores ===\n",
      "0.6626898818339209\n"
     ]
    }
   ],
   "source": [
    "print(\"=== Maximum recall Score ===\")\n",
    "print( SD_recall.max())\n",
    "print(\"=== Maximum Brier Score ===\")\n",
    "print( SD_Brier.max())\n",
    "print(\"=== Maximum Matthewscorrcoef  Score ===\")\n",
    "print( SD_Matthewscorrcoef .max())\n",
    "print(\"=== Maximum ROC_AUC  Scores ===\")\n",
    "print(SD_ROC_AUC .max())"
   ]
  },
  {
   "cell_type": "code",
   "execution_count": null,
   "metadata": {},
   "outputs": [],
   "source": []
  },
  {
   "cell_type": "code",
   "execution_count": 92,
   "metadata": {},
   "outputs": [],
   "source": [
    "#LGBM"
   ]
  },
  {
   "cell_type": "code",
   "execution_count": 93,
   "metadata": {},
   "outputs": [
    {
     "name": "stderr",
     "output_type": "stream",
     "text": [
      "/Users/neenu/opt/anaconda3/lib/python3.7/site-packages/lightgbm/__init__.py:48: UserWarning: Starting from version 2.2.1, the library file in distribution wheels for macOS is built by the Apple Clang (Xcode_8.3.3) compiler.\n",
      "This means that in case of installing LightGBM from PyPI via the ``pip install lightgbm`` command, you don't need to install the gcc compiler anymore.\n",
      "Instead of that, you need to install the OpenMP library, which is required for running LightGBM on the system with the Apple Clang compiler.\n",
      "You can install the OpenMP library by the following command: ``brew install libomp``.\n",
      "  \"You can install the OpenMP library by the following command: ``brew install libomp``.\", UserWarning)\n"
     ]
    }
   ],
   "source": [
    "import lightgbm as lgb"
   ]
  },
  {
   "cell_type": "code",
   "execution_count": 94,
   "metadata": {},
   "outputs": [
    {
     "name": "stderr",
     "output_type": "stream",
     "text": [
      "/Users/neenu/opt/anaconda3/lib/python3.7/site-packages/sklearn/utils/validation.py:73: DataConversionWarning: A column-vector y was passed when a 1d array was expected. Please change the shape of y to (n_samples, ), for example using ravel().\n",
      "  return f(**kwargs)\n"
     ]
    },
    {
     "data": {
      "text/plain": [
       "LGBMClassifier()"
      ]
     },
     "execution_count": 94,
     "metadata": {},
     "output_type": "execute_result"
    }
   ],
   "source": [
    "clf = lgb.LGBMClassifier()\n",
    "clf.fit(X_train,Y_train)"
   ]
  },
  {
   "cell_type": "code",
   "execution_count": 95,
   "metadata": {},
   "outputs": [
    {
     "data": {
      "image/png": "[encoded data removed]",
      "text/plain": [
       "<Figure size 1440x576 with 1 Axes>"
      ]
     },
     "metadata": {
      "needs_background": "light"
     },
     "output_type": "display_data"
    }
   ],
   "source": [
    "# visualize features with importantce score > 0\n",
    "plt.figure(figsize=(20,8))\n",
    "sorted_importance_lgb = sorted(zip(X_train.columns, clf.feature_importances_), key=lambda t:t[1], reverse=True)\n",
    "sorted_importance_useful_lgb = [ i for i in sorted_importance_lgb if i[1] > 0]\n",
    "a, b = zip(*sorted_importance_useful_lgb)\n",
    "fp = pd.DataFrame({'feature':a, 'importance_score':b})[:25]\n",
    "sns.barplot(x=\"feature\", y=\"importance_score\", data=fp, palette = 'pastel')\n",
    "plt.xticks(rotation=90)\n",
    "plt.show()"
   ]
  },
  {
   "cell_type": "code",
   "execution_count": 96,
   "metadata": {},
   "outputs": [
    {
     "data": {
      "text/plain": [
       "(array([2., 1., 3., 3., 4., 2., 3., 0., 1., 4., 2., 0., 1., 1., 0., 1., 4.,\n",
       "        1., 1., 0., 0., 2., 2., 0., 0., 1., 0., 0., 0., 0., 0., 0., 1., 1.,\n",
       "        2., 0., 0., 0., 0., 0., 1., 0., 1., 0., 0., 1., 1., 0., 1., 0., 0.,\n",
       "        0., 0., 0., 0., 0., 0., 0., 0., 0., 0., 0., 0., 0., 0., 0., 0., 0.,\n",
       "        0., 0., 0., 0., 0., 0., 1., 0., 0., 0., 1., 0., 1., 0., 0., 0., 0.,\n",
       "        1., 0., 0., 0., 0., 0., 0., 0., 0., 0., 0., 0., 0., 0., 1.]),\n",
       " array([  2.  ,   4.47,   6.94,   9.41,  11.88,  14.35,  16.82,  19.29,\n",
       "         21.76,  24.23,  26.7 ,  29.17,  31.64,  34.11,  36.58,  39.05,\n",
       "         41.52,  43.99,  46.46,  48.93,  51.4 ,  53.87,  56.34,  58.81,\n",
       "         61.28,  63.75,  66.22,  68.69,  71.16,  73.63,  76.1 ,  78.57,\n",
       "         81.04,  83.51,  85.98,  88.45,  90.92,  93.39,  95.86,  98.33,\n",
       "        100.8 , 103.27, 105.74, 108.21, 110.68, 113.15, 115.62, 118.09,\n",
       "        120.56, 123.03, 125.5 , 127.97, 130.44, 132.91, 135.38, 137.85,\n",
       "        140.32, 142.79, 145.26, 147.73, 150.2 , 152.67, 155.14, 157.61,\n",
       "        160.08, 162.55, 165.02, 167.49, 169.96, 172.43, 174.9 , 177.37,\n",
       "        179.84, 182.31, 184.78, 187.25, 189.72, 192.19, 194.66, 197.13,\n",
       "        199.6 , 202.07, 204.54, 207.01, 209.48, 211.95, 214.42, 216.89,\n",
       "        219.36, 221.83, 224.3 , 226.77, 229.24, 231.71, 234.18, 236.65,\n",
       "        239.12, 241.59, 244.06, 246.53, 249.  ]),\n",
       " <a list of 100 Patch objects>)"
      ]
     },
     "execution_count": 96,
     "metadata": {},
     "output_type": "execute_result"
    },
    {
     "data": {
      "image/png": "[encoded data removed]",
      "text/plain": [
       "<Figure size 432x288 with 1 Axes>"
      ]
     },
     "metadata": {
      "needs_background": "light"
     },
     "output_type": "display_data"
    }
   ],
   "source": [
    "plt.hist(clf.feature_importances_,bins=100)"
   ]
  },
  {
   "cell_type": "code",
   "execution_count": 97,
   "metadata": {},
   "outputs": [],
   "source": [
    "features = X_train.columns\n",
    "importances = clf.feature_importances_\n",
    "features_to_include=[]\n",
    "j=0\n",
    "for i in importances:\n",
    "    if i>=50:\n",
    "        features_to_include.append(features[j])\n",
    "    j+=1"
   ]
  },
  {
   "cell_type": "code",
   "execution_count": 98,
   "metadata": {},
   "outputs": [],
   "source": [
    "X_trainlgbm=X_train[features_to_include]\n",
    "X_testlgbm=X_test[features_to_include]"
   ]
  },
  {
   "cell_type": "code",
   "execution_count": 99,
   "metadata": {},
   "outputs": [
    {
     "data": {
      "text/plain": [
       "(501214, 19)"
      ]
     },
     "execution_count": 99,
     "metadata": {},
     "output_type": "execute_result"
    }
   ],
   "source": [
    "X_trainlgbm.shape"
   ]
  },
  {
   "cell_type": "code",
   "execution_count": 100,
   "metadata": {},
   "outputs": [],
   "source": [
    "#Data preparation for cross validation\n",
    "X_trainlgbm_1=X_trainlgbm.copy()\n",
    "X_testlgbm_1=X_testlgbm.copy()\n",
    "\n",
    "train_3=pd.concat([X_trainlgbm_1,Y_train],axis=1)\n",
    "test_3=pd.concat([X_testlgbm_1,Y_test],axis=1)\n",
    "Data_3=pd.concat([train_3,test_3],axis=0)\n",
    "Data_3= Data_3.sample(frac=1, random_state=45)\n",
    "\n",
    "x3 = Data_3.loc[:, Data_3.columns != 'isFraud']\n",
    "y3 = Data_3.loc[:,'isFraud']\n"
   ]
  },
  {
   "cell_type": "code",
   "execution_count": 101,
   "metadata": {},
   "outputs": [],
   "source": [
    "###Resampling(SMOTE & Undersampling)\n",
    "pipe = make_pipeline(\n",
    "    SMOTE(sampling_strategy=0.2),\n",
    "    RandomUnderSampler(sampling_strategy=0.99)           \n",
    ")"
   ]
  },
  {
   "cell_type": "code",
   "execution_count": 102,
   "metadata": {},
   "outputs": [
    {
     "data": {
      "text/plain": [
       "isFraud    0.033787\n",
       "dtype: float64"
      ]
     },
     "execution_count": 102,
     "metadata": {},
     "output_type": "execute_result"
    }
   ],
   "source": [
    "X_trainlgbm.var()\n",
    "Y_train.var()"
   ]
  },
  {
   "cell_type": "code",
   "execution_count": 103,
   "metadata": {},
   "outputs": [],
   "source": [
    "X_lgbmtrain,Y_lgbmtrain=pipe.fit_resample(X_trainlgbm,Y_train)"
   ]
  },
  {
   "cell_type": "code",
   "execution_count": 104,
   "metadata": {},
   "outputs": [],
   "source": [
    "X_lgbmtrain=pd.DataFrame(X_lgbmtrain)\n",
    "Y_lgbmtrain=pd.DataFrame(Y_lgbmtrain)"
   ]
  },
  {
   "cell_type": "code",
   "execution_count": 105,
   "metadata": {},
   "outputs": [],
   "source": [
    "train_lgbm_=pd.concat([X_lgbmtrain,Y_lgbmtrain],axis=1)\n",
    "test_lgbm_=pd.concat([X_testlgbm,Y_test],axis=1)\n",
    "# Shuffle dataframe rows\n",
    "trainlgbm = train_lgbm_.sample(frac=1, random_state=55)\n",
    "testlgbm = test_lgbm_.sample(frac=1, random_state=55)"
   ]
  },
  {
   "cell_type": "code",
   "execution_count": 106,
   "metadata": {},
   "outputs": [],
   "source": [
    "train=pd.concat([X_trainlgbm,Y_train],axis=1)\n",
    "test=pd.concat([X_testlgbm,Y_test],axis=1)"
   ]
  },
  {
   "cell_type": "code",
   "execution_count": 107,
   "metadata": {},
   "outputs": [],
   "source": [
    "Data=pd.concat([train,test],axis=0)"
   ]
  },
  {
   "cell_type": "code",
   "execution_count": 108,
   "metadata": {},
   "outputs": [],
   "source": [
    "X_data=Data.drop('isFraud', axis=1)"
   ]
  },
  {
   "cell_type": "code",
   "execution_count": 109,
   "metadata": {},
   "outputs": [],
   "source": [
    "Y_data=Data['isFraud']"
   ]
  },
  {
   "cell_type": "code",
   "execution_count": 110,
   "metadata": {},
   "outputs": [],
   "source": [
    "X_lgbmtrain = trainlgbm .drop('isFraud', axis=1)\n",
    "Y_lgbmtrain=trainlgbm ['isFraud']\n",
    "X_lgbmtest=testlgbm.drop('isFraud', axis=1)\n",
    "Y_lgbmtest=testlgbm['isFraud']"
   ]
  },
  {
   "cell_type": "code",
   "execution_count": 111,
   "metadata": {},
   "outputs": [],
   "source": [
    "# with default paramter\n",
    "clf = lgb.LGBMClassifier()\n",
    "clf.fit(X_lgbmtrain,Y_lgbmtrain)\n",
    "y_trainpred=clf.predict_proba(X_lgbmtrain)\n",
    "y_testpred = clf.predict_proba(X_lgbmtest)"
   ]
  },
  {
   "cell_type": "code",
   "execution_count": 112,
   "metadata": {},
   "outputs": [
    {
     "name": "stdout",
     "output_type": "stream",
     "text": [
      "train auc with default parameter: 0.97742084049652\n",
      "test auc with default parameter: 0.8685362565778239\n"
     ]
    }
   ],
   "source": [
    "# auc with default parameters\n",
    "print('train auc with default parameter:',roc_auc_score(Y_lgbmtrain,y_trainpred[:,1]))\n",
    "print('test auc with default parameter:',roc_auc_score(Y_lgbmtest,y_testpred[:,1]))"
   ]
  },
  {
   "cell_type": "code",
   "execution_count": 113,
   "metadata": {},
   "outputs": [
    {
     "name": "stdout",
     "output_type": "stream",
     "text": [
      "Parameters currently in use:\n",
      "\n",
      "{'boosting_type': 'gbdt', 'class_weight': None, 'colsample_bytree': 1.0, 'importance_type': 'split', 'learning_rate': 0.1, 'max_depth': -1, 'min_child_samples': 20, 'min_child_weight': 0.001, 'min_split_gain': 0.0, 'n_estimators': 100, 'n_jobs': -1, 'num_leaves': 31, 'objective': None, 'random_state': None, 'reg_alpha': 0.0, 'reg_lambda': 0.0, 'silent': True, 'subsample': 1.0, 'subsample_for_bin': 200000, 'subsample_freq': 0}\n"
     ]
    }
   ],
   "source": [
    "#  parameters currently used\n",
    "print('Parameters currently in use:\\n')\n",
    "print(clf.get_params())"
   ]
  },
  {
   "cell_type": "code",
   "execution_count": 114,
   "metadata": {},
   "outputs": [],
   "source": [
    "#GridSearchCV with timeseries\n",
    "\n",
    "folds = TimeSeriesSplit(n_splits = 3)\n",
    "\n",
    "model=lgb.LGBMClassifier()\n",
    "params = {\"max_depth\": [5,10,15],\n",
    "              \"learning_rate\" : [0.1,0.15,0.3],\n",
    "              \"num_leaves\": [32,150,200],\n",
    "              \"n_estimators\": [500,700],\n",
    "              'boost_from_average': [False],\n",
    "               \"random_state\": [2]}\n",
    "\n",
    "gs_lgbm = GridSearchCV(model, param_grid = params, cv = folds, scoring = 'roc_auc',verbose=10, n_jobs=-1)"
   ]
  },
  {
   "cell_type": "code",
   "execution_count": 115,
   "metadata": {},
   "outputs": [
    {
     "name": "stdout",
     "output_type": "stream",
     "text": [
      "Fitting 3 folds for each of 54 candidates, totalling 162 fits\n"
     ]
    },
    {
     "name": "stderr",
     "output_type": "stream",
     "text": [
      "[Parallel(n_jobs=-1)]: Using backend LokyBackend with 8 concurrent workers.\n",
      "[Parallel(n_jobs=-1)]: Done   2 tasks      | elapsed:    8.7s\n",
      "[Parallel(n_jobs=-1)]: Done   9 tasks      | elapsed:   20.5s\n",
      "[Parallel(n_jobs=-1)]: Done  16 tasks      | elapsed:   36.8s\n",
      "[Parallel(n_jobs=-1)]: Done  25 tasks      | elapsed:  1.1min\n",
      "[Parallel(n_jobs=-1)]: Done  34 tasks      | elapsed:  1.9min\n",
      "[Parallel(n_jobs=-1)]: Done  45 tasks      | elapsed:  2.7min\n",
      "[Parallel(n_jobs=-1)]: Done  56 tasks      | elapsed:  3.5min\n",
      "[Parallel(n_jobs=-1)]: Done  69 tasks      | elapsed:  4.0min\n",
      "[Parallel(n_jobs=-1)]: Done  82 tasks      | elapsed:  4.7min\n",
      "[Parallel(n_jobs=-1)]: Done  97 tasks      | elapsed:  6.0min\n",
      "[Parallel(n_jobs=-1)]: Done 112 tasks      | elapsed:  6.9min\n",
      "[Parallel(n_jobs=-1)]: Done 129 tasks      | elapsed:  7.6min\n",
      "[Parallel(n_jobs=-1)]: Done 146 tasks      | elapsed:  8.9min\n",
      "[Parallel(n_jobs=-1)]: Done 162 out of 162 | elapsed: 10.1min finished\n"
     ]
    },
    {
     "data": {
      "text/plain": [
       "GridSearchCV(cv=TimeSeriesSplit(max_train_size=None, n_splits=3),\n",
       "             estimator=LGBMClassifier(), n_jobs=-1,\n",
       "             param_grid={'boost_from_average': [False],\n",
       "                         'learning_rate': [0.1, 0.15, 0.3],\n",
       "                         'max_depth': [5, 10, 15], 'n_estimators': [500, 700],\n",
       "                         'num_leaves': [32, 150, 200], 'random_state': [2]},\n",
       "             scoring='roc_auc', verbose=10)"
      ]
     },
     "execution_count": 115,
     "metadata": {},
     "output_type": "execute_result"
    }
   ],
   "source": [
    "gs_lgbm.fit(X_lgbmtrain,Y_lgbmtrain)"
   ]
  },
  {
   "cell_type": "code",
   "execution_count": 116,
   "metadata": {},
   "outputs": [
    {
     "data": {
      "text/plain": [
       "{'boost_from_average': False,\n",
       " 'learning_rate': 0.1,\n",
       " 'max_depth': 15,\n",
       " 'n_estimators': 700,\n",
       " 'num_leaves': 200,\n",
       " 'random_state': 2}"
      ]
     },
     "execution_count": 116,
     "metadata": {},
     "output_type": "execute_result"
    }
   ],
   "source": [
    "#Best parameters\n",
    "gs_lgbm.best_params_"
   ]
  },
  {
   "cell_type": "code",
   "execution_count": 117,
   "metadata": {},
   "outputs": [
    {
     "name": "stdout",
     "output_type": "stream",
     "text": [
      "roc_auc: 0.9026505391959795\n",
      "brier_score_loss: 0.028021680290951454\n"
     ]
    }
   ],
   "source": [
    "#test prediction with best parameters\n",
    "best_lgbm= lgb.LGBMClassifier(boost_from_average=False, learning_rate=0.1, max_depth=15, n_estimators=700,\n",
    "num_leaves=200,random_state=2)\n",
    "best_lgbm.fit(X_lgbmtrain, Y_lgbmtrain)\n",
    "y_trainpredbest =best_lgbm.predict_proba(X_lgbmtrain)\n",
    "y_testpredbest =best_lgbm.predict_proba(X_lgbmtest)\n",
    "print('roc_auc:',roc_auc_score(Y_lgbmtest,y_testpredbest[:,1]))\n",
    "print('brier_score_loss:',brier_score_loss(Y_lgbmtest,y_testpredbest[:,1]))"
   ]
  },
  {
   "cell_type": "code",
   "execution_count": 118,
   "metadata": {},
   "outputs": [
    {
     "data": {
      "image/png": "[encoded data removed]",
      "text/plain": [
       "<Figure size 576x432 with 1 Axes>"
      ]
     },
     "metadata": {
      "needs_background": "light"
     },
     "output_type": "display_data"
    }
   ],
   "source": [
    "plt.figure(figsize=(8,6))\n",
    "# auc of train\n",
    "fpr, tpr, thresh = roc_curve(Y_lgbmtrain,y_trainpredbest[:,1])\n",
    "auc = roc_auc_score(Y_lgbmtrain, y_trainpredbest[:,1])\n",
    "plt.plot(fpr,tpr,label=\"train, auc=\"+str(round(auc,4)))\n",
    "# auc of test\n",
    "fpr, tpr, thresh = roc_curve(Y_lgbmtest, y_testpredbest[:,1])\n",
    "auc = roc_auc_score(Y_lgbmtest,  y_testpredbest[:,1])\n",
    "plt.plot(fpr,tpr,label=\"test, auc=\"+str(round(auc,4)))\n",
    "plt.plot([0, 1], [0, 1], 'k--')\n",
    "plt.legend(loc=0)\n",
    "plt.xlabel('False Positive Rate')\n",
    "plt.ylabel('True Positive Rate')\n",
    "plt.title('Tuned lgbm- Receiver operating characteristic')\n",
    "plt.show()"
   ]
  },
  {
   "cell_type": "code",
   "execution_count": 119,
   "metadata": {},
   "outputs": [
    {
     "data": {
      "image/png": "[encoded data removed]",
      "text/plain": [
       "<Figure size 576x432 with 2 Axes>"
      ]
     },
     "metadata": {
      "needs_background": "light"
     },
     "output_type": "display_data"
    }
   ],
   "source": [
    "y_scores = y_testpredbest[:,1]\n",
    "fpr, tpr, thresholds = roc_curve(Y_lgbmtest, y_scores)\n",
    "# auc(fpr, tpr) # auc has been assigned as a variable by the above plot's code\n",
    "plt.figure(figsize=(8,6))\n",
    "plt.plot(fpr, tpr, label='ROC curve (area = %0.2f)' % (auc))\n",
    "plt.plot([0, 1], [0, 1], 'k--')\n",
    "plt.xlim([0.0, 1.0])\n",
    "plt.ylim([0.0, 1.02])\n",
    "plt.xlabel('False Positive Rate')\n",
    "plt.ylabel('True Positive Rate')\n",
    "plt.title('Tuned lgbm - Receiver operating characteristic')\n",
    "plt.legend(loc=\"best\")\n",
    "\n",
    "# create the axis of thresholds (scores)\n",
    "ax2 = plt.gca().twinx()\n",
    "ax2.plot(fpr, thresholds, markeredgecolor='r',linestyle='dashed', color='r')\n",
    "ax2.set_ylabel('Threshold',color='r')\n",
    "ax2.set_ylim([thresholds[-1],1])\n",
    "ax2.set_xlim([fpr[0],fpr[-1]])\n",
    "plt.show()\n",
    "# plt.axhline(y=0.0, c=\"r\", ls=\"--\", lw=2)\n",
    "# plt.axvline(x=4.0, c=\"r\", ls=\"--\", lw=2)"
   ]
  },
  {
   "cell_type": "code",
   "execution_count": 120,
   "metadata": {},
   "outputs": [
    {
     "name": "stdout",
     "output_type": "stream",
     "text": [
      "Accuracy:\n",
      " 0.9658889908873116\n",
      "Recall:\n",
      " 0.4765574823378292\n",
      "Precision:\n",
      " 0.5115477421578766\n",
      "matthews_corrcoef:\n",
      " 0.4761260043170554\n"
     ]
    }
   ],
   "source": [
    "y_testpred_ =best_lgbm.predict(X_lgbmtest)\n",
    "print(\"matthews_corrcoef:\\n\",matthews_corrcoef(Y_lgbmtest, y_testpred_))\n",
    "print(\"Recall:\\n\",metrics.recall_score(Y_lgbmtest,y_testpred_))"
   ]
  },
  {
   "cell_type": "code",
   "execution_count": 121,
   "metadata": {},
   "outputs": [],
   "source": [
    "x_3 = x3[:70000]\n",
    "y_3 = y3[:70000]"
   ]
  },
  {
   "cell_type": "code",
   "execution_count": 122,
   "metadata": {},
   "outputs": [],
   "source": [
    "#10 fold cv \n",
    "folds=TimeSeriesSplit(n_splits = 10)"
   ]
  },
  {
   "cell_type": "code",
   "execution_count": 123,
   "metadata": {},
   "outputs": [],
   "source": [
    "#model with best params\n",
    "model3 = lgb.LGBMClassifier(boost_from_average=False,learning_rate=0.1, max_depth=15, n_estimators=700,\n",
    " num_leaves=200,random_state=2,class_weight=\"balanced\")"
   ]
  },
  {
   "cell_type": "code",
   "execution_count": 124,
   "metadata": {},
   "outputs": [],
   "source": [
    "custom_scorer = {\n",
    "                 'recall': make_scorer(recall_score, average='macro'),\n",
    "                 'Brier': make_scorer(brier_score_loss),\n",
    "                 'Matthewscorrcoef': make_scorer(matthews_corrcoef),\n",
    "                 'ROC_AUC': make_scorer(roc_auc_score)\n",
    "                 }\n",
    "lgbm_scores = cross_validate(model3, x_3,y_3,cv = folds, scoring = custom_scorer)"
   ]
  },
  {
   "cell_type": "code",
   "execution_count": 125,
   "metadata": {},
   "outputs": [
    {
     "data": {
      "text/plain": [
       "['fit_time',\n",
       " 'score_time',\n",
       " 'test_Brier',\n",
       " 'test_Matthewscorrcoef',\n",
       " 'test_ROC_AUC',\n",
       " 'test_accuracy',\n",
       " 'test_f1',\n",
       " 'test_precision',\n",
       " 'test_recall']"
      ]
     },
     "execution_count": 125,
     "metadata": {},
     "output_type": "execute_result"
    }
   ],
   "source": [
    "sorted(lgbm_scores.keys())"
   ]
  },
  {
   "cell_type": "code",
   "execution_count": 126,
   "metadata": {},
   "outputs": [],
   "source": [
    "lgbm_recall = lgbm_scores['test_recall']\n",
    "lgbm_Brier = lgbm_scores['test_Brier']\n",
    "lgbm_Matthewscorrcoef = lgbm_scores['test_Matthewscorrcoef']\n",
    "lgbm_ROC_AUC = lgbm_scores['test_ROC_AUC']"
   ]
  },
  {
   "cell_type": "code",
   "execution_count": 127,
   "metadata": {},
   "outputs": [
    {
     "name": "stdout",
     "output_type": "stream",
     "text": [
      "=== All accuracy Scores ===\n",
      "[0.97234009 0.96935408 0.97579758 0.97516895 0.97218293 0.97265441\n",
      " 0.97123998 0.97375452 0.97485463 0.97721201]\n",
      "=== All precision Scores ===\n",
      "[0.84850615 0.79600868 0.84032464 0.83697349 0.84948898 0.88274296\n",
      " 0.89437783 0.9113385  0.89955286 0.91339942]\n",
      "=== All recall Scores ===\n",
      "[0.63328305 0.60797091 0.69176805 0.64797505 0.66213466 0.70142135\n",
      " 0.67366268 0.67537185 0.68297817 0.73995182]\n",
      "=== All f1 Scores ===\n",
      "[0.68947549 0.65479025 0.74379932 0.70321548 0.71887082 0.76157249\n",
      " 0.73772663 0.74251157 0.74814961 0.80182139]\n",
      "=== All Brier Scores ===\n",
      "[0.02765991 0.03064592 0.02420242 0.02483105 0.02781707 0.02734559\n",
      " 0.02876002 0.02624548 0.02514537 0.02278799]\n",
      "=== All Matthewscorrcoef Scores ===\n",
      "[0.43104507 0.35754904 0.51093401 0.44660349 0.47608518 0.55531109\n",
      " 0.52340696 0.53716737 0.54077519 0.62990775]\n",
      "=== All ROC_AUC Scores ===\n",
      "[0.63328305 0.60797091 0.69176805 0.64797505 0.66213466 0.70142135\n",
      " 0.67366268 0.67537185 0.68297817 0.73995182]\n"
     ]
    }
   ],
   "source": [
    "print(\"=== All recall Scores ===\")\n",
    "print(lgbm_recall)\n",
    "print(\"=== All Brier Scores ===\")\n",
    "print(lgbm_Brier)\n",
    "print(\"=== All Matthewscorrcoef Scores ===\")\n",
    "print(lgbm_Matthewscorrcoef)\n",
    "print(\"=== All ROC_AUC Scores ===\")\n",
    "print(lgbm_ROC_AUC)"
   ]
  },
  {
   "cell_type": "code",
   "execution_count": 128,
   "metadata": {},
   "outputs": [
    {
     "name": "stdout",
     "output_type": "stream",
     "text": [
      "=== Mean accuracy Score ===\n",
      "0.9734559170202735\n",
      "=== Mean precision Score ===\n",
      "0.8672713522110804\n",
      "=== Mean recall Score ===\n",
      "0.6716517591536031\n",
      "=== Mean f1 Score ===\n",
      "0.7301933054014462\n",
      "=== Mean Brier Score ===\n",
      "0.026544082979726547\n",
      "=== Mean Matthewscorrcoef  Score ===\n",
      "0.5008785158745546\n",
      "=== Mean ROC_AUC  Score ===\n",
      "0.6716517591536031\n"
     ]
    }
   ],
   "source": [
    "print(\"=== Mean recall Score ===\")\n",
    "print( lgbm_recall.mean())\n",
    "print(\"=== Mean Brier Score ===\")\n",
    "print( lgbm_Brier.mean())\n",
    "print(\"=== Mean Matthewscorrcoef  Score ===\")\n",
    "print( lgbm_Matthewscorrcoef .mean())\n",
    "print(\"=== Mean ROC_AUC  Score ===\")\n",
    "print( lgbm_ROC_AUC .mean())"
   ]
  },
  {
   "cell_type": "code",
   "execution_count": 129,
   "metadata": {},
   "outputs": [
    {
     "name": "stdout",
     "output_type": "stream",
     "text": [
      "=== Maximum accuracy Score ===\n",
      "0.9772120069149772\n",
      "=== Maximum precision Score ===\n",
      "0.9133994245933582\n",
      "=== Maximum recall Score ===\n",
      "0.7399518210027765\n",
      "=== Maximum f1 Score ===\n",
      "0.8018213869699821\n",
      "=== Minimum Brier Score ===\n",
      "0.022787993085022787\n",
      "=== Maximum Matthewscorrcoef  Score ===\n",
      "0.6299077543027272\n",
      "=== Maximum ROC_AUC  Score ===\n",
      "0.7399518210027765\n"
     ]
    }
   ],
   "source": [
    "print(\"=== Maximum recall Score ===\")\n",
    "print( lgbm_recall.max())\n",
    "print(\"=== Minimum Brier Score ===\")\n",
    "print( lgbm_Brier.min())\n",
    "print(\"=== Maximum Matthewscorrcoef  Score ===\")\n",
    "print( lgbm_Matthewscorrcoef .max())\n",
    "print(\"=== Maximum ROC_AUC  Score ===\")\n",
    "print( lgbm_ROC_AUC .max())"
   ]
  },
  {
   "cell_type": "code",
   "execution_count": null,
   "metadata": {},
   "outputs": [],
   "source": []
  },
  {
   "cell_type": "code",
   "execution_count": null,
   "metadata": {},
   "outputs": [],
   "source": []
  }
 ],
 "metadata": {
  "kernelspec": {
   "display_name": "Python 3",
   "language": "python",
   "name": "python3"
  },
  "language_info": {
   "codemirror_mode": {
    "name": "ipython",
    "version": 3
   },
   "file_extension": ".py",
   "mimetype": "text/x-python",
   "name": "python",
   "nbconvert_exporter": "python",
   "pygments_lexer": "ipython3",
   "version": "3.7.7"
  }
 },
 "nbformat": 4,
 "nbformat_minor": 4
}
