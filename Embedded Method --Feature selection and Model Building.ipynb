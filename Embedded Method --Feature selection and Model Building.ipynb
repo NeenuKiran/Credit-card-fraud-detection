{
 "cells": [
  {
   "cell_type": "code",
   "execution_count": 20,
   "metadata": {},
   "outputs": [],
   "source": [
    "import pandas as pd\n",
    "import numpy as np\n",
    "\n",
    "import seaborn as sns\n",
    "import matplotlib.pyplot as plt\n",
    "%matplotlib inline\n",
    "\n",
    "from sklearn.feature_selection import VarianceThreshold,mutual_info_classif,SelectKBest,SelectFromModel\n",
    "from mlxtend.feature_selection import SequentialFeatureSelector\n",
    "\n",
    "from imblearn.pipeline import make_pipeline\n",
    "from imblearn.over_sampling import SMOTE\n",
    "from imblearn.under_sampling import RandomUnderSampler\n",
    "\n",
    "from sklearn.linear_model import SGDClassifier\n",
    "from sklearn.ensemble import RandomForestClassifier\n",
    "\n",
    "from sklearn.model_selection import  GridSearchCV,cross_val_score,TimeSeriesSplit\n",
    "\n",
    "import sklearn.metrics as metrics\n",
    "from sklearn.metrics import confusion_matrix, recall_score, precision_score, roc_auc_score,roc_curve, auc,matthews_corrcoef"
   ]
  },
  {
   "cell_type": "code",
   "execution_count": 21,
   "metadata": {},
   "outputs": [],
   "source": [
    "X_train=pd.read_csv('X_train2.csv')\n",
    "Y_train=pd.read_csv('Y_train2.csv')\n",
    "X_test=pd.read_csv('X_test2.csv')\n",
    "Y_test=pd.read_csv('Y_test2.csv')"
   ]
  },
  {
   "cell_type": "code",
   "execution_count": 22,
   "metadata": {},
   "outputs": [
    {
     "data": {
      "text/plain": [
       "SelectFromModel(estimator=RandomForestClassifier())"
      ]
     },
     "execution_count": 22,
     "metadata": {},
     "output_type": "execute_result"
    }
   ],
   "source": [
    "#embedded feature selection with RandomForestClassifier\n",
    "sel_ = SelectFromModel(RandomForestClassifier())\n",
    "sel_.fit(X_train, Y_train.values.ravel())"
   ]
  },
  {
   "cell_type": "code",
   "execution_count": 23,
   "metadata": {},
   "outputs": [
    {
     "data": {
      "text/plain": [
       "array([False, False, False,  True, False,  True, False, False,  True,\n",
       "        True,  True, False, False,  True,  True, False, False, False,\n",
       "       False, False, False, False, False, False, False, False,  True,\n",
       "       False, False, False, False, False,  True,  True,  True,  True,\n",
       "        True, False, False,  True,  True, False, False, False, False,\n",
       "       False, False, False, False, False, False, False, False, False,\n",
       "        True,  True,  True,  True,  True, False,  True,  True, False,\n",
       "       False, False])"
      ]
     },
     "execution_count": 23,
     "metadata": {},
     "output_type": "execute_result"
    }
   ],
   "source": [
    "sel_.get_support()"
   ]
  },
  {
   "cell_type": "code",
   "execution_count": 24,
   "metadata": {},
   "outputs": [
    {
     "data": {
      "text/plain": [
       "22"
      ]
     },
     "execution_count": 24,
     "metadata": {},
     "output_type": "execute_result"
    }
   ],
   "source": [
    "# number of features selected\n",
    "features_emrf = X_train.columns[(sel_.get_support())]\n",
    "len(features_emrf)"
   ]
  },
  {
   "cell_type": "code",
   "execution_count": 25,
   "metadata": {},
   "outputs": [
    {
     "data": {
      "text/plain": [
       "Index(['addr1', 'C1', 'D1', 'D2', 'D4', 'D8', 'D10', 'V127', 'V202', 'V203',\n",
       "       'V263', 'V264', 'V279', 'V313', 'V314', 'LogAmt', 'day', 'Hour',\n",
       "       'Logcard1', 'Logcard2', 'Logcard5', 'P_emaildomain_bin'],\n",
       "      dtype='object')"
      ]
     },
     "execution_count": 25,
     "metadata": {},
     "output_type": "execute_result"
    }
   ],
   "source": [
    "# list of selected features\n",
    "features_emrf"
   ]
  },
  {
   "cell_type": "code",
   "execution_count": 26,
   "metadata": {},
   "outputs": [],
   "source": [
    "X_train_=pd.DataFrame(X_train[features_emrf])\n",
    "X_est_=pd.DataFrame(X_test[features_emrf])"
   ]
  },
  {
   "cell_type": "markdown",
   "metadata": {},
   "source": [
    "RESAMPLING"
   ]
  },
  {
   "cell_type": "code",
   "execution_count": 27,
   "metadata": {},
   "outputs": [],
   "source": [
    "#Resampling of training set (SMOTE and Random Undersampling)\n",
    "pipe = make_pipeline(\n",
    "    SMOTE(sampling_strategy=0.2),\n",
    "    RandomUnderSampler(sampling_strategy=0.9)           \n",
    ")"
   ]
  },
  {
   "cell_type": "code",
   "execution_count": 28,
   "metadata": {},
   "outputs": [
    {
     "data": {
      "text/plain": [
       "isFraud    0.033901\n",
       "dtype: float64"
      ]
     },
     "execution_count": 28,
     "metadata": {},
     "output_type": "execute_result"
    }
   ],
   "source": [
    "X_train_.var()\n",
    "Y_train.var()"
   ]
  },
  {
   "cell_type": "code",
   "execution_count": 29,
   "metadata": {},
   "outputs": [],
   "source": [
    "X_emtrain,Y_emtrain=pipe.fit_resample(X_train_,Y_train)"
   ]
  },
  {
   "cell_type": "code",
   "execution_count": 30,
   "metadata": {},
   "outputs": [],
   "source": [
    "X_emtrain=pd.DataFrame(X_emtrain)\n",
    "Y_emtrain=pd.DataFrame(Y_emtrain)"
   ]
  },
  {
   "cell_type": "code",
   "execution_count": 32,
   "metadata": {},
   "outputs": [],
   "source": [
    "train_em_=pd.concat([X_emtrain,Y_emtrain],axis=1)\n",
    "# Shuffle dataframe rows\n",
    "trainem = train_em_.sample(frac=1, random_state=60)"
   ]
  },
  {
   "cell_type": "code",
   "execution_count": 33,
   "metadata": {},
   "outputs": [],
   "source": [
    "X_emtrain = trainem.drop('isFraud', axis=1)\n",
    "Y_emtrain=trainem['isFraud']"
   ]
  },
  {
   "cell_type": "code",
   "execution_count": 35,
   "metadata": {},
   "outputs": [],
   "source": [
    "X_emtest=X_est_\n",
    "Y_emtest=Y_test"
   ]
  },
  {
   "cell_type": "code",
   "execution_count": 36,
   "metadata": {},
   "outputs": [
    {
     "data": {
      "text/plain": [
       "((192461, 22), (192461,), (118108, 22), (118108, 1))"
      ]
     },
     "execution_count": 36,
     "metadata": {},
     "output_type": "execute_result"
    }
   ],
   "source": [
    "X_emtrain.shape,Y_emtrain.shape,X_emtest.shape,Y_emtest.shape"
   ]
  },
  {
   "cell_type": "code",
   "execution_count": 37,
   "metadata": {},
   "outputs": [],
   "source": [
    "#Random forest"
   ]
  },
  {
   "cell_type": "code",
   "execution_count": 38,
   "metadata": {},
   "outputs": [],
   "source": [
    "# with default paramter\n",
    "clf = RandomForestClassifier()\n",
    "clf.fit(X_emtrain,Y_emtrain)\n",
    "y_trainpred=clf.predict_proba(X_emtrain)\n",
    "y_testpred = clf.predict_proba(X_emtest)"
   ]
  },
  {
   "cell_type": "code",
   "execution_count": 39,
   "metadata": {},
   "outputs": [
    {
     "name": "stdout",
     "output_type": "stream",
     "text": [
      "train auc with default parameter: 0.9999999995668493\n",
      "test auc with default parameter: 0.8521826879586053\n"
     ]
    }
   ],
   "source": [
    "# auc with default parameters\n",
    "print('train auc with default parameter:',roc_auc_score(Y_emtrain,y_trainpred[:,1]))\n",
    "print('test auc with default parameter:',roc_auc_score(Y_emtest,y_testpred[:,1]))"
   ]
  },
  {
   "cell_type": "code",
   "execution_count": 40,
   "metadata": {},
   "outputs": [],
   "source": [
    "#GridSearchCV with timeseries\n",
    "\n",
    "time_splitter_outer = TimeSeriesSplit(n_splits = 3)\n",
    "time_splitter_inner = TimeSeriesSplit(n_splits = 3)\n",
    "\n",
    "model=RandomForestClassifier()\n",
    "params = {'n_estimators':[500,700,900,1000],\n",
    "           'max_depth':[3,5,7,9,11,13]}\n",
    "\n",
    "gs_rf = GridSearchCV(model, param_grid = params, cv = time_splitter_inner, scoring = 'roc_auc',verbose=10, n_jobs=-1)\n"
   ]
  },
  {
   "cell_type": "code",
   "execution_count": 41,
   "metadata": {},
   "outputs": [
    {
     "name": "stdout",
     "output_type": "stream",
     "text": [
      "Fitting 3 folds for each of 24 candidates, totalling 72 fits\n"
     ]
    },
    {
     "name": "stderr",
     "output_type": "stream",
     "text": [
      "[Parallel(n_jobs=-1)]: Using backend LokyBackend with 8 concurrent workers.\n",
      "[Parallel(n_jobs=-1)]: Done   2 tasks      | elapsed:   28.9s\n",
      "[Parallel(n_jobs=-1)]: Done   9 tasks      | elapsed:  1.4min\n",
      "[Parallel(n_jobs=-1)]: Done  16 tasks      | elapsed:  2.7min\n",
      "[Parallel(n_jobs=-1)]: Done  25 tasks      | elapsed:  4.5min\n",
      "[Parallel(n_jobs=-1)]: Done  34 tasks      | elapsed:  6.3min\n",
      "[Parallel(n_jobs=-1)]: Done  45 tasks      | elapsed:  9.6min\n",
      "[Parallel(n_jobs=-1)]: Done  56 tasks      | elapsed: 13.4min\n",
      "[Parallel(n_jobs=-1)]: Done  65 out of  72 | elapsed: 16.5min remaining:  1.8min\n",
      "[Parallel(n_jobs=-1)]: Done  72 out of  72 | elapsed: 20.4min finished\n"
     ]
    },
    {
     "data": {
      "text/plain": [
       "GridSearchCV(cv=TimeSeriesSplit(max_train_size=None, n_splits=3),\n",
       "             estimator=RandomForestClassifier(), n_jobs=-1,\n",
       "             param_grid={'max_depth': [3, 5, 7, 9, 11, 13],\n",
       "                         'n_estimators': [500, 700, 900, 1000]},\n",
       "             scoring='roc_auc', verbose=10)"
      ]
     },
     "execution_count": 41,
     "metadata": {},
     "output_type": "execute_result"
    }
   ],
   "source": [
    "gs_rf.fit(X_emtrain,Y_emtrain)"
   ]
  },
  {
   "cell_type": "code",
   "execution_count": 42,
   "metadata": {},
   "outputs": [
    {
     "name": "stdout",
     "output_type": "stream",
     "text": [
      "Fitting 3 folds for each of 24 candidates, totalling 72 fits\n"
     ]
    },
    {
     "name": "stderr",
     "output_type": "stream",
     "text": [
      "[Parallel(n_jobs=-1)]: Using backend LokyBackend with 8 concurrent workers.\n",
      "[Parallel(n_jobs=-1)]: Done   2 tasks      | elapsed:    8.0s\n",
      "[Parallel(n_jobs=-1)]: Done   9 tasks      | elapsed:   19.8s\n",
      "[Parallel(n_jobs=-1)]: Done  16 tasks      | elapsed:   37.6s\n",
      "[Parallel(n_jobs=-1)]: Done  25 tasks      | elapsed:  1.1min\n",
      "[Parallel(n_jobs=-1)]: Done  34 tasks      | elapsed:  1.5min\n",
      "[Parallel(n_jobs=-1)]: Done  45 tasks      | elapsed:  2.2min\n",
      "[Parallel(n_jobs=-1)]: Done  56 tasks      | elapsed:  3.0min\n",
      "[Parallel(n_jobs=-1)]: Done  65 out of  72 | elapsed:  3.8min remaining:   24.3s\n",
      "[Parallel(n_jobs=-1)]: Done  72 out of  72 | elapsed:  4.6min finished\n"
     ]
    },
    {
     "name": "stdout",
     "output_type": "stream",
     "text": [
      "Fitting 3 folds for each of 24 candidates, totalling 72 fits\n"
     ]
    },
    {
     "name": "stderr",
     "output_type": "stream",
     "text": [
      "[Parallel(n_jobs=-1)]: Using backend LokyBackend with 8 concurrent workers.\n",
      "[Parallel(n_jobs=-1)]: Done   2 tasks      | elapsed:   12.7s\n",
      "[Parallel(n_jobs=-1)]: Done   9 tasks      | elapsed:   37.0s\n",
      "[Parallel(n_jobs=-1)]: Done  16 tasks      | elapsed:  1.2min\n",
      "[Parallel(n_jobs=-1)]: Done  25 tasks      | elapsed:  2.1min\n",
      "[Parallel(n_jobs=-1)]: Done  34 tasks      | elapsed:  3.0min\n",
      "[Parallel(n_jobs=-1)]: Done  45 tasks      | elapsed:  4.5min\n",
      "[Parallel(n_jobs=-1)]: Done  56 tasks      | elapsed:  6.3min\n",
      "[Parallel(n_jobs=-1)]: Done  65 out of  72 | elapsed:  7.8min remaining:   50.4s\n",
      "[Parallel(n_jobs=-1)]: Done  72 out of  72 | elapsed:  9.5min finished\n"
     ]
    },
    {
     "name": "stdout",
     "output_type": "stream",
     "text": [
      "Fitting 3 folds for each of 24 candidates, totalling 72 fits\n"
     ]
    },
    {
     "name": "stderr",
     "output_type": "stream",
     "text": [
      "[Parallel(n_jobs=-1)]: Using backend LokyBackend with 8 concurrent workers.\n",
      "[Parallel(n_jobs=-1)]: Done   2 tasks      | elapsed:   19.6s\n",
      "[Parallel(n_jobs=-1)]: Done   9 tasks      | elapsed:   58.1s\n",
      "[Parallel(n_jobs=-1)]: Done  16 tasks      | elapsed:  1.9min\n",
      "[Parallel(n_jobs=-1)]: Done  25 tasks      | elapsed:  3.2min\n",
      "[Parallel(n_jobs=-1)]: Done  34 tasks      | elapsed:  4.7min\n",
      "[Parallel(n_jobs=-1)]: Done  45 tasks      | elapsed:  7.1min\n",
      "[Parallel(n_jobs=-1)]: Done  56 tasks      | elapsed:  9.8min\n",
      "[Parallel(n_jobs=-1)]: Done  65 out of  72 | elapsed: 12.2min remaining:  1.3min\n",
      "[Parallel(n_jobs=-1)]: Done  72 out of  72 | elapsed: 15.0min finished\n"
     ]
    },
    {
     "name": "stdout",
     "output_type": "stream",
     "text": [
      "0.9474550899114081\n"
     ]
    }
   ],
   "source": [
    "forest_scores = cross_val_score(gs_rf, X_emtrain,Y_emtrain, cv = time_splitter_outer, scoring = 'roc_auc').mean()\n",
    "print(forest_scores)"
   ]
  },
  {
   "cell_type": "code",
   "execution_count": 43,
   "metadata": {},
   "outputs": [],
   "source": [
    "# Best values of the hyperparameters\n",
    "max_depth_best = gs_rf.best_estimator_.max_depth\n",
    "n_estimators_best = gs_rf.best_estimator_.n_estimators"
   ]
  },
  {
   "cell_type": "code",
   "execution_count": 44,
   "metadata": {},
   "outputs": [
    {
     "data": {
      "text/plain": [
       "RandomForestClassifier(max_depth=13, n_estimators=900)"
      ]
     },
     "execution_count": 44,
     "metadata": {},
     "output_type": "execute_result"
    }
   ],
   "source": [
    "rfc = RandomForestClassifier(max_depth = max_depth_best, n_estimators = n_estimators_best)\n",
    "rfc.fit(X_emtrain,Y_emtrain)"
   ]
  },
  {
   "cell_type": "code",
   "execution_count": 45,
   "metadata": {},
   "outputs": [
    {
     "name": "stdout",
     "output_type": "stream",
     "text": [
      "train auc: 0.9629196093183278\n",
      "test auc: 0.8458525640797708\n"
     ]
    }
   ],
   "source": [
    "#auc score after parameter tuning \n",
    "y_trainpredrffilter=rfc.predict_proba(X_emtrain)\n",
    "y_testpredrffilter =rfc.predict_proba(X_emtest)\n",
    "print('train auc:',roc_auc_score(Y_emtrain,y_trainpredrffilter[:,1]))\n",
    "print('test auc:',roc_auc_score(Y_emtest,y_testpredrffilter[:,1]))"
   ]
  },
  {
   "cell_type": "code",
   "execution_count": 46,
   "metadata": {},
   "outputs": [
    {
     "data": {
      "image/png": "[encoded data removed]",
      "text/plain": [
       "<Figure size 576x432 with 1 Axes>"
      ]
     },
     "metadata": {
      "needs_background": "light"
     },
     "output_type": "display_data"
    }
   ],
   "source": [
    "plt.figure(figsize=(8,6))\n",
    "# auc of train\n",
    "fpr, tpr, thresh = roc_curve(Y_emtrain,y_trainpredrffilter[:,1])\n",
    "auc = roc_auc_score(Y_emtrain, y_trainpredrffilter[:,1])\n",
    "plt.plot(fpr,tpr,label=\"train, auc=\"+str(round(auc,4)))\n",
    "# auc of test\n",
    "fpr, tpr, thresh = roc_curve(Y_emtest,  y_testpredrffilter[:,1])\n",
    "auc = roc_auc_score(Y_emtest,  y_testpredrffilter [:,1])\n",
    "plt.plot(fpr,tpr,label=\"test, auc=\"+str(round(auc,4)))\n",
    "plt.plot([0, 1], [0, 1], 'k--')\n",
    "plt.legend(loc=0)\n",
    "plt.xlabel('False Positive Rate')\n",
    "plt.ylabel('True Positive Rate')\n",
    "plt.title('Tuned SGD- Receiver operating characteristic')\n",
    "plt.show()"
   ]
  },
  {
   "cell_type": "code",
   "execution_count": 47,
   "metadata": {},
   "outputs": [],
   "source": [
    "y_trainpred_=rfc.predict(X_emtrain)\n",
    "y_testpred_ = rfc.predict(X_emtest)"
   ]
  },
  {
   "cell_type": "code",
   "execution_count": 48,
   "metadata": {},
   "outputs": [
    {
     "name": "stdout",
     "output_type": "stream",
     "text": [
      "Accuracy:\n",
      " 0.9343736241406171\n",
      "Recall:\n",
      " 0.5022145669291339\n"
     ]
    }
   ],
   "source": [
    "print(\"Accuracy:\\n\",metrics.accuracy_score(Y_emtest,y_testpred_))\n",
    "print(\"Recall:\\n\",metrics.recall_score(Y_emtest,y_testpred_))"
   ]
  },
  {
   "cell_type": "code",
   "execution_count": 49,
   "metadata": {},
   "outputs": [],
   "source": [
    "#confusion matrix\n",
    "cm_train = confusion_matrix(Y_emtrain,y_trainpred_)\n",
    "cm_test  =confusion_matrix(Y_emtest,y_testpred_)"
   ]
  },
  {
   "cell_type": "code",
   "execution_count": 50,
   "metadata": {},
   "outputs": [
    {
     "data": {
      "text/plain": [
       "Text(0.5, 1.0, 'test')"
      ]
     },
     "execution_count": 50,
     "metadata": {},
     "output_type": "execute_result"
    },
    {
     "data": {
      "image/png": "[encoded data removed]",
      "text/plain": [
       "<Figure size 864x360 with 4 Axes>"
      ]
     },
     "metadata": {
      "needs_background": "light"
     },
     "output_type": "display_data"
    }
   ],
   "source": [
    "plt.figure(figsize=(12,5))\n",
    "plt.subplot(1,2,1)\n",
    "sns.heatmap(cm_train,annot=True,fmt='.2f')\n",
    "plt.title('Train')\n",
    "plt.subplot(1,2,2)\n",
    "sns.heatmap(cm_test,annot=True,fmt='.2f')\n",
    "plt.title('test')"
   ]
  },
  {
   "cell_type": "code",
   "execution_count": 51,
   "metadata": {},
   "outputs": [
    {
     "data": {
      "text/plain": [
       "0.33234811333976916"
      ]
     },
     "execution_count": 51,
     "metadata": {},
     "output_type": "execute_result"
    }
   ],
   "source": [
    "#matthews correlation coefficient\n",
    "from sklearn.metrics import matthews_corrcoef\n",
    "matthews_corrcoef(Y_emtrain, y_trainpred_)\n",
    "matthews_corrcoef(Y_emtest, y_testpred_)"
   ]
  },
  {
   "cell_type": "code",
   "execution_count": null,
   "metadata": {},
   "outputs": [],
   "source": []
  }
 ],
 "metadata": {
  "kernelspec": {
   "display_name": "Python 3",
   "language": "python",
   "name": "python3"
  },
  "language_info": {
   "codemirror_mode": {
    "name": "ipython",
    "version": 3
   },
   "file_extension": ".py",
   "mimetype": "text/x-python",
   "name": "python",
   "nbconvert_exporter": "python",
   "pygments_lexer": "ipython3",
   "version": "3.7.7"
  }
 },
 "nbformat": 4,
 "nbformat_minor": 4
}
