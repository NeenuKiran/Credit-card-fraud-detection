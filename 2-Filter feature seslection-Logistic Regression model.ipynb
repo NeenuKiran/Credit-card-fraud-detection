{
 "cells": [
  {
   "cell_type": "code",
   "execution_count": 1,
   "metadata": {},
   "outputs": [],
   "source": [
    "import pandas as pd\n",
    "import numpy as np\n",
    "\n",
    "import seaborn as sns\n",
    "import matplotlib.pyplot as plt\n",
    "%matplotlib inline\n",
    "\n",
    "from sklearn.feature_selection import VarianceThreshold,mutual_info_classif,SelectKBest,SelectFromModel\n",
    "\n",
    "from sklearn.linear_model import SGDClassifier\n",
    "\n",
    "from sklearn.model_selection import  GridSearchCV,cross_val_score,TimeSeriesSplit,cross_validate\n",
    "from sklearn.pipeline import Pipeline\n",
    "from imblearn.pipeline import make_pipeline\n",
    "from sklearn import tree\n",
    "from sklearn.metrics import confusion_matrix, recall_score, precision_score, roc_auc_score,roc_curve, auc,matthews_corrcoef,f1_score,brier_score_loss,make_scorer, metrics"
   ]
  },
  {
   "cell_type": "code",
   "execution_count": 2,
   "metadata": {},
   "outputs": [],
   "source": [
    "#reading csv files\n",
    "X_train=pd.read_csv('X_train_F.csv')\n",
    "Y_train=pd.read_csv('Y_train_F.csv')\n",
    "X_test=pd.read_csv('X_test_F.csv')\n",
    "Y_test=pd.read_csv('Y_test_F.csv')"
   ]
  },
  {
   "cell_type": "code",
   "execution_count": 3,
   "metadata": {},
   "outputs": [],
   "source": [
    "X_Data=pd.read_csv('X_Data.csv')\n",
    "Y_Data=pd.read_csv('Y_Data.csv')"
   ]
  },
  {
   "cell_type": "code",
   "execution_count": 4,
   "metadata": {},
   "outputs": [],
   "source": [
    "X_train= X_train[:70000]\n",
    "Y_train=Y_train[:70000]"
   ]
  },
  {
   "cell_type": "code",
   "execution_count": 4,
   "metadata": {},
   "outputs": [],
   "source": [
    "#SDG Classifier"
   ]
  },
  {
   "cell_type": "code",
   "execution_count": 5,
   "metadata": {},
   "outputs": [],
   "source": [
    "from sklearn.preprocessing import StandardScaler"
   ]
  },
  {
   "cell_type": "code",
   "execution_count": 6,
   "metadata": {},
   "outputs": [],
   "source": [
    "#lets try with first default value\n",
    "clf = SGDClassifier(loss=\"log\",class_weight=\"balanced\")\n",
    "feature_selector = SelectKBest(mutual_info_classif, k=15)\n",
    "pipeline_SD = Pipeline([('feature_sele',feature_selector),('clf',clf)])\n"
   ]
  },
  {
   "cell_type": "code",
   "execution_count": 7,
   "metadata": {},
   "outputs": [],
   "source": [
    "pipeline_SD.fit(X_train,Y_train.values.ravel())\n",
    "y_trainpredprobem=pipeline_SD.predict_proba(X_train)\n",
    "y_testpredprobem =pipeline_SD.predict_proba(X_test)"
   ]
  },
  {
   "cell_type": "code",
   "execution_count": 8,
   "metadata": {},
   "outputs": [
    {
     "name": "stdout",
     "output_type": "stream",
     "text": [
      "auc of train with default parameter: 0.6684462360295172\n",
      "auc of test with  default parameter: 0.6973641785968249\n"
     ]
    }
   ],
   "source": [
    "#auc score with default values\n",
    "print('auc of train with default parameter:',roc_auc_score(Y_train,y_trainpredprobem[:,1]))\n",
    "print('auc of test with  default parameter:',roc_auc_score(Y_test,y_testpredprobem[:,1]))"
   ]
  },
  {
   "cell_type": "code",
   "execution_count": 9,
   "metadata": {},
   "outputs": [
    {
     "name": "stdout",
     "output_type": "stream",
     "text": [
      "brier_score_loss: 0.19461369670764764\n"
     ]
    }
   ],
   "source": [
    "print('brier_score_loss:',brier_score_loss(Y_test,y_testpredprobem[:,1]))"
   ]
  },
  {
   "cell_type": "code",
   "execution_count": 10,
   "metadata": {},
   "outputs": [
    {
     "name": "stdout",
     "output_type": "stream",
     "text": [
      "Recall:\n",
      " 0.5459216441875402\n",
      "matthews_corrcoef:\n",
      " 0.16712475030808316\n"
     ]
    }
   ],
   "source": [
    "y_testpred_ =pipeline_SD.predict(X_test)\n",
    "print(\"Recall:\\n\",metrics.recall_score(Y_test,y_testpred_))\n",
    "print(\"matthews_corrcoef:\\n\",matthews_corrcoef(Y_test, y_testpred_))"
   ]
  },
  {
   "cell_type": "code",
   "execution_count": 13,
   "metadata": {},
   "outputs": [],
   "source": [
    "##GridsearchCV and feature selection with nested cv \n",
    "\n",
    "time_splitter_outer = TimeSeriesSplit(n_splits = 10)\n",
    "time_splitter_inner = TimeSeriesSplit(n_splits = 5)\n",
    "\n",
    "model = SGDClassifier(loss=\"log\",class_weight=\"balanced\")\n",
    "params = {\n",
    "         'alpha':[10**-6,10**-5,10**-4,10**-3,10**-2,10**-1,10**0,10**1,10**2,10**3],#learning rate\n",
    "         'penalty':['l1','l2']\n",
    "         }\n",
    "feature_selector = SelectKBest(mutual_info_classif, k=25)\n",
    "\n",
    "gs_SD = GridSearchCV(model, param_grid = params, cv = time_splitter_inner, scoring = 'roc_auc',verbose=10, n_jobs=-1)\n",
    "\n",
    "pipelineSD  = Pipeline([('feature_sele',feature_selector),\n",
    "                      ('clf_cv',gs_SD)])"
   ]
  },
  {
   "cell_type": "code",
   "execution_count": 15,
   "metadata": {},
   "outputs": [
    {
     "name": "stdout",
     "output_type": "stream",
     "text": [
      "Fitting 5 folds for each of 20 candidates, totalling 100 fits\n"
     ]
    },
    {
     "name": "stderr",
     "output_type": "stream",
     "text": [
      "[Parallel(n_jobs=-1)]: Using backend LokyBackend with 8 concurrent workers.\n",
      "[Parallel(n_jobs=-1)]: Done   2 tasks      | elapsed:    1.8s\n",
      "[Parallel(n_jobs=-1)]: Done   9 tasks      | elapsed:    3.4s\n",
      "[Parallel(n_jobs=-1)]: Done  16 tasks      | elapsed:    4.4s\n",
      "[Parallel(n_jobs=-1)]: Done  25 tasks      | elapsed:    6.5s\n",
      "[Parallel(n_jobs=-1)]: Done  34 tasks      | elapsed:    8.2s\n",
      "[Parallel(n_jobs=-1)]: Done  45 tasks      | elapsed:   11.4s\n",
      "[Parallel(n_jobs=-1)]: Done  56 tasks      | elapsed:   15.4s\n",
      "[Parallel(n_jobs=-1)]: Done  69 tasks      | elapsed:   19.5s\n",
      "[Parallel(n_jobs=-1)]: Done  82 tasks      | elapsed:   25.8s\n",
      "[Parallel(n_jobs=-1)]: Done  96 out of 100 | elapsed:   34.7s remaining:    1.4s\n",
      "[Parallel(n_jobs=-1)]: Done 100 out of 100 | elapsed:   42.1s finished\n"
     ]
    },
    {
     "data": {
      "text/plain": [
       "Pipeline(steps=[('feature_sele',\n",
       "                 SelectKBest(k=25,\n",
       "                             score_func=<function mutual_info_classif at 0x7fb62f408e60>)),\n",
       "                ('clf_cv',\n",
       "                 GridSearchCV(cv=TimeSeriesSplit(max_train_size=None, n_splits=5),\n",
       "                              estimator=SGDClassifier(class_weight='balanced',\n",
       "                                                      loss='log'),\n",
       "                              n_jobs=-1,\n",
       "                              param_grid={'alpha': [1e-06, 1e-05, 0.0001, 0.001,\n",
       "                                                    0.01, 0.1, 1, 10, 100,\n",
       "                                                    1000],\n",
       "                                          'penalty': ['l1', 'l2']},\n",
       "                              scoring='roc_auc', verbose=10))])"
      ]
     },
     "execution_count": 15,
     "metadata": {},
     "output_type": "execute_result"
    }
   ],
   "source": [
    "pipelineSD.fit(X_Data,Y_Data.values.ravel())"
   ]
  },
  {
   "cell_type": "code",
   "execution_count": 18,
   "metadata": {},
   "outputs": [
    {
     "name": "stdout",
     "output_type": "stream",
     "text": [
      "Fitting 5 folds for each of 20 candidates, totalling 100 fits\n"
     ]
    },
    {
     "name": "stderr",
     "output_type": "stream",
     "text": [
      "[Parallel(n_jobs=-1)]: Using backend LokyBackend with 8 concurrent workers.\n",
      "[Parallel(n_jobs=-1)]: Batch computation too fast (0.0253s.) Setting batch_size=2.\n",
      "[Parallel(n_jobs=-1)]: Done   2 tasks      | elapsed:    0.0s\n",
      "[Parallel(n_jobs=-1)]: Done   9 tasks      | elapsed:    0.1s\n",
      "[Parallel(n_jobs=-1)]: Batch computation too fast (0.1149s.) Setting batch_size=4.\n",
      "[Parallel(n_jobs=-1)]: Done  18 tasks      | elapsed:    0.2s\n",
      "[Parallel(n_jobs=-1)]: Done  34 tasks      | elapsed:    0.3s\n",
      "[Parallel(n_jobs=-1)]: Done  56 tasks      | elapsed:    0.5s\n",
      "[Parallel(n_jobs=-1)]: Done  79 tasks      | elapsed:    0.8s\n",
      "[Parallel(n_jobs=-1)]: Done  85 out of 100 | elapsed:    1.1s remaining:    0.2s\n",
      "[Parallel(n_jobs=-1)]: Done  96 out of 100 | elapsed:    1.4s remaining:    0.1s\n",
      "[Parallel(n_jobs=-1)]: Done 100 out of 100 | elapsed:    1.9s finished\n"
     ]
    },
    {
     "name": "stdout",
     "output_type": "stream",
     "text": [
      "Fitting 5 folds for each of 20 candidates, totalling 100 fits\n"
     ]
    },
    {
     "name": "stderr",
     "output_type": "stream",
     "text": [
      "[Parallel(n_jobs=-1)]: Using backend LokyBackend with 8 concurrent workers.\n",
      "[Parallel(n_jobs=-1)]: Batch computation too fast (0.0568s.) Setting batch_size=2.\n",
      "[Parallel(n_jobs=-1)]: Done   2 tasks      | elapsed:    0.1s\n",
      "[Parallel(n_jobs=-1)]: Done   9 tasks      | elapsed:    0.2s\n",
      "[Parallel(n_jobs=-1)]: Done  17 tasks      | elapsed:    0.4s\n",
      "[Parallel(n_jobs=-1)]: Done  34 tasks      | elapsed:    0.7s\n",
      "[Parallel(n_jobs=-1)]: Done  52 tasks      | elapsed:    1.0s\n",
      "[Parallel(n_jobs=-1)]: Done  74 tasks      | elapsed:    1.9s\n",
      "[Parallel(n_jobs=-1)]: Done  85 out of 100 | elapsed:    3.3s remaining:    0.6s\n",
      "[Parallel(n_jobs=-1)]: Done  96 out of 100 | elapsed:    4.8s remaining:    0.2s\n",
      "[Parallel(n_jobs=-1)]: Done 100 out of 100 | elapsed:    5.3s finished\n"
     ]
    },
    {
     "name": "stdout",
     "output_type": "stream",
     "text": [
      "Fitting 5 folds for each of 20 candidates, totalling 100 fits\n"
     ]
    },
    {
     "name": "stderr",
     "output_type": "stream",
     "text": [
      "[Parallel(n_jobs=-1)]: Using backend LokyBackend with 8 concurrent workers.\n",
      "[Parallel(n_jobs=-1)]: Batch computation too fast (0.0742s.) Setting batch_size=2.\n",
      "[Parallel(n_jobs=-1)]: Done   2 tasks      | elapsed:    0.1s\n",
      "[Parallel(n_jobs=-1)]: Done   9 tasks      | elapsed:    0.4s\n",
      "[Parallel(n_jobs=-1)]: Done  17 tasks      | elapsed:    0.7s\n",
      "[Parallel(n_jobs=-1)]: Done  34 tasks      | elapsed:    1.2s\n",
      "[Parallel(n_jobs=-1)]: Done  52 tasks      | elapsed:    1.8s\n",
      "[Parallel(n_jobs=-1)]: Done  74 tasks      | elapsed:    2.7s\n",
      "[Parallel(n_jobs=-1)]: Done  96 out of 100 | elapsed:    6.3s remaining:    0.3s\n",
      "[Parallel(n_jobs=-1)]: Done 100 out of 100 | elapsed:    7.3s finished\n"
     ]
    },
    {
     "name": "stdout",
     "output_type": "stream",
     "text": [
      "Fitting 5 folds for each of 20 candidates, totalling 100 fits\n"
     ]
    },
    {
     "name": "stderr",
     "output_type": "stream",
     "text": [
      "[Parallel(n_jobs=-1)]: Using backend LokyBackend with 8 concurrent workers.\n",
      "[Parallel(n_jobs=-1)]: Batch computation too fast (0.0941s.) Setting batch_size=2.\n",
      "[Parallel(n_jobs=-1)]: Done   2 tasks      | elapsed:    0.1s\n",
      "[Parallel(n_jobs=-1)]: Done   9 tasks      | elapsed:    0.5s\n",
      "[Parallel(n_jobs=-1)]: Done  18 tasks      | elapsed:    1.0s\n",
      "[Parallel(n_jobs=-1)]: Done  34 tasks      | elapsed:    1.9s\n",
      "[Parallel(n_jobs=-1)]: Done  52 tasks      | elapsed:    2.7s\n",
      "[Parallel(n_jobs=-1)]: Done  74 tasks      | elapsed:    3.8s\n",
      "[Parallel(n_jobs=-1)]: Done  85 out of 100 | elapsed:    6.1s remaining:    1.1s\n",
      "[Parallel(n_jobs=-1)]: Done  96 out of 100 | elapsed:    9.7s remaining:    0.4s\n",
      "[Parallel(n_jobs=-1)]: Done 100 out of 100 | elapsed:   11.5s finished\n"
     ]
    },
    {
     "name": "stdout",
     "output_type": "stream",
     "text": [
      "Fitting 5 folds for each of 20 candidates, totalling 100 fits\n"
     ]
    },
    {
     "name": "stderr",
     "output_type": "stream",
     "text": [
      "[Parallel(n_jobs=-1)]: Using backend LokyBackend with 8 concurrent workers.\n",
      "[Parallel(n_jobs=-1)]: Batch computation too fast (0.1232s.) Setting batch_size=2.\n",
      "[Parallel(n_jobs=-1)]: Done   2 tasks      | elapsed:    0.1s\n",
      "[Parallel(n_jobs=-1)]: Done   9 tasks      | elapsed:    0.7s\n",
      "[Parallel(n_jobs=-1)]: Done  17 tasks      | elapsed:    1.2s\n",
      "[Parallel(n_jobs=-1)]: Done  34 tasks      | elapsed:    2.2s\n",
      "[Parallel(n_jobs=-1)]: Done  52 tasks      | elapsed:    3.7s\n",
      "[Parallel(n_jobs=-1)]: Batch computation too slow (2.0432s.) Setting batch_size=1.\n",
      "[Parallel(n_jobs=-1)]: Done  74 tasks      | elapsed:    6.1s\n",
      "[Parallel(n_jobs=-1)]: Done  85 out of 100 | elapsed:   10.4s remaining:    1.8s\n",
      "[Parallel(n_jobs=-1)]: Done  96 out of 100 | elapsed:   13.4s remaining:    0.6s\n",
      "[Parallel(n_jobs=-1)]: Done 100 out of 100 | elapsed:   16.2s finished\n"
     ]
    },
    {
     "name": "stdout",
     "output_type": "stream",
     "text": [
      "Fitting 5 folds for each of 20 candidates, totalling 100 fits\n"
     ]
    },
    {
     "name": "stderr",
     "output_type": "stream",
     "text": [
      "[Parallel(n_jobs=-1)]: Using backend LokyBackend with 8 concurrent workers.\n",
      "[Parallel(n_jobs=-1)]: Batch computation too fast (0.1806s.) Setting batch_size=2.\n",
      "[Parallel(n_jobs=-1)]: Done   2 tasks      | elapsed:    0.2s\n",
      "[Parallel(n_jobs=-1)]: Done   9 tasks      | elapsed:    1.0s\n",
      "[Parallel(n_jobs=-1)]: Done  18 tasks      | elapsed:    1.9s\n",
      "[Parallel(n_jobs=-1)]: Done  34 tasks      | elapsed:    3.3s\n",
      "[Parallel(n_jobs=-1)]: Batch computation too slow (2.1520s.) Setting batch_size=1.\n",
      "[Parallel(n_jobs=-1)]: Done  52 tasks      | elapsed:    5.0s\n",
      "[Parallel(n_jobs=-1)]: Done  73 tasks      | elapsed:    9.4s\n",
      "[Parallel(n_jobs=-1)]: Done  85 out of 100 | elapsed:   15.0s remaining:    2.6s\n",
      "[Parallel(n_jobs=-1)]: Done  96 out of 100 | elapsed:   17.6s remaining:    0.7s\n",
      "[Parallel(n_jobs=-1)]: Done 100 out of 100 | elapsed:   20.7s finished\n"
     ]
    },
    {
     "name": "stdout",
     "output_type": "stream",
     "text": [
      "Fitting 5 folds for each of 20 candidates, totalling 100 fits\n"
     ]
    },
    {
     "name": "stderr",
     "output_type": "stream",
     "text": [
      "[Parallel(n_jobs=-1)]: Using backend LokyBackend with 8 concurrent workers.\n",
      "[Parallel(n_jobs=-1)]: Batch computation too fast (0.1661s.) Setting batch_size=2.\n",
      "[Parallel(n_jobs=-1)]: Done   2 tasks      | elapsed:    0.2s\n",
      "[Parallel(n_jobs=-1)]: Done   9 tasks      | elapsed:    0.8s\n",
      "[Parallel(n_jobs=-1)]: Done  18 tasks      | elapsed:    2.1s\n",
      "[Parallel(n_jobs=-1)]: Batch computation too slow (2.0501s.) Setting batch_size=1.\n",
      "[Parallel(n_jobs=-1)]: Done  34 tasks      | elapsed:    4.1s\n",
      "[Parallel(n_jobs=-1)]: Done  52 tasks      | elapsed:    6.3s\n",
      "[Parallel(n_jobs=-1)]: Done  67 tasks      | elapsed:    7.8s\n",
      "[Parallel(n_jobs=-1)]: Done  79 tasks      | elapsed:   10.6s\n",
      "[Parallel(n_jobs=-1)]: Done  85 out of 100 | elapsed:   13.3s remaining:    2.3s\n",
      "[Parallel(n_jobs=-1)]: Done  96 out of 100 | elapsed:   17.1s remaining:    0.7s\n",
      "[Parallel(n_jobs=-1)]: Done 100 out of 100 | elapsed:   22.9s finished\n"
     ]
    },
    {
     "name": "stdout",
     "output_type": "stream",
     "text": [
      "Fitting 5 folds for each of 20 candidates, totalling 100 fits\n"
     ]
    },
    {
     "name": "stderr",
     "output_type": "stream",
     "text": [
      "[Parallel(n_jobs=-1)]: Using backend LokyBackend with 8 concurrent workers.\n",
      "[Parallel(n_jobs=-1)]: Batch computation too fast (0.1844s.) Setting batch_size=2.\n",
      "[Parallel(n_jobs=-1)]: Done   2 tasks      | elapsed:    0.2s\n",
      "[Parallel(n_jobs=-1)]: Done   9 tasks      | elapsed:    1.1s\n",
      "[Parallel(n_jobs=-1)]: Done  17 tasks      | elapsed:    2.4s\n",
      "[Parallel(n_jobs=-1)]: Batch computation too slow (2.1834s.) Setting batch_size=1.\n",
      "[Parallel(n_jobs=-1)]: Done  34 tasks      | elapsed:    4.7s\n",
      "[Parallel(n_jobs=-1)]: Done  52 tasks      | elapsed:    7.2s\n",
      "[Parallel(n_jobs=-1)]: Done  67 tasks      | elapsed:    9.1s\n",
      "[Parallel(n_jobs=-1)]: Done  79 tasks      | elapsed:   10.6s\n",
      "[Parallel(n_jobs=-1)]: Done  96 out of 100 | elapsed:   17.9s remaining:    0.7s\n",
      "[Parallel(n_jobs=-1)]: Done 100 out of 100 | elapsed:   24.7s finished\n"
     ]
    },
    {
     "name": "stdout",
     "output_type": "stream",
     "text": [
      "Fitting 5 folds for each of 20 candidates, totalling 100 fits\n"
     ]
    },
    {
     "name": "stderr",
     "output_type": "stream",
     "text": [
      "[Parallel(n_jobs=-1)]: Using backend LokyBackend with 8 concurrent workers.\n",
      "[Parallel(n_jobs=-1)]: Done   2 tasks      | elapsed:    0.4s\n",
      "[Parallel(n_jobs=-1)]: Done   9 tasks      | elapsed:    1.3s\n",
      "[Parallel(n_jobs=-1)]: Done  16 tasks      | elapsed:    2.4s\n",
      "[Parallel(n_jobs=-1)]: Done  25 tasks      | elapsed:    3.7s\n",
      "[Parallel(n_jobs=-1)]: Done  34 tasks      | elapsed:    5.2s\n",
      "[Parallel(n_jobs=-1)]: Done  45 tasks      | elapsed:    6.7s\n",
      "[Parallel(n_jobs=-1)]: Done  56 tasks      | elapsed:    8.3s\n",
      "[Parallel(n_jobs=-1)]: Done  69 tasks      | elapsed:   10.1s\n",
      "[Parallel(n_jobs=-1)]: Done  82 tasks      | elapsed:   12.4s\n",
      "[Parallel(n_jobs=-1)]: Done  96 out of 100 | elapsed:   19.2s remaining:    0.8s\n",
      "[Parallel(n_jobs=-1)]: Done 100 out of 100 | elapsed:   27.0s finished\n"
     ]
    },
    {
     "name": "stdout",
     "output_type": "stream",
     "text": [
      "Fitting 5 folds for each of 20 candidates, totalling 100 fits\n"
     ]
    },
    {
     "name": "stderr",
     "output_type": "stream",
     "text": [
      "[Parallel(n_jobs=-1)]: Using backend LokyBackend with 8 concurrent workers.\n",
      "[Parallel(n_jobs=-1)]: Done   2 tasks      | elapsed:    0.3s\n",
      "[Parallel(n_jobs=-1)]: Done   9 tasks      | elapsed:    2.0s\n",
      "[Parallel(n_jobs=-1)]: Done  16 tasks      | elapsed:    3.0s\n",
      "[Parallel(n_jobs=-1)]: Done  25 tasks      | elapsed:    4.6s\n",
      "[Parallel(n_jobs=-1)]: Done  34 tasks      | elapsed:    5.7s\n",
      "[Parallel(n_jobs=-1)]: Done  45 tasks      | elapsed:    7.3s\n",
      "[Parallel(n_jobs=-1)]: Done  56 tasks      | elapsed:    9.8s\n",
      "[Parallel(n_jobs=-1)]: Done  69 tasks      | elapsed:   12.4s\n",
      "[Parallel(n_jobs=-1)]: Done  82 tasks      | elapsed:   15.1s\n",
      "[Parallel(n_jobs=-1)]: Done  96 out of 100 | elapsed:   20.7s remaining:    0.9s\n",
      "[Parallel(n_jobs=-1)]: Done 100 out of 100 | elapsed:   27.9s finished\n"
     ]
    }
   ],
   "source": [
    "custom_scorer = {\n",
    "                 'recall': make_scorer(recall_score),\n",
    "                 'Brier': make_scorer(brier_score_loss),\n",
    "                 'Matthewscorrcoef': make_scorer(matthews_corrcoef),\n",
    "                 'ROC_AUC': make_scorer(roc_auc_score)\n",
    "                 }\n",
    "SD_scores = cross_validate(pipelineSD,X_Data,Y_Data.values.ravel(),cv = time_splitter_outer, scoring = custom_scorer)"
   ]
  },
  {
   "cell_type": "code",
   "execution_count": 19,
   "metadata": {},
   "outputs": [
    {
     "data": {
      "text/plain": [
       "['fit_time',\n",
       " 'score_time',\n",
       " 'test_Brier',\n",
       " 'test_Matthewscorrcoef',\n",
       " 'test_ROC_AUC',\n",
       " 'test_recall']"
      ]
     },
     "execution_count": 19,
     "metadata": {},
     "output_type": "execute_result"
    }
   ],
   "source": [
    "sorted(SD_scores.keys())"
   ]
  },
  {
   "cell_type": "code",
   "execution_count": 20,
   "metadata": {},
   "outputs": [],
   "source": [
    "SD_time=SD_scores['fit_time']\n",
    "SD_recall = SD_scores['test_recall']\n",
    "SD_Brier = SD_scores['test_Brier']\n",
    "SD_Matthewscorrcoef = SD_scores['test_Matthewscorrcoef']\n",
    "SD_ROC_AUC = SD_scores['test_ROC_AUC']"
   ]
  },
  {
   "cell_type": "code",
   "execution_count": 21,
   "metadata": {},
   "outputs": [
    {
     "name": "stdout",
     "output_type": "stream",
     "text": [
      "=== All recall Scores ===\n",
      "[0.97727273 0.98165138 0.55793991 0.84577114 0.80952381 0.98540146\n",
      " 0.59555556 0.41791045 0.60633484 0.45882353]\n",
      "=== All Brier Scores ===\n",
      "[0.95159516 0.93963146 0.16240374 0.74051155 0.7169967  0.90676568\n",
      " 0.59254675 0.20860836 0.33594609 0.19526953]\n",
      "=== All Matthewscorrcoef Scores ===\n",
      "[-0.0040852   0.01322909  0.19153738  0.03398951  0.02822724  0.0317585\n",
      " -0.00105864  0.0719867   0.09846949  0.10400514]\n",
      "=== All ROC_AUC  Scores ===\n",
      "[0.49834992 0.50677409 0.70239658 0.54429697 0.53923882 0.53075259\n",
      " 0.49850149 0.60815668 0.63609892 0.63591697]\n",
      "=== All fit_time ===\n",
      "[ 15.72785592  35.12854195  54.58489609  77.60266709 104.52630901\n",
      " 127.64568996 152.58510804 176.49382901 199.62624383 221.15017796]\n"
     ]
    }
   ],
   "source": [
    "print(\"=== All recall Scores ===\")\n",
    "print(SD_recall)\n",
    "print(\"=== All Brier Scores ===\")\n",
    "print(SD_Brier)\n",
    "print(\"=== All Matthewscorrcoef Scores ===\")\n",
    "print(SD_Matthewscorrcoef)\n",
    "print(\"=== All ROC_AUC  Scores ===\")\n",
    "print(SD_ROC_AUC )\n",
    "print(\"=== All fit_time ===\")\n",
    "print(SD_time )"
   ]
  },
  {
   "cell_type": "code",
   "execution_count": 22,
   "metadata": {},
   "outputs": [
    {
     "name": "stdout",
     "output_type": "stream",
     "text": [
      "=== Mean recall Score ===\n",
      "0.7236184805596511\n",
      "=== Mean Brier Score ===\n",
      "0.575027502750275\n",
      "=== Mean Matthewscorrcoef  Score ===\n",
      "0.056805921152688545\n",
      "=== Mean ROC_AUC  Scores ===\n",
      "0.5700483030769107\n",
      "=== Mean fit_time===\n",
      "116.50713188648224\n"
     ]
    }
   ],
   "source": [
    "print(\"=== Mean recall Score ===\")\n",
    "print( SD_recall.mean())\n",
    "print(\"=== Mean Brier Score ===\")\n",
    "print( SD_Brier.mean())\n",
    "print(\"=== Mean Matthewscorrcoef  Score ===\")\n",
    "print( SD_Matthewscorrcoef .mean())\n",
    "print(\"=== Mean ROC_AUC  Scores ===\")\n",
    "print(SD_ROC_AUC .mean())\n",
    "print(\"=== Mean fit_time===\")\n",
    "print(SD_time .mean())"
   ]
  },
  {
   "cell_type": "code",
   "execution_count": 23,
   "metadata": {},
   "outputs": [
    {
     "name": "stdout",
     "output_type": "stream",
     "text": [
      "=== Minimum recall Score ===\n",
      "0.417910447761194\n",
      "=== Minimum Brier Score ===\n",
      "0.1624037403740374\n",
      "=== Minimum Matthewscorrcoef  Score ===\n",
      "-0.004085201960300118\n",
      "=== Minimum ROC_AUC  Score ===\n",
      "0.4983499200742536\n",
      "=== Minimum RF_time  ===\n",
      "15.727855920791626\n"
     ]
    }
   ],
   "source": [
    "print(\"=== Minimum recall Score ===\")\n",
    "print( SD_recall.min())\n",
    "print(\"=== Minimum Brier Score ===\")\n",
    "print(  SD_Brier.min())\n",
    "print(\"=== Minimum Matthewscorrcoef  Score ===\")\n",
    "print(  SD_Matthewscorrcoef.min())\n",
    "print(\"=== Minimum ROC_AUC  Score ===\")\n",
    "print(  SD_ROC_AUC.min())\n",
    "print(\"=== Minimum RF_time  ===\")\n",
    "print(  SD_time.min())"
   ]
  },
  {
   "cell_type": "code",
   "execution_count": 24,
   "metadata": {},
   "outputs": [
    {
     "name": "stdout",
     "output_type": "stream",
     "text": [
      "=== Maximum recall Score ===\n",
      "0.9854014598540146\n",
      "=== Minimum Brier Score ===\n",
      "0.1624037403740374\n",
      "=== Maximum Matthewscorrcoef  Score ===\n",
      "0.19153738129807613\n",
      "=== Maximum ROC_AUC  Scores ===\n",
      "0.7023965801814172\n",
      "=== Maximum fit_time ===\n",
      "221.15017795562744\n"
     ]
    }
   ],
   "source": [
    "print(\"=== Maximum recall Score ===\")\n",
    "print( SD_recall.max())\n",
    "print(\"=== Minimum Brier Score ===\")\n",
    "print( SD_Brier.min())\n",
    "print(\"=== Maximum Matthewscorrcoef  Score ===\")\n",
    "print( SD_Matthewscorrcoef .max())\n",
    "print(\"=== Maximum ROC_AUC  Scores ===\")\n",
    "print(SD_ROC_AUC .max())\n",
    "print(\"=== Maximum fit_time ===\")\n",
    "print(SD_time .max())"
   ]
  },
  {
   "cell_type": "code",
   "execution_count": null,
   "metadata": {},
   "outputs": [],
   "source": []
  }
 ],
 "metadata": {
  "kernelspec": {
   "display_name": "Python 3",
   "language": "python",
   "name": "python3"
  },
  "language_info": {
   "codemirror_mode": {
    "name": "ipython",
    "version": 3
   },
   "file_extension": ".py",
   "mimetype": "text/x-python",
   "name": "python",
   "nbconvert_exporter": "python",
   "pygments_lexer": "ipython3",
   "version": "3.7.7"
  }
 },
 "nbformat": 4,
 "nbformat_minor": 4
}
