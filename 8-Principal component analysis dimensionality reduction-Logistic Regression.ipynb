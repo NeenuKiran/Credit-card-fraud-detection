{
 "cells": [
  {
   "cell_type": "code",
   "execution_count": 1,
   "metadata": {},
   "outputs": [],
   "source": [
    "import pandas as pd\n",
    "import numpy as np\n",
    "\n",
    "import seaborn as sns\n",
    "import matplotlib.pyplot as plt\n",
    "%matplotlib inline\n",
    "\n",
    "from sklearn.feature_selection import VarianceThreshold,mutual_info_classif,SelectKBest,SelectFromModel\n",
    "\n",
    "from sklearn.linear_model import SGDClassifier\n",
    "\n",
    "from sklearn.model_selection import  GridSearchCV,cross_val_score,TimeSeriesSplit,cross_validate\n",
    "from sklearn.pipeline import Pipeline\n",
    "from imblearn.pipeline import make_pipeline\n",
    "from sklearn import tree\n",
    "import sklearn.metrics as metrics\n",
    "from sklearn.metrics import confusion_matrix, recall_score, precision_score, roc_auc_score,roc_curve, auc,matthews_corrcoef,f1_score,brier_score_loss,make_scorer\n",
    " \n",
    "from sklearn.decomposition import PCA"
   ]
  },
  {
   "cell_type": "code",
   "execution_count": 2,
   "metadata": {},
   "outputs": [],
   "source": [
    "#reading csv files\n",
    "X_train=pd.read_csv('X_train_F.csv')\n",
    "Y_train=pd.read_csv('Y_train_F.csv')\n",
    "X_test=pd.read_csv('X_test_F.csv')\n",
    "Y_test=pd.read_csv('Y_test_F.csv')"
   ]
  },
  {
   "cell_type": "code",
   "execution_count": 3,
   "metadata": {},
   "outputs": [],
   "source": [
    "X_Data=pd.read_csv('X_Data.csv')\n",
    "Y_Data=pd.read_csv('Y_Data.csv')"
   ]
  },
  {
   "cell_type": "code",
   "execution_count": 4,
   "metadata": {},
   "outputs": [],
   "source": [
    "X_train= X_train[:70000]\n",
    "Y_train=Y_train[:70000]"
   ]
  },
  {
   "cell_type": "code",
   "execution_count": 5,
   "metadata": {},
   "outputs": [],
   "source": [
    "#SDG Classifier"
   ]
  },
  {
   "cell_type": "code",
   "execution_count": 6,
   "metadata": {},
   "outputs": [],
   "source": [
    "from sklearn.preprocessing import StandardScaler"
   ]
  },
  {
   "cell_type": "code",
   "execution_count": 7,
   "metadata": {},
   "outputs": [],
   "source": [
    "#lets try with first default value\n",
    "clf = SGDClassifier(loss=\"log\",class_weight=\"balanced\")\n",
    "pca = PCA(.96)\n",
    "pipeline_SD = Pipeline([('feature_sele',pca),('clf',clf)])\n"
   ]
  },
  {
   "cell_type": "code",
   "execution_count": 8,
   "metadata": {},
   "outputs": [],
   "source": [
    "pipeline_SD.fit(X_train,Y_train.values.ravel())\n",
    "y_trainpredprobem=pipeline_SD.predict_proba(X_train)\n",
    "y_testpredprobem =pipeline_SD.predict_proba(X_test)"
   ]
  },
  {
   "cell_type": "code",
   "execution_count": 9,
   "metadata": {},
   "outputs": [
    {
     "name": "stdout",
     "output_type": "stream",
     "text": [
      "auc of train with default parameter: 0.501071880367776\n",
      "auc of test with  default parameter: 0.673548598113101\n"
     ]
    }
   ],
   "source": [
    "#auc score with default values\n",
    "print('auc of train with default parameter:',roc_auc_score(Y_train,y_trainpredprobem[:,1]))\n",
    "print('auc of test with  default parameter:',roc_auc_score(Y_test,y_testpredprobem[:,1]))"
   ]
  },
  {
   "cell_type": "code",
   "execution_count": 10,
   "metadata": {},
   "outputs": [
    {
     "name": "stdout",
     "output_type": "stream",
     "text": [
      "brier_score_loss: 0.3160322721602227\n"
     ]
    }
   ],
   "source": [
    "print('brier_score_loss:',brier_score_loss(Y_test,y_testpredprobem[:,1]))"
   ]
  },
  {
   "cell_type": "code",
   "execution_count": 11,
   "metadata": {},
   "outputs": [
    {
     "name": "stdout",
     "output_type": "stream",
     "text": [
      "Recall:\n",
      " 0.6746949261400128\n",
      "matthews_corrcoef:\n",
      " 0.13979987583087938\n"
     ]
    }
   ],
   "source": [
    "y_testpred_ =pipeline_SD.predict(X_test)\n",
    "print(\"Recall:\\n\",metrics.recall_score(Y_test,y_testpred_))\n",
    "print(\"matthews_corrcoef:\\n\",matthews_corrcoef(Y_test, y_testpred_))"
   ]
  },
  {
   "cell_type": "code",
   "execution_count": 14,
   "metadata": {},
   "outputs": [],
   "source": [
    "##GridsearchCV with Timeseries\n",
    "\n",
    "time_splitter_outer = TimeSeriesSplit(n_splits = 10)\n",
    "time_splitter_inner = TimeSeriesSplit(n_splits = 5)\n",
    "\n",
    "model = SGDClassifier(loss=\"log\",class_weight=\"balanced\")\n",
    "params = {\n",
    "         'alpha':[10**-6,10**-5,10**-4,10**-3,10**-2,10**-1,10**0,10**1,10**2,10**3],#learning rate\n",
    "         'penalty':['l1','l2']\n",
    "         }\n",
    "\n",
    "pca = PCA(.96)\n",
    "gs_SD = GridSearchCV(model, param_grid = params, cv = time_splitter_inner, scoring = 'roc_auc',verbose=10, n_jobs=-1)\n",
    "\n",
    "pipelineSD  = Pipeline([('feature_sele',pca),\n",
    "                      ('clf_cv',gs_SD)])"
   ]
  },
  {
   "cell_type": "code",
   "execution_count": 15,
   "metadata": {},
   "outputs": [
    {
     "name": "stdout",
     "output_type": "stream",
     "text": [
      "Fitting 5 folds for each of 20 candidates, totalling 100 fits\n"
     ]
    },
    {
     "name": "stderr",
     "output_type": "stream",
     "text": [
      "[Parallel(n_jobs=-1)]: Using backend LokyBackend with 8 concurrent workers.\n",
      "[Parallel(n_jobs=-1)]: Done   2 tasks      | elapsed:    1.6s\n",
      "[Parallel(n_jobs=-1)]: Done   9 tasks      | elapsed:    2.1s\n",
      "[Parallel(n_jobs=-1)]: Done  16 tasks      | elapsed:    2.6s\n",
      "[Parallel(n_jobs=-1)]: Done  25 tasks      | elapsed:    3.3s\n",
      "[Parallel(n_jobs=-1)]: Done  34 tasks      | elapsed:    5.2s\n",
      "[Parallel(n_jobs=-1)]: Done  45 tasks      | elapsed:   11.4s\n",
      "[Parallel(n_jobs=-1)]: Done  56 tasks      | elapsed:   13.5s\n",
      "[Parallel(n_jobs=-1)]: Done  69 tasks      | elapsed:   14.9s\n",
      "[Parallel(n_jobs=-1)]: Done  82 tasks      | elapsed:   15.6s\n",
      "[Parallel(n_jobs=-1)]: Done  96 out of 100 | elapsed:   17.8s remaining:    0.7s\n",
      "[Parallel(n_jobs=-1)]: Done 100 out of 100 | elapsed:   32.9s finished\n"
     ]
    },
    {
     "data": {
      "text/plain": [
       "Pipeline(steps=[('feature_sele', PCA(n_components=0.96)),\n",
       "                ('clf_cv',\n",
       "                 GridSearchCV(cv=TimeSeriesSplit(max_train_size=None, n_splits=5),\n",
       "                              estimator=SGDClassifier(class_weight='balanced',\n",
       "                                                      loss='log'),\n",
       "                              n_jobs=-1,\n",
       "                              param_grid={'alpha': [1e-06, 1e-05, 0.0001, 0.001,\n",
       "                                                    0.01, 0.1, 1, 10, 100,\n",
       "                                                    1000],\n",
       "                                          'penalty': ['l1', 'l2']},\n",
       "                              scoring='roc_auc', verbose=10))])"
      ]
     },
     "execution_count": 15,
     "metadata": {},
     "output_type": "execute_result"
    }
   ],
   "source": [
    "pipelineSD.fit(X_Data,Y_Data.values.ravel())"
   ]
  },
  {
   "cell_type": "code",
   "execution_count": 16,
   "metadata": {},
   "outputs": [
    {
     "name": "stdout",
     "output_type": "stream",
     "text": [
      "Fitting 5 folds for each of 20 candidates, totalling 100 fits\n"
     ]
    },
    {
     "name": "stderr",
     "output_type": "stream",
     "text": [
      "[Parallel(n_jobs=-1)]: Using backend LokyBackend with 8 concurrent workers.\n",
      "[Parallel(n_jobs=-1)]: Batch computation too fast (0.0204s.) Setting batch_size=2.\n",
      "[Parallel(n_jobs=-1)]: Done   2 tasks      | elapsed:    0.0s\n",
      "[Parallel(n_jobs=-1)]: Done   9 tasks      | elapsed:    0.1s\n",
      "[Parallel(n_jobs=-1)]: Batch computation too fast (0.0919s.) Setting batch_size=4.\n",
      "[Parallel(n_jobs=-1)]: Done  18 tasks      | elapsed:    0.2s\n",
      "[Parallel(n_jobs=-1)]: Done  34 tasks      | elapsed:    0.3s\n",
      "[Parallel(n_jobs=-1)]: Done  62 tasks      | elapsed:    0.5s\n",
      "[Parallel(n_jobs=-1)]: Done  76 tasks      | elapsed:    0.6s\n",
      "[Parallel(n_jobs=-1)]: Done  85 out of 100 | elapsed:    0.6s remaining:    0.1s\n",
      "[Parallel(n_jobs=-1)]: Done  96 out of 100 | elapsed:    0.9s remaining:    0.0s\n",
      "[Parallel(n_jobs=-1)]: Done 100 out of 100 | elapsed:    1.6s finished\n"
     ]
    },
    {
     "name": "stdout",
     "output_type": "stream",
     "text": [
      "Fitting 5 folds for each of 20 candidates, totalling 100 fits\n"
     ]
    },
    {
     "name": "stderr",
     "output_type": "stream",
     "text": [
      "[Parallel(n_jobs=-1)]: Using backend LokyBackend with 8 concurrent workers.\n",
      "[Parallel(n_jobs=-1)]: Batch computation too fast (0.0242s.) Setting batch_size=2.\n",
      "[Parallel(n_jobs=-1)]: Done   2 tasks      | elapsed:    0.0s\n",
      "[Parallel(n_jobs=-1)]: Done   9 tasks      | elapsed:    0.1s\n",
      "[Parallel(n_jobs=-1)]: Batch computation too fast (0.1962s.) Setting batch_size=4.\n",
      "[Parallel(n_jobs=-1)]: Done  18 tasks      | elapsed:    0.2s\n",
      "[Parallel(n_jobs=-1)]: Done  34 tasks      | elapsed:    0.5s\n",
      "[Parallel(n_jobs=-1)]: Done  59 tasks      | elapsed:    1.1s\n",
      "[Parallel(n_jobs=-1)]: Done  70 tasks      | elapsed:    1.3s\n",
      "[Parallel(n_jobs=-1)]: Done  96 out of 100 | elapsed:    1.9s remaining:    0.1s\n",
      "[Parallel(n_jobs=-1)]: Done 100 out of 100 | elapsed:    4.0s finished\n"
     ]
    },
    {
     "name": "stdout",
     "output_type": "stream",
     "text": [
      "Fitting 5 folds for each of 20 candidates, totalling 100 fits\n"
     ]
    },
    {
     "name": "stderr",
     "output_type": "stream",
     "text": [
      "[Parallel(n_jobs=-1)]: Using backend LokyBackend with 8 concurrent workers.\n",
      "[Parallel(n_jobs=-1)]: Batch computation too fast (0.0371s.) Setting batch_size=2.\n",
      "[Parallel(n_jobs=-1)]: Done   2 tasks      | elapsed:    0.1s\n",
      "[Parallel(n_jobs=-1)]: Done   9 tasks      | elapsed:    0.3s\n",
      "[Parallel(n_jobs=-1)]: Done  17 tasks      | elapsed:    0.5s\n",
      "[Parallel(n_jobs=-1)]: Done  34 tasks      | elapsed:    1.0s\n",
      "[Parallel(n_jobs=-1)]: Done  52 tasks      | elapsed:    1.5s\n",
      "[Parallel(n_jobs=-1)]: Done  74 tasks      | elapsed:    2.0s\n",
      "[Parallel(n_jobs=-1)]: Done  85 out of 100 | elapsed:    2.1s remaining:    0.4s\n",
      "[Parallel(n_jobs=-1)]: Done  96 out of 100 | elapsed:    2.6s remaining:    0.1s\n",
      "[Parallel(n_jobs=-1)]: Done 100 out of 100 | elapsed:    3.1s finished\n"
     ]
    },
    {
     "name": "stdout",
     "output_type": "stream",
     "text": [
      "Fitting 5 folds for each of 20 candidates, totalling 100 fits\n"
     ]
    },
    {
     "name": "stderr",
     "output_type": "stream",
     "text": [
      "[Parallel(n_jobs=-1)]: Using backend LokyBackend with 8 concurrent workers.\n",
      "[Parallel(n_jobs=-1)]: Batch computation too fast (0.0760s.) Setting batch_size=2.\n",
      "[Parallel(n_jobs=-1)]: Done   2 tasks      | elapsed:    0.1s\n",
      "[Parallel(n_jobs=-1)]: Done   9 tasks      | elapsed:    0.4s\n",
      "[Parallel(n_jobs=-1)]: Done  17 tasks      | elapsed:    0.7s\n",
      "[Parallel(n_jobs=-1)]: Done  34 tasks      | elapsed:    1.5s\n",
      "[Parallel(n_jobs=-1)]: Done  52 tasks      | elapsed:    2.3s\n",
      "[Parallel(n_jobs=-1)]: Done  74 tasks      | elapsed:    2.9s\n",
      "[Parallel(n_jobs=-1)]: Done  96 out of 100 | elapsed:    3.4s remaining:    0.1s\n",
      "[Parallel(n_jobs=-1)]: Done 100 out of 100 | elapsed:    8.6s finished\n"
     ]
    },
    {
     "name": "stdout",
     "output_type": "stream",
     "text": [
      "Fitting 5 folds for each of 20 candidates, totalling 100 fits\n"
     ]
    },
    {
     "name": "stderr",
     "output_type": "stream",
     "text": [
      "[Parallel(n_jobs=-1)]: Using backend LokyBackend with 8 concurrent workers.\n",
      "[Parallel(n_jobs=-1)]: Batch computation too fast (0.0619s.) Setting batch_size=2.\n",
      "[Parallel(n_jobs=-1)]: Done   2 tasks      | elapsed:    0.1s\n",
      "[Parallel(n_jobs=-1)]: Done   9 tasks      | elapsed:    0.4s\n",
      "[Parallel(n_jobs=-1)]: Done  18 tasks      | elapsed:    0.8s\n",
      "[Parallel(n_jobs=-1)]: Done  34 tasks      | elapsed:    1.6s\n",
      "[Parallel(n_jobs=-1)]: Done  52 tasks      | elapsed:    2.6s\n",
      "[Parallel(n_jobs=-1)]: Done  74 tasks      | elapsed:    3.1s\n",
      "[Parallel(n_jobs=-1)]: Done  85 out of 100 | elapsed:    3.2s remaining:    0.6s\n",
      "[Parallel(n_jobs=-1)]: Done  96 out of 100 | elapsed:    8.1s remaining:    0.3s\n",
      "[Parallel(n_jobs=-1)]: Done 100 out of 100 | elapsed:    8.4s finished\n"
     ]
    },
    {
     "name": "stdout",
     "output_type": "stream",
     "text": [
      "Fitting 5 folds for each of 20 candidates, totalling 100 fits\n"
     ]
    },
    {
     "name": "stderr",
     "output_type": "stream",
     "text": [
      "[Parallel(n_jobs=-1)]: Using backend LokyBackend with 8 concurrent workers.\n",
      "[Parallel(n_jobs=-1)]: Batch computation too fast (0.0797s.) Setting batch_size=2.\n",
      "[Parallel(n_jobs=-1)]: Done   2 tasks      | elapsed:    0.2s\n",
      "[Parallel(n_jobs=-1)]: Done   9 tasks      | elapsed:    0.4s\n",
      "[Parallel(n_jobs=-1)]: Done  19 tasks      | elapsed:    0.8s\n",
      "[Parallel(n_jobs=-1)]: Done  34 tasks      | elapsed:    2.2s\n",
      "[Parallel(n_jobs=-1)]: Done  52 tasks      | elapsed:    2.8s\n",
      "[Parallel(n_jobs=-1)]: Done  74 tasks      | elapsed:    3.7s\n",
      "[Parallel(n_jobs=-1)]: Done  85 out of 100 | elapsed:    3.9s remaining:    0.7s\n",
      "[Parallel(n_jobs=-1)]: Done  96 out of 100 | elapsed:    8.9s remaining:    0.4s\n",
      "[Parallel(n_jobs=-1)]: Done 100 out of 100 | elapsed:   12.0s finished\n"
     ]
    },
    {
     "name": "stdout",
     "output_type": "stream",
     "text": [
      "Fitting 5 folds for each of 20 candidates, totalling 100 fits\n"
     ]
    },
    {
     "name": "stderr",
     "output_type": "stream",
     "text": [
      "[Parallel(n_jobs=-1)]: Using backend LokyBackend with 8 concurrent workers.\n",
      "[Parallel(n_jobs=-1)]: Batch computation too fast (0.0965s.) Setting batch_size=2.\n",
      "[Parallel(n_jobs=-1)]: Done   2 tasks      | elapsed:    0.1s\n",
      "[Parallel(n_jobs=-1)]: Done   9 tasks      | elapsed:    0.6s\n",
      "[Parallel(n_jobs=-1)]: Done  16 tasks      | elapsed:    1.2s\n",
      "[Parallel(n_jobs=-1)]: Done  34 tasks      | elapsed:    2.2s\n",
      "[Parallel(n_jobs=-1)]: Done  52 tasks      | elapsed:    3.1s\n",
      "[Parallel(n_jobs=-1)]: Done  74 tasks      | elapsed:    4.2s\n",
      "[Parallel(n_jobs=-1)]: Done  85 out of 100 | elapsed:    4.6s remaining:    0.8s\n",
      "[Parallel(n_jobs=-1)]: Done  96 out of 100 | elapsed:   11.3s remaining:    0.5s\n",
      "[Parallel(n_jobs=-1)]: Done 100 out of 100 | elapsed:   12.8s finished\n"
     ]
    },
    {
     "name": "stdout",
     "output_type": "stream",
     "text": [
      "Fitting 5 folds for each of 20 candidates, totalling 100 fits\n"
     ]
    },
    {
     "name": "stderr",
     "output_type": "stream",
     "text": [
      "[Parallel(n_jobs=-1)]: Using backend LokyBackend with 8 concurrent workers.\n",
      "[Parallel(n_jobs=-1)]: Batch computation too fast (0.1323s.) Setting batch_size=2.\n",
      "[Parallel(n_jobs=-1)]: Done   2 tasks      | elapsed:    0.2s\n",
      "[Parallel(n_jobs=-1)]: Done   9 tasks      | elapsed:    0.4s\n",
      "[Parallel(n_jobs=-1)]: Done  17 tasks      | elapsed:    1.0s\n",
      "[Parallel(n_jobs=-1)]: Done  35 tasks      | elapsed:    2.7s\n",
      "[Parallel(n_jobs=-1)]: Done  52 tasks      | elapsed:   13.0s\n",
      "[Parallel(n_jobs=-1)]: Batch computation too slow (3.9354s.) Setting batch_size=1.\n",
      "[Parallel(n_jobs=-1)]: Done  74 tasks      | elapsed:   14.0s\n",
      "[Parallel(n_jobs=-1)]: Done  85 out of 100 | elapsed:   14.2s remaining:    2.5s\n",
      "[Parallel(n_jobs=-1)]: Done  96 out of 100 | elapsed:   17.1s remaining:    0.7s\n",
      "[Parallel(n_jobs=-1)]: Done 100 out of 100 | elapsed:   22.8s finished\n"
     ]
    },
    {
     "name": "stdout",
     "output_type": "stream",
     "text": [
      "Fitting 5 folds for each of 20 candidates, totalling 100 fits\n"
     ]
    },
    {
     "name": "stderr",
     "output_type": "stream",
     "text": [
      "[Parallel(n_jobs=-1)]: Using backend LokyBackend with 8 concurrent workers.\n",
      "[Parallel(n_jobs=-1)]: Batch computation too fast (0.1093s.) Setting batch_size=2.\n",
      "[Parallel(n_jobs=-1)]: Done   2 tasks      | elapsed:    0.2s\n",
      "[Parallel(n_jobs=-1)]: Done   9 tasks      | elapsed:    0.6s\n",
      "[Parallel(n_jobs=-1)]: Done  17 tasks      | elapsed:    1.3s\n",
      "[Parallel(n_jobs=-1)]: Done  35 tasks      | elapsed:    2.8s\n",
      "[Parallel(n_jobs=-1)]: Done  52 tasks      | elapsed:    5.1s\n",
      "[Parallel(n_jobs=-1)]: Batch computation too slow (2.0005s.) Setting batch_size=1.\n",
      "[Parallel(n_jobs=-1)]: Done  74 tasks      | elapsed:   11.4s\n",
      "[Parallel(n_jobs=-1)]: Done  85 out of 100 | elapsed:   12.4s remaining:    2.2s\n",
      "[Parallel(n_jobs=-1)]: Done  96 out of 100 | elapsed:   19.3s remaining:    0.8s\n",
      "[Parallel(n_jobs=-1)]: Done 100 out of 100 | elapsed:   24.0s finished\n"
     ]
    },
    {
     "name": "stdout",
     "output_type": "stream",
     "text": [
      "Fitting 5 folds for each of 20 candidates, totalling 100 fits\n"
     ]
    },
    {
     "name": "stderr",
     "output_type": "stream",
     "text": [
      "[Parallel(n_jobs=-1)]: Using backend LokyBackend with 8 concurrent workers.\n",
      "[Parallel(n_jobs=-1)]: Batch computation too fast (0.1069s.) Setting batch_size=2.\n",
      "[Parallel(n_jobs=-1)]: Done   2 tasks      | elapsed:    0.1s\n",
      "[Parallel(n_jobs=-1)]: Done   9 tasks      | elapsed:    0.4s\n",
      "[Parallel(n_jobs=-1)]: Done  18 tasks      | elapsed:    1.4s\n",
      "[Parallel(n_jobs=-1)]: Batch computation too slow (2.4240s.) Setting batch_size=1.\n",
      "[Parallel(n_jobs=-1)]: Done  36 tasks      | elapsed:    9.0s\n",
      "[Parallel(n_jobs=-1)]: Done  52 tasks      | elapsed:   11.3s\n",
      "[Parallel(n_jobs=-1)]: Done  64 tasks      | elapsed:   12.6s\n",
      "[Parallel(n_jobs=-1)]: Done  75 tasks      | elapsed:   13.5s\n",
      "[Parallel(n_jobs=-1)]: Done  96 out of 100 | elapsed:   16.0s remaining:    0.7s\n",
      "[Parallel(n_jobs=-1)]: Done 100 out of 100 | elapsed:   24.5s finished\n"
     ]
    }
   ],
   "source": [
    "custom_scorer = {\n",
    "                 'recall': make_scorer(recall_score),\n",
    "                 'Brier': make_scorer(brier_score_loss),\n",
    "                 'Matthewscorrcoef': make_scorer(matthews_corrcoef),\n",
    "                 'ROC_AUC': make_scorer(roc_auc_score)\n",
    "                 }\n",
    "SD_scores = cross_validate(pipelineSD,X_Data,Y_Data.values.ravel(),cv = time_splitter_outer, scoring = custom_scorer)"
   ]
  },
  {
   "cell_type": "code",
   "execution_count": 17,
   "metadata": {},
   "outputs": [
    {
     "data": {
      "text/plain": [
       "['fit_time',\n",
       " 'score_time',\n",
       " 'test_Brier',\n",
       " 'test_Matthewscorrcoef',\n",
       " 'test_ROC_AUC',\n",
       " 'test_recall']"
      ]
     },
     "execution_count": 17,
     "metadata": {},
     "output_type": "execute_result"
    }
   ],
   "source": [
    "sorted(SD_scores.keys())"
   ]
  },
  {
   "cell_type": "code",
   "execution_count": 18,
   "metadata": {},
   "outputs": [],
   "source": [
    "SD_time=SD_scores['fit_time']\n",
    "SD_recall = SD_scores['test_recall']\n",
    "SD_Brier = SD_scores['test_Brier']\n",
    "SD_Matthewscorrcoef = SD_scores['test_Matthewscorrcoef']\n",
    "SD_ROC_AUC = SD_scores['test_ROC_AUC']"
   ]
  },
  {
   "cell_type": "code",
   "execution_count": 19,
   "metadata": {},
   "outputs": [
    {
     "name": "stdout",
     "output_type": "stream",
     "text": [
      "=== All recall Scores ===\n",
      "[0.65053763 0.57541899 0.60732984 0.645      0.62146893 0.59195402\n",
      " 0.63963964 0.6407767  0.60683761 0.56353591]\n",
      "=== All Brier Scores ===\n",
      "[0.42008487 0.24139557 0.22976583 0.24453874 0.31573157 0.22662266\n",
      " 0.29671539 0.25742574 0.24893918 0.24422442]\n",
      "=== All Matthewscorrcoef Scores ===\n",
      "[0.07771535 0.13034011 0.15370322 0.16202758 0.10819504 0.14319721\n",
      " 0.09814617 0.15481906 0.11145821 0.12511367]\n",
      "=== All ROC_AUC  Scores ===\n",
      "[0.6141631  0.66966293 0.69130264 0.70202296 0.65376712 0.68521598\n",
      " 0.67202711 0.69337844 0.68030001 0.66246999]\n",
      "=== All fit_time ===\n",
      "[ 1.98477006  4.41726708  3.64722514  9.24949074  9.14145994 13.03864694\n",
      " 13.78394079 24.18591499 25.61284804 26.14775229]\n"
     ]
    }
   ],
   "source": [
    "print(\"=== All recall Scores ===\")\n",
    "print(SD_recall)\n",
    "print(\"=== All Brier Scores ===\")\n",
    "print(SD_Brier)\n",
    "print(\"=== All Matthewscorrcoef Scores ===\")\n",
    "print(SD_Matthewscorrcoef)\n",
    "print(\"=== All ROC_AUC  Scores ===\")\n",
    "print(SD_ROC_AUC )\n",
    "print(\"=== All fit_time ===\")\n",
    "print(SD_time )"
   ]
  },
  {
   "cell_type": "code",
   "execution_count": 20,
   "metadata": {},
   "outputs": [
    {
     "name": "stdout",
     "output_type": "stream",
     "text": [
      "=== Mean recall Score ===\n",
      "0.6142499278404707\n",
      "=== Mean Brier Score ===\n",
      "0.2725443972968726\n",
      "=== Mean Matthewscorrcoef  Score ===\n",
      "0.1264715628086997\n",
      "=== Mean ROC_AUC  Scores ===\n",
      "0.6724310286123917\n",
      "=== Mean fit_time===\n",
      "13.120931601524353\n"
     ]
    }
   ],
   "source": [
    "print(\"=== Mean recall Score ===\")\n",
    "print( SD_recall.mean())\n",
    "print(\"=== Mean Brier Score ===\")\n",
    "print( SD_Brier.mean())\n",
    "print(\"=== Mean Matthewscorrcoef  Score ===\")\n",
    "print( SD_Matthewscorrcoef .mean())\n",
    "print(\"=== Mean ROC_AUC  Scores ===\")\n",
    "print(SD_ROC_AUC .mean())\n",
    "print(\"=== Mean fit_time===\")\n",
    "print(SD_time .mean())"
   ]
  },
  {
   "cell_type": "code",
   "execution_count": 21,
   "metadata": {},
   "outputs": [
    {
     "name": "stdout",
     "output_type": "stream",
     "text": [
      "=== Minimum recall Score ===\n",
      "0.56353591160221\n",
      "=== Minimum Brier Score ===\n",
      "0.22662266226622663\n",
      "=== Minimum Matthewscorrcoef  Score ===\n",
      "0.07771534899406542\n",
      "=== Minimum ROC_AUC  Score ===\n",
      "0.6141631024560413\n",
      "=== Minimum RF_time  ===\n",
      "1.9847700595855713\n"
     ]
    }
   ],
   "source": [
    "print(\"=== Minimum recall Score ===\")\n",
    "print( SD_recall.min())\n",
    "print(\"=== Minimum Brier Score ===\")\n",
    "print(  SD_Brier.min())\n",
    "print(\"=== Minimum Matthewscorrcoef  Score ===\")\n",
    "print(  SD_Matthewscorrcoef.min())\n",
    "print(\"=== Minimum ROC_AUC  Score ===\")\n",
    "print(  SD_ROC_AUC.min())\n",
    "print(\"=== Minimum RF_time  ===\")\n",
    "print(  SD_time.min())"
   ]
  },
  {
   "cell_type": "code",
   "execution_count": 22,
   "metadata": {},
   "outputs": [
    {
     "name": "stdout",
     "output_type": "stream",
     "text": [
      "=== Maximum recall Score ===\n",
      "0.6505376344086021\n",
      "=== Minimum Brier Score ===\n",
      "0.22662266226622663\n",
      "=== Maximum Matthewscorrcoef  Score ===\n",
      "0.16202758409710472\n",
      "=== Maximum ROC_AUC  Scores ===\n",
      "0.7020229595975985\n",
      "=== Maximum fit_time ===\n",
      "26.147752285003662\n"
     ]
    }
   ],
   "source": [
    "print(\"=== Maximum recall Score ===\")\n",
    "print( SD_recall.max())\n",
    "print(\"=== Minimum Brier Score ===\")\n",
    "print( SD_Brier.min())\n",
    "print(\"=== Maximum Matthewscorrcoef  Score ===\")\n",
    "print( SD_Matthewscorrcoef .max())\n",
    "print(\"=== Maximum ROC_AUC  Scores ===\")\n",
    "print(SD_ROC_AUC .max())\n",
    "print(\"=== Maximum fit_time ===\")\n",
    "print(SD_time .max())"
   ]
  },
  {
   "cell_type": "code",
   "execution_count": null,
   "metadata": {},
   "outputs": [],
   "source": []
  }
 ],
 "metadata": {
  "kernelspec": {
   "display_name": "Python 3",
   "language": "python",
   "name": "python3"
  },
  "language_info": {
   "codemirror_mode": {
    "name": "ipython",
    "version": 3
   },
   "file_extension": ".py",
   "mimetype": "text/x-python",
   "name": "python",
   "nbconvert_exporter": "python",
   "pygments_lexer": "ipython3",
   "version": "3.7.7"
  }
 },
 "nbformat": 4,
 "nbformat_minor": 4
}
